{
  "nbformat": 4,
  "nbformat_minor": 0,
  "metadata": {
    "colab": {
      "provenance": []
    },
    "kernelspec": {
      "name": "python3",
      "display_name": "Python 3"
    },
    "language_info": {
      "name": "python"
    }
  },
  "cells": [
    {
      "cell_type": "markdown",
      "source": [
        "# Install spark"
      ],
      "metadata": {
        "id": "TI5_0iwlHfVQ"
      }
    },
    {
      "cell_type": "code",
      "source": [
        "#!pip install pyspark"
      ],
      "metadata": {
        "colab": {
          "base_uri": "https://localhost:8080/"
        },
        "id": "4q5nVszmsL69",
        "outputId": "b5696ea3-5741-4d70-a9f9-fc1776432b4f"
      },
      "execution_count": 2,
      "outputs": [
        {
          "output_type": "stream",
          "name": "stdout",
          "text": [
            "Looking in indexes: https://pypi.org/simple, https://us-python.pkg.dev/colab-wheels/public/simple/\n",
            "Collecting pyspark\n",
            "  Downloading pyspark-3.3.2.tar.gz (281.4 MB)\n",
            "\u001b[2K     \u001b[90m━━━━━━━━━━━━━━━━━━━━━━━━━━━━━━━━━━━━━━━\u001b[0m \u001b[32m281.4/281.4 MB\u001b[0m \u001b[31m4.6 MB/s\u001b[0m eta \u001b[36m0:00:00\u001b[0m\n",
            "\u001b[?25h  Preparing metadata (setup.py) ... \u001b[?25l\u001b[?25hdone\n",
            "Collecting py4j==0.10.9.5\n",
            "  Downloading py4j-0.10.9.5-py2.py3-none-any.whl (199 kB)\n",
            "\u001b[2K     \u001b[90m━━━━━━━━━━━━━━━━━━━━━━━━━━━━━━━━━━━━━━\u001b[0m \u001b[32m199.7/199.7 kB\u001b[0m \u001b[31m16.9 MB/s\u001b[0m eta \u001b[36m0:00:00\u001b[0m\n",
            "\u001b[?25hBuilding wheels for collected packages: pyspark\n",
            "  Building wheel for pyspark (setup.py) ... \u001b[?25l\u001b[?25hdone\n",
            "  Created wheel for pyspark: filename=pyspark-3.3.2-py2.py3-none-any.whl size=281824028 sha256=95f1bcc125a33b55675582f56aecefc7d91e769199128937fb1b322de7ced568\n",
            "  Stored in directory: /root/.cache/pip/wheels/6c/e3/9b/0525ce8a69478916513509d43693511463c6468db0de237c86\n",
            "Successfully built pyspark\n",
            "Installing collected packages: py4j, pyspark\n",
            "  Attempting uninstall: py4j\n",
            "    Found existing installation: py4j 0.10.9.7\n",
            "    Uninstalling py4j-0.10.9.7:\n",
            "      Successfully uninstalled py4j-0.10.9.7\n",
            "Successfully installed py4j-0.10.9.5 pyspark-3.3.2\n"
          ]
        }
      ]
    },
    {
      "cell_type": "code",
      "execution_count": 1,
      "metadata": {
        "id": "EiYKm7dZr-tR"
      },
      "outputs": [],
      "source": [
        "import pyspark"
      ]
    },
    {
      "cell_type": "markdown",
      "source": [
        "# Create spark session"
      ],
      "metadata": {
        "id": "Mlh6cHTzHnYm"
      }
    },
    {
      "cell_type": "code",
      "source": [
        "from pyspark.sql import SparkSession"
      ],
      "metadata": {
        "id": "ly1O00eysH7Z"
      },
      "execution_count": 2,
      "outputs": []
    },
    {
      "cell_type": "code",
      "source": [
        "spark = SparkSession.builder \\\n",
        "                    .appName(\"Python Spark Tutorial\") \\\n",
        "                    .getOrCreate()"
      ],
      "metadata": {
        "id": "9vs8rdpjscdB"
      },
      "execution_count": 3,
      "outputs": []
    },
    {
      "cell_type": "code",
      "source": [
        "!wget -qnc https://bin.equinox.io/c/4VmDzA7iaHb/ngrok-stable-linux-amd64.zip\n",
        "!unzip -n -q ngrok-stable-linux-amd64.zip\n",
        "get_ipython().system_raw('./ngrok http 4050 &')\n",
        "!sleep 5\n",
        "!curl -s http://localhost:4040/api/tunnels | grep -Po 'public_url\":\"(?=https)\\K[^\"]*'\n",
        "!ngrok authtoken 2OFWifpVdk7YC2a5wJeQ61ZuM3m_3ww2UMdg6TDWe29yG6v7B"
      ],
      "metadata": {
        "colab": {
          "base_uri": "https://localhost:8080/"
        },
        "id": "-4IO5MZuwpbt",
        "outputId": "f88ee2b0-ec18-4841-f741-02b4e775e557"
      },
      "execution_count": 8,
      "outputs": [
        {
          "output_type": "stream",
          "name": "stdout",
          "text": [
            "https://4a6e-34-69-93-208.ngrok.io\n",
            "/bin/bash: ngrok: command not found\n"
          ]
        }
      ]
    },
    {
      "cell_type": "code",
      "source": [
        "spark"
      ],
      "metadata": {
        "colab": {
          "base_uri": "https://localhost:8080/",
          "height": 219
        },
        "id": "QOPb4-oFtIQn",
        "outputId": "29b01a90-33b8-4a9c-da17-83aa7fb39880"
      },
      "execution_count": 4,
      "outputs": [
        {
          "output_type": "execute_result",
          "data": {
            "text/plain": [
              "<pyspark.sql.session.SparkSession at 0x7f6f800e3d30>"
            ],
            "text/html": [
              "\n",
              "            <div>\n",
              "                <p><b>SparkSession - in-memory</b></p>\n",
              "                \n",
              "        <div>\n",
              "            <p><b>SparkContext</b></p>\n",
              "\n",
              "            <p><a href=\"http://3cad3e0f6c28:4040\">Spark UI</a></p>\n",
              "\n",
              "            <dl>\n",
              "              <dt>Version</dt>\n",
              "                <dd><code>v3.3.2</code></dd>\n",
              "              <dt>Master</dt>\n",
              "                <dd><code>local[*]</code></dd>\n",
              "              <dt>AppName</dt>\n",
              "                <dd><code>Python Spark Tutorial</code></dd>\n",
              "            </dl>\n",
              "        </div>\n",
              "        \n",
              "            </div>\n",
              "        "
            ]
          },
          "metadata": {},
          "execution_count": 4
        }
      ]
    },
    {
      "cell_type": "code",
      "source": [
        "spark= SparkSession.builder.getOrCreate()"
      ],
      "metadata": {
        "id": "kYoKMr4VtLwn"
      },
      "execution_count": 5,
      "outputs": []
    },
    {
      "cell_type": "code",
      "source": [
        "spark"
      ],
      "metadata": {
        "colab": {
          "base_uri": "https://localhost:8080/",
          "height": 219
        },
        "id": "sZrYzfm90rsZ",
        "outputId": "42f6c1db-036c-431e-fc1d-9136437ab8ca"
      },
      "execution_count": 6,
      "outputs": [
        {
          "output_type": "execute_result",
          "data": {
            "text/plain": [
              "<pyspark.sql.session.SparkSession at 0x7f6f800e3d30>"
            ],
            "text/html": [
              "\n",
              "            <div>\n",
              "                <p><b>SparkSession - in-memory</b></p>\n",
              "                \n",
              "        <div>\n",
              "            <p><b>SparkContext</b></p>\n",
              "\n",
              "            <p><a href=\"http://3cad3e0f6c28:4040\">Spark UI</a></p>\n",
              "\n",
              "            <dl>\n",
              "              <dt>Version</dt>\n",
              "                <dd><code>v3.3.2</code></dd>\n",
              "              <dt>Master</dt>\n",
              "                <dd><code>local[*]</code></dd>\n",
              "              <dt>AppName</dt>\n",
              "                <dd><code>Python Spark Tutorial</code></dd>\n",
              "            </dl>\n",
              "        </div>\n",
              "        \n",
              "            </div>\n",
              "        "
            ]
          },
          "metadata": {},
          "execution_count": 6
        }
      ]
    },
    {
      "cell_type": "code",
      "source": [
        "from datetime import date"
      ],
      "metadata": {
        "id": "qJicVa7h0s1a"
      },
      "execution_count": 7,
      "outputs": []
    },
    {
      "cell_type": "code",
      "source": [
        "df= spark.createDataFrame([ \n",
        "    ('Red', 1, 'Apple', date(2021,1,1)),\n",
        "    ('Black', 1, 'Grape', date(2021,2,1)),\n",
        "    ('Yellow', 1, 'Banana', date(2021,3,1)),\n",
        "], schema = \"color string, sr_no long, fruit string, datet date\"\n",
        ")"
      ],
      "metadata": {
        "id": "sXS9w9ZU1Ptd"
      },
      "execution_count": 9,
      "outputs": []
    },
    {
      "cell_type": "code",
      "source": [
        "df.show()"
      ],
      "metadata": {
        "colab": {
          "base_uri": "https://localhost:8080/"
        },
        "id": "A1htsEyX2m18",
        "outputId": "5755ccb4-1250-4eab-855c-4ce2e2af83fb"
      },
      "execution_count": 10,
      "outputs": [
        {
          "output_type": "stream",
          "name": "stdout",
          "text": [
            "+------+-----+------+----------+\n",
            "| color|sr_no| fruit|     datet|\n",
            "+------+-----+------+----------+\n",
            "|   Red|    1| Apple|2021-01-01|\n",
            "| Black|    1| Grape|2021-02-01|\n",
            "|Yellow|    1|Banana|2021-03-01|\n",
            "+------+-----+------+----------+\n",
            "\n"
          ]
        }
      ]
    },
    {
      "cell_type": "code",
      "source": [
        "df.show(1)"
      ],
      "metadata": {
        "colab": {
          "base_uri": "https://localhost:8080/"
        },
        "id": "2lvXtEY53rrc",
        "outputId": "096d644d-3c88-4411-81ce-88d65fe5b418"
      },
      "execution_count": 13,
      "outputs": [
        {
          "output_type": "stream",
          "name": "stdout",
          "text": [
            "+-----+-----+-----+----------+\n",
            "|color|sr_no|fruit|     datet|\n",
            "+-----+-----+-----+----------+\n",
            "|  Red|    1|Apple|2021-01-01|\n",
            "+-----+-----+-----+----------+\n",
            "only showing top 1 row\n",
            "\n"
          ]
        }
      ]
    },
    {
      "cell_type": "code",
      "source": [
        "df.dtypes"
      ],
      "metadata": {
        "colab": {
          "base_uri": "https://localhost:8080/"
        },
        "id": "1C6vKKxx2oPH",
        "outputId": "f17d1689-455e-4c95-ac27-0d1935922e8d"
      },
      "execution_count": 11,
      "outputs": [
        {
          "output_type": "execute_result",
          "data": {
            "text/plain": [
              "[('color', 'string'),\n",
              " ('sr_no', 'bigint'),\n",
              " ('fruit', 'string'),\n",
              " ('datet', 'date')]"
            ]
          },
          "metadata": {},
          "execution_count": 11
        }
      ]
    },
    {
      "cell_type": "code",
      "source": [
        "df.printSchema()"
      ],
      "metadata": {
        "colab": {
          "base_uri": "https://localhost:8080/"
        },
        "id": "MaonlRPA2rk4",
        "outputId": "bca9c92d-8fd4-429d-ad6b-da3765950e39"
      },
      "execution_count": 12,
      "outputs": [
        {
          "output_type": "stream",
          "name": "stdout",
          "text": [
            "root\n",
            " |-- color: string (nullable = true)\n",
            " |-- sr_no: long (nullable = true)\n",
            " |-- fruit: string (nullable = true)\n",
            " |-- datet: date (nullable = true)\n",
            "\n"
          ]
        }
      ]
    },
    {
      "cell_type": "markdown",
      "source": [
        "# Read csv"
      ],
      "metadata": {
        "id": "mqa7zkMj4THV"
      }
    },
    {
      "cell_type": "code",
      "source": [
        "df= spark.read.csv(\"/content/iris.csv\")\n",
        "df.show()"
      ],
      "metadata": {
        "colab": {
          "base_uri": "https://localhost:8080/"
        },
        "id": "mbAqeyjB2uF0",
        "outputId": "aa6b394a-8809-4ba4-8fa3-4d57a3b404f5"
      },
      "execution_count": 14,
      "outputs": [
        {
          "output_type": "stream",
          "name": "stdout",
          "text": [
            "+---+-------------+------------+-------------+------------+-----------+\n",
            "|_c0|          _c1|         _c2|          _c3|         _c4|        _c5|\n",
            "+---+-------------+------------+-------------+------------+-----------+\n",
            "| Id|SepalLengthCm|SepalWidthCm|PetalLengthCm|PetalWidthCm|    Species|\n",
            "|  1|          5.1|         3.5|          1.4|         0.2|Iris-setosa|\n",
            "|  2|          4.9|         3.0|          1.4|         0.2|Iris-setosa|\n",
            "|  3|          4.7|         3.2|          1.3|         0.2|Iris-setosa|\n",
            "|  4|          4.6|         3.1|          1.5|         0.2|Iris-setosa|\n",
            "|  5|          5.0|         3.6|          1.4|         0.2|Iris-setosa|\n",
            "|  6|          5.4|         3.9|          1.7|         0.4|Iris-setosa|\n",
            "|  7|          4.6|         3.4|          1.4|         0.3|Iris-setosa|\n",
            "|  8|          5.0|         3.4|          1.5|         0.2|Iris-setosa|\n",
            "|  9|          4.4|         2.9|          1.4|         0.2|Iris-setosa|\n",
            "| 10|          4.9|         3.1|          1.5|         0.1|Iris-setosa|\n",
            "| 11|          5.4|         3.7|          1.5|         0.2|Iris-setosa|\n",
            "| 12|          4.8|         3.4|          1.6|         0.2|Iris-setosa|\n",
            "| 13|          4.8|         3.0|          1.4|         0.1|Iris-setosa|\n",
            "| 14|          4.3|         3.0|          1.1|         0.1|Iris-setosa|\n",
            "| 15|          5.8|         4.0|          1.2|         0.2|Iris-setosa|\n",
            "| 16|          5.7|         4.4|          1.5|         0.4|Iris-setosa|\n",
            "| 17|          5.4|         3.9|          1.3|         0.4|Iris-setosa|\n",
            "| 18|          5.1|         3.5|          1.4|         0.3|Iris-setosa|\n",
            "| 19|          5.7|         3.8|          1.7|         0.3|Iris-setosa|\n",
            "+---+-------------+------------+-------------+------------+-----------+\n",
            "only showing top 20 rows\n",
            "\n"
          ]
        }
      ]
    },
    {
      "cell_type": "code",
      "source": [
        "df.printSchema()"
      ],
      "metadata": {
        "colab": {
          "base_uri": "https://localhost:8080/"
        },
        "id": "gwWILLWb42Ae",
        "outputId": "6a72bbd2-5da4-4372-92b4-4b14ac14c317"
      },
      "execution_count": 15,
      "outputs": [
        {
          "output_type": "stream",
          "name": "stdout",
          "text": [
            "root\n",
            " |-- _c0: string (nullable = true)\n",
            " |-- _c1: string (nullable = true)\n",
            " |-- _c2: string (nullable = true)\n",
            " |-- _c3: string (nullable = true)\n",
            " |-- _c4: string (nullable = true)\n",
            " |-- _c5: string (nullable = true)\n",
            "\n"
          ]
        }
      ]
    },
    {
      "cell_type": "code",
      "source": [
        "df1= spark.read.csv(\"/content/iris.csv\", inferSchema=True,header=True)\n",
        "df1.show()"
      ],
      "metadata": {
        "colab": {
          "base_uri": "https://localhost:8080/"
        },
        "outputId": "168751c7-fbe3-4a6d-cf9e-b48e05a35baa",
        "id": "tu8KqQj84-YH"
      },
      "execution_count": 16,
      "outputs": [
        {
          "output_type": "stream",
          "name": "stdout",
          "text": [
            "+---+-------------+------------+-------------+------------+-----------+\n",
            "| Id|SepalLengthCm|SepalWidthCm|PetalLengthCm|PetalWidthCm|    Species|\n",
            "+---+-------------+------------+-------------+------------+-----------+\n",
            "|  1|          5.1|         3.5|          1.4|         0.2|Iris-setosa|\n",
            "|  2|          4.9|         3.0|          1.4|         0.2|Iris-setosa|\n",
            "|  3|          4.7|         3.2|          1.3|         0.2|Iris-setosa|\n",
            "|  4|          4.6|         3.1|          1.5|         0.2|Iris-setosa|\n",
            "|  5|          5.0|         3.6|          1.4|         0.2|Iris-setosa|\n",
            "|  6|          5.4|         3.9|          1.7|         0.4|Iris-setosa|\n",
            "|  7|          4.6|         3.4|          1.4|         0.3|Iris-setosa|\n",
            "|  8|          5.0|         3.4|          1.5|         0.2|Iris-setosa|\n",
            "|  9|          4.4|         2.9|          1.4|         0.2|Iris-setosa|\n",
            "| 10|          4.9|         3.1|          1.5|         0.1|Iris-setosa|\n",
            "| 11|          5.4|         3.7|          1.5|         0.2|Iris-setosa|\n",
            "| 12|          4.8|         3.4|          1.6|         0.2|Iris-setosa|\n",
            "| 13|          4.8|         3.0|          1.4|         0.1|Iris-setosa|\n",
            "| 14|          4.3|         3.0|          1.1|         0.1|Iris-setosa|\n",
            "| 15|          5.8|         4.0|          1.2|         0.2|Iris-setosa|\n",
            "| 16|          5.7|         4.4|          1.5|         0.4|Iris-setosa|\n",
            "| 17|          5.4|         3.9|          1.3|         0.4|Iris-setosa|\n",
            "| 18|          5.1|         3.5|          1.4|         0.3|Iris-setosa|\n",
            "| 19|          5.7|         3.8|          1.7|         0.3|Iris-setosa|\n",
            "| 20|          5.1|         3.8|          1.5|         0.3|Iris-setosa|\n",
            "+---+-------------+------------+-------------+------------+-----------+\n",
            "only showing top 20 rows\n",
            "\n"
          ]
        }
      ]
    },
    {
      "cell_type": "code",
      "source": [
        "df1.columns"
      ],
      "metadata": {
        "colab": {
          "base_uri": "https://localhost:8080/"
        },
        "id": "105O4pq35atM",
        "outputId": "6d732c33-f5dc-4923-adee-7a5fdbdbd1a6"
      },
      "execution_count": 19,
      "outputs": [
        {
          "output_type": "execute_result",
          "data": {
            "text/plain": [
              "['Id',\n",
              " 'SepalLengthCm',\n",
              " 'SepalWidthCm',\n",
              " 'PetalLengthCm',\n",
              " 'PetalWidthCm',\n",
              " 'Species']"
            ]
          },
          "metadata": {},
          "execution_count": 19
        }
      ]
    },
    {
      "cell_type": "code",
      "source": [
        "df1.printSchema()"
      ],
      "metadata": {
        "colab": {
          "base_uri": "https://localhost:8080/"
        },
        "id": "7XIdTVvU5HRX",
        "outputId": "7341341c-5e25-4df4-93db-017bb9f34ea3"
      },
      "execution_count": 17,
      "outputs": [
        {
          "output_type": "stream",
          "name": "stdout",
          "text": [
            "root\n",
            " |-- Id: integer (nullable = true)\n",
            " |-- SepalLengthCm: double (nullable = true)\n",
            " |-- SepalWidthCm: double (nullable = true)\n",
            " |-- PetalLengthCm: double (nullable = true)\n",
            " |-- PetalWidthCm: double (nullable = true)\n",
            " |-- Species: string (nullable = true)\n",
            "\n"
          ]
        }
      ]
    },
    {
      "cell_type": "code",
      "source": [
        "df1.select(\"SepalLengthCm\").show()"
      ],
      "metadata": {
        "colab": {
          "base_uri": "https://localhost:8080/"
        },
        "id": "a9GiaN4h5Jgv",
        "outputId": "3bbfc947-bb46-4138-8dc1-b5f4b33bdbe1"
      },
      "execution_count": 18,
      "outputs": [
        {
          "output_type": "stream",
          "name": "stdout",
          "text": [
            "+-------------+\n",
            "|SepalLengthCm|\n",
            "+-------------+\n",
            "|          5.1|\n",
            "|          4.9|\n",
            "|          4.7|\n",
            "|          4.6|\n",
            "|          5.0|\n",
            "|          5.4|\n",
            "|          4.6|\n",
            "|          5.0|\n",
            "|          4.4|\n",
            "|          4.9|\n",
            "|          5.4|\n",
            "|          4.8|\n",
            "|          4.8|\n",
            "|          4.3|\n",
            "|          5.8|\n",
            "|          5.7|\n",
            "|          5.4|\n",
            "|          5.1|\n",
            "|          5.7|\n",
            "|          5.1|\n",
            "+-------------+\n",
            "only showing top 20 rows\n",
            "\n"
          ]
        }
      ]
    },
    {
      "cell_type": "code",
      "source": [
        "df1.select(\"Species\").show()"
      ],
      "metadata": {
        "colab": {
          "base_uri": "https://localhost:8080/"
        },
        "id": "Oi-2WbRE5Xll",
        "outputId": "94788ba8-f434-4f64-be16-0337b6536980"
      },
      "execution_count": 20,
      "outputs": [
        {
          "output_type": "stream",
          "name": "stdout",
          "text": [
            "+-----------+\n",
            "|    Species|\n",
            "+-----------+\n",
            "|Iris-setosa|\n",
            "|Iris-setosa|\n",
            "|Iris-setosa|\n",
            "|Iris-setosa|\n",
            "|Iris-setosa|\n",
            "|Iris-setosa|\n",
            "|Iris-setosa|\n",
            "|Iris-setosa|\n",
            "|Iris-setosa|\n",
            "|Iris-setosa|\n",
            "|Iris-setosa|\n",
            "|Iris-setosa|\n",
            "|Iris-setosa|\n",
            "|Iris-setosa|\n",
            "|Iris-setosa|\n",
            "|Iris-setosa|\n",
            "|Iris-setosa|\n",
            "|Iris-setosa|\n",
            "|Iris-setosa|\n",
            "|Iris-setosa|\n",
            "+-----------+\n",
            "only showing top 20 rows\n",
            "\n"
          ]
        }
      ]
    },
    {
      "cell_type": "markdown",
      "source": [
        "# Read json"
      ],
      "metadata": {
        "id": "j9Gf4ycg5kkX"
      }
    },
    {
      "cell_type": "code",
      "source": [
        "df=spark.read.json(\"/content/zipcodes.json\")\n",
        "df.show()"
      ],
      "metadata": {
        "colab": {
          "base_uri": "https://localhost:8080/"
        },
        "id": "nDMKFK5g5fAo",
        "outputId": "ca17d47a-d5f0-466b-f580-dd6a4e446d5a"
      },
      "execution_count": 23,
      "outputs": [
        {
          "output_type": "stream",
          "name": "stdout",
          "text": [
            "+-------------------+-------+-------------+-------------------+-----+--------------------+--------------------+--------------+-------+-------------+------------+-----+---------------+----------+-----------+-----+-----+-----+-----------+-------+\n",
            "|               City|Country|Decommisioned|EstimatedPopulation|  Lat|            Location|        LocationText|  LocationType|   Long|        Notes|RecordNumber|State|TaxReturnsFiled|TotalWages|WorldRegion|Xaxis|Yaxis|Zaxis|ZipCodeType|Zipcode|\n",
            "+-------------------+-------+-------------+-------------------+-----+--------------------+--------------------+--------------+-------+-------------+------------+-----+---------------+----------+-----------+-----+-----+-----+-----------+-------+\n",
            "|        PARC PARQUE|     US|        false|               null|17.96|NA-US-PR-PARC PARQUE|     Parc Parque, PR|NOT ACCEPTABLE| -66.22|         null|           1|   PR|           null|      null|         NA| 0.38|-0.87|  0.3|   STANDARD|    704|\n",
            "|PASEO COSTA DEL SUR|     US|        false|               null|17.96|NA-US-PR-PASEO CO...|Paseo Costa Del S...|NOT ACCEPTABLE| -66.22|         null|           2|   PR|           null|      null|         NA| 0.38|-0.87|  0.3|   STANDARD|    704|\n",
            "|       BDA SAN LUIS|     US|        false|               null|18.14|NA-US-PR-BDA SAN ...|    Bda San Luis, PR|NOT ACCEPTABLE| -66.26|         null|          10|   PR|           null|      null|         NA| 0.38|-0.86| 0.31|   STANDARD|    709|\n",
            "|  CINGULAR WIRELESS|     US|        false|               null|32.72|NA-US-TX-CINGULAR...|Cingular Wireless...|NOT ACCEPTABLE| -97.31|         null|       61391|   TX|           null|      null|         NA| -0.1|-0.83| 0.54|     UNIQUE|  76166|\n",
            "|         FORT WORTH|     US|        false|               4053|32.75| NA-US-TX-FORT WORTH|      Fort Worth, TX|       PRIMARY| -97.33|         null|       61392|   TX|           2126| 122396986|         NA| -0.1|-0.83| 0.54|   STANDARD|  76177|\n",
            "|           FT WORTH|     US|        false|               4053|32.75|   NA-US-TX-FT WORTH|        Ft Worth, TX|    ACCEPTABLE| -97.33|         null|       61393|   TX|           2126| 122396986|         NA| -0.1|-0.83| 0.54|   STANDARD|  76177|\n",
            "|    URB EUGENE RICE|     US|        false|               null|17.96|NA-US-PR-URB EUGE...| Urb Eugene Rice, PR|NOT ACCEPTABLE| -66.22|         null|           4|   PR|           null|      null|         NA| 0.38|-0.87|  0.3|   STANDARD|    704|\n",
            "|               MESA|     US|        false|              26883|33.37|       NA-US-AZ-MESA|            Mesa, AZ|       PRIMARY|-111.64|no NWS data, |       39827|   AZ|          14962| 563792730|         NA| -0.3|-0.77| 0.55|   STANDARD|  85209|\n",
            "|               MESA|     US|        false|              25446|33.38|       NA-US-AZ-MESA|            Mesa, AZ|       PRIMARY|-111.84|         null|       39828|   AZ|          14374| 471000465|         NA|-0.31|-0.77| 0.55|   STANDARD|  85210|\n",
            "|           HILLIARD|     US|        false|               7443|30.69|   NA-US-FL-HILLIARD|        Hilliard, FL|       PRIMARY| -81.92|         null|       49345|   FL|           3922| 133112149|         NA| 0.12|-0.85| 0.51|   STANDARD|  32046|\n",
            "|             HOLDER|     US|        false|               null|28.96|     NA-US-FL-HOLDER|          Holder, FL|       PRIMARY| -82.41|         null|       49346|   FL|           null|      null|         NA| 0.11|-0.86| 0.48|     PO BOX|  34445|\n",
            "|               HOLT|     US|        false|               2190|30.72|       NA-US-FL-HOLT|            Holt, FL|       PRIMARY| -86.67|         null|       49347|   FL|           1207|  36395913|         NA| 0.04|-0.85| 0.51|   STANDARD|  32564|\n",
            "|          HOMOSASSA|     US|        false|               null|28.78|  NA-US-FL-HOMOSASSA|       Homosassa, FL|       PRIMARY| -82.61|         null|       49348|   FL|           null|      null|         NA| 0.11|-0.86| 0.48|     PO BOX|  34487|\n",
            "|       BDA SAN LUIS|     US|        false|               null|18.14|NA-US-PR-BDA SAN ...|    Bda San Luis, PR|NOT ACCEPTABLE| -66.26|         null|          10|   PR|           null|      null|         NA| 0.38|-0.86| 0.31|   STANDARD|    708|\n",
            "|      SECT LANAUSSE|     US|        false|               null|17.96|NA-US-PR-SECT LAN...|   Sect Lanausse, PR|NOT ACCEPTABLE| -66.22|         null|           3|   PR|           null|      null|         NA| 0.38|-0.87|  0.3|   STANDARD|    704|\n",
            "|      SPRING GARDEN|     US|        false|               null|33.97|NA-US-AL-SPRING G...|   Spring Garden, AL|       PRIMARY| -85.55|         null|       54354|   AL|           null|      null|         NA| 0.06|-0.82| 0.55|     PO BOX|  36275|\n",
            "|        SPRINGVILLE|     US|        false|               7845|33.77|NA-US-AL-SPRINGVILLE|     Springville, AL|       PRIMARY| -86.47|         null|       54355|   AL|           4046| 172127599|         NA| 0.05|-0.82| 0.55|   STANDARD|  35146|\n",
            "|        SPRUCE PINE|     US|        false|               1209|34.37|NA-US-AL-SPRUCE PINE|     Spruce Pine, AL|       PRIMARY| -87.69|         null|       54356|   AL|            610|  18525517|         NA| 0.03|-0.82| 0.56|   STANDARD|  35585|\n",
            "|           ASH HILL|     US|        false|               1666| 36.4|   NA-US-NC-ASH HILL|        Ash Hill, NC|NOT ACCEPTABLE| -80.56|         null|       76511|   NC|            842|  28876493|         NA| 0.13|-0.79| 0.59|   STANDARD|  27007|\n",
            "|           ASHEBORO|     US|        false|              15228|35.71|   NA-US-NC-ASHEBORO|        Asheboro, NC|       PRIMARY| -79.81|         null|       76512|   NC|           8355| 215474318|         NA| 0.14|-0.79| 0.58|   STANDARD|  27203|\n",
            "+-------------------+-------+-------------+-------------------+-----+--------------------+--------------------+--------------+-------+-------------+------------+-----+---------------+----------+-----------+-----+-----+-----+-----------+-------+\n",
            "only showing top 20 rows\n",
            "\n"
          ]
        }
      ]
    },
    {
      "cell_type": "code",
      "source": [
        "df.printSchema()"
      ],
      "metadata": {
        "colab": {
          "base_uri": "https://localhost:8080/"
        },
        "id": "tdSGeVqJ7C9k",
        "outputId": "dfc0aa42-ce30-4f1b-827a-f70c888c84c9"
      },
      "execution_count": 24,
      "outputs": [
        {
          "output_type": "stream",
          "name": "stdout",
          "text": [
            "root\n",
            " |-- City: string (nullable = true)\n",
            " |-- Country: string (nullable = true)\n",
            " |-- Decommisioned: boolean (nullable = true)\n",
            " |-- EstimatedPopulation: long (nullable = true)\n",
            " |-- Lat: double (nullable = true)\n",
            " |-- Location: string (nullable = true)\n",
            " |-- LocationText: string (nullable = true)\n",
            " |-- LocationType: string (nullable = true)\n",
            " |-- Long: double (nullable = true)\n",
            " |-- Notes: string (nullable = true)\n",
            " |-- RecordNumber: long (nullable = true)\n",
            " |-- State: string (nullable = true)\n",
            " |-- TaxReturnsFiled: long (nullable = true)\n",
            " |-- TotalWages: long (nullable = true)\n",
            " |-- WorldRegion: string (nullable = true)\n",
            " |-- Xaxis: double (nullable = true)\n",
            " |-- Yaxis: double (nullable = true)\n",
            " |-- Zaxis: double (nullable = true)\n",
            " |-- ZipCodeType: string (nullable = true)\n",
            " |-- Zipcode: long (nullable = true)\n",
            "\n"
          ]
        }
      ]
    },
    {
      "cell_type": "code",
      "source": [
        "df.select(\"City\").show()"
      ],
      "metadata": {
        "colab": {
          "base_uri": "https://localhost:8080/"
        },
        "id": "W2-KnlMM9uio",
        "outputId": "d6b3d20d-cf20-4dda-d375-e097d4ca89b8"
      },
      "execution_count": 26,
      "outputs": [
        {
          "output_type": "stream",
          "name": "stdout",
          "text": [
            "+-------------------+\n",
            "|               City|\n",
            "+-------------------+\n",
            "|        PARC PARQUE|\n",
            "|PASEO COSTA DEL SUR|\n",
            "|       BDA SAN LUIS|\n",
            "|  CINGULAR WIRELESS|\n",
            "|         FORT WORTH|\n",
            "|           FT WORTH|\n",
            "|    URB EUGENE RICE|\n",
            "|               MESA|\n",
            "|               MESA|\n",
            "|           HILLIARD|\n",
            "|             HOLDER|\n",
            "|               HOLT|\n",
            "|          HOMOSASSA|\n",
            "|       BDA SAN LUIS|\n",
            "|      SECT LANAUSSE|\n",
            "|      SPRING GARDEN|\n",
            "|        SPRINGVILLE|\n",
            "|        SPRUCE PINE|\n",
            "|           ASH HILL|\n",
            "|           ASHEBORO|\n",
            "+-------------------+\n",
            "only showing top 20 rows\n",
            "\n"
          ]
        }
      ]
    },
    {
      "cell_type": "code",
      "source": [
        "df.select(\"City\",\"Country\").show()"
      ],
      "metadata": {
        "colab": {
          "base_uri": "https://localhost:8080/"
        },
        "id": "-mQ2vMEd90C9",
        "outputId": "b696dc28-fa0f-49a2-e0b7-3bc03faf4bdc"
      },
      "execution_count": 27,
      "outputs": [
        {
          "output_type": "stream",
          "name": "stdout",
          "text": [
            "+-------------------+-------+\n",
            "|               City|Country|\n",
            "+-------------------+-------+\n",
            "|        PARC PARQUE|     US|\n",
            "|PASEO COSTA DEL SUR|     US|\n",
            "|       BDA SAN LUIS|     US|\n",
            "|  CINGULAR WIRELESS|     US|\n",
            "|         FORT WORTH|     US|\n",
            "|           FT WORTH|     US|\n",
            "|    URB EUGENE RICE|     US|\n",
            "|               MESA|     US|\n",
            "|               MESA|     US|\n",
            "|           HILLIARD|     US|\n",
            "|             HOLDER|     US|\n",
            "|               HOLT|     US|\n",
            "|          HOMOSASSA|     US|\n",
            "|       BDA SAN LUIS|     US|\n",
            "|      SECT LANAUSSE|     US|\n",
            "|      SPRING GARDEN|     US|\n",
            "|        SPRINGVILLE|     US|\n",
            "|        SPRUCE PINE|     US|\n",
            "|           ASH HILL|     US|\n",
            "|           ASHEBORO|     US|\n",
            "+-------------------+-------+\n",
            "only showing top 20 rows\n",
            "\n"
          ]
        }
      ]
    },
    {
      "cell_type": "code",
      "source": [
        "df.columns\n"
      ],
      "metadata": {
        "colab": {
          "base_uri": "https://localhost:8080/"
        },
        "id": "Vyk80llk8KWg",
        "outputId": "0dfec5ce-5ac2-48ae-aa7f-b189d6f43c90"
      },
      "execution_count": 25,
      "outputs": [
        {
          "output_type": "execute_result",
          "data": {
            "text/plain": [
              "['City',\n",
              " 'Country',\n",
              " 'Decommisioned',\n",
              " 'EstimatedPopulation',\n",
              " 'Lat',\n",
              " 'Location',\n",
              " 'LocationText',\n",
              " 'LocationType',\n",
              " 'Long',\n",
              " 'Notes',\n",
              " 'RecordNumber',\n",
              " 'State',\n",
              " 'TaxReturnsFiled',\n",
              " 'TotalWages',\n",
              " 'WorldRegion',\n",
              " 'Xaxis',\n",
              " 'Yaxis',\n",
              " 'Zaxis',\n",
              " 'ZipCodeType',\n",
              " 'Zipcode']"
            ]
          },
          "metadata": {},
          "execution_count": 25
        }
      ]
    },
    {
      "cell_type": "markdown",
      "source": [
        "# createOrReplace TempView"
      ],
      "metadata": {
        "id": "iW2J-RUj-Hsm"
      }
    },
    {
      "cell_type": "code",
      "source": [
        "df=spark.read.json(\"/content/zipcodes.json\")\n",
        "df.show()"
      ],
      "metadata": {
        "colab": {
          "base_uri": "https://localhost:8080/"
        },
        "id": "8b_XS43-9sqm",
        "outputId": "811d1ed4-cf6e-49e0-affc-8dafa732f848"
      },
      "execution_count": 28,
      "outputs": [
        {
          "output_type": "stream",
          "name": "stdout",
          "text": [
            "+-------------------+-------+-------------+-------------------+-----+--------------------+--------------------+--------------+-------+-------------+------------+-----+---------------+----------+-----------+-----+-----+-----+-----------+-------+\n",
            "|               City|Country|Decommisioned|EstimatedPopulation|  Lat|            Location|        LocationText|  LocationType|   Long|        Notes|RecordNumber|State|TaxReturnsFiled|TotalWages|WorldRegion|Xaxis|Yaxis|Zaxis|ZipCodeType|Zipcode|\n",
            "+-------------------+-------+-------------+-------------------+-----+--------------------+--------------------+--------------+-------+-------------+------------+-----+---------------+----------+-----------+-----+-----+-----+-----------+-------+\n",
            "|        PARC PARQUE|     US|        false|               null|17.96|NA-US-PR-PARC PARQUE|     Parc Parque, PR|NOT ACCEPTABLE| -66.22|         null|           1|   PR|           null|      null|         NA| 0.38|-0.87|  0.3|   STANDARD|    704|\n",
            "|PASEO COSTA DEL SUR|     US|        false|               null|17.96|NA-US-PR-PASEO CO...|Paseo Costa Del S...|NOT ACCEPTABLE| -66.22|         null|           2|   PR|           null|      null|         NA| 0.38|-0.87|  0.3|   STANDARD|    704|\n",
            "|       BDA SAN LUIS|     US|        false|               null|18.14|NA-US-PR-BDA SAN ...|    Bda San Luis, PR|NOT ACCEPTABLE| -66.26|         null|          10|   PR|           null|      null|         NA| 0.38|-0.86| 0.31|   STANDARD|    709|\n",
            "|  CINGULAR WIRELESS|     US|        false|               null|32.72|NA-US-TX-CINGULAR...|Cingular Wireless...|NOT ACCEPTABLE| -97.31|         null|       61391|   TX|           null|      null|         NA| -0.1|-0.83| 0.54|     UNIQUE|  76166|\n",
            "|         FORT WORTH|     US|        false|               4053|32.75| NA-US-TX-FORT WORTH|      Fort Worth, TX|       PRIMARY| -97.33|         null|       61392|   TX|           2126| 122396986|         NA| -0.1|-0.83| 0.54|   STANDARD|  76177|\n",
            "|           FT WORTH|     US|        false|               4053|32.75|   NA-US-TX-FT WORTH|        Ft Worth, TX|    ACCEPTABLE| -97.33|         null|       61393|   TX|           2126| 122396986|         NA| -0.1|-0.83| 0.54|   STANDARD|  76177|\n",
            "|    URB EUGENE RICE|     US|        false|               null|17.96|NA-US-PR-URB EUGE...| Urb Eugene Rice, PR|NOT ACCEPTABLE| -66.22|         null|           4|   PR|           null|      null|         NA| 0.38|-0.87|  0.3|   STANDARD|    704|\n",
            "|               MESA|     US|        false|              26883|33.37|       NA-US-AZ-MESA|            Mesa, AZ|       PRIMARY|-111.64|no NWS data, |       39827|   AZ|          14962| 563792730|         NA| -0.3|-0.77| 0.55|   STANDARD|  85209|\n",
            "|               MESA|     US|        false|              25446|33.38|       NA-US-AZ-MESA|            Mesa, AZ|       PRIMARY|-111.84|         null|       39828|   AZ|          14374| 471000465|         NA|-0.31|-0.77| 0.55|   STANDARD|  85210|\n",
            "|           HILLIARD|     US|        false|               7443|30.69|   NA-US-FL-HILLIARD|        Hilliard, FL|       PRIMARY| -81.92|         null|       49345|   FL|           3922| 133112149|         NA| 0.12|-0.85| 0.51|   STANDARD|  32046|\n",
            "|             HOLDER|     US|        false|               null|28.96|     NA-US-FL-HOLDER|          Holder, FL|       PRIMARY| -82.41|         null|       49346|   FL|           null|      null|         NA| 0.11|-0.86| 0.48|     PO BOX|  34445|\n",
            "|               HOLT|     US|        false|               2190|30.72|       NA-US-FL-HOLT|            Holt, FL|       PRIMARY| -86.67|         null|       49347|   FL|           1207|  36395913|         NA| 0.04|-0.85| 0.51|   STANDARD|  32564|\n",
            "|          HOMOSASSA|     US|        false|               null|28.78|  NA-US-FL-HOMOSASSA|       Homosassa, FL|       PRIMARY| -82.61|         null|       49348|   FL|           null|      null|         NA| 0.11|-0.86| 0.48|     PO BOX|  34487|\n",
            "|       BDA SAN LUIS|     US|        false|               null|18.14|NA-US-PR-BDA SAN ...|    Bda San Luis, PR|NOT ACCEPTABLE| -66.26|         null|          10|   PR|           null|      null|         NA| 0.38|-0.86| 0.31|   STANDARD|    708|\n",
            "|      SECT LANAUSSE|     US|        false|               null|17.96|NA-US-PR-SECT LAN...|   Sect Lanausse, PR|NOT ACCEPTABLE| -66.22|         null|           3|   PR|           null|      null|         NA| 0.38|-0.87|  0.3|   STANDARD|    704|\n",
            "|      SPRING GARDEN|     US|        false|               null|33.97|NA-US-AL-SPRING G...|   Spring Garden, AL|       PRIMARY| -85.55|         null|       54354|   AL|           null|      null|         NA| 0.06|-0.82| 0.55|     PO BOX|  36275|\n",
            "|        SPRINGVILLE|     US|        false|               7845|33.77|NA-US-AL-SPRINGVILLE|     Springville, AL|       PRIMARY| -86.47|         null|       54355|   AL|           4046| 172127599|         NA| 0.05|-0.82| 0.55|   STANDARD|  35146|\n",
            "|        SPRUCE PINE|     US|        false|               1209|34.37|NA-US-AL-SPRUCE PINE|     Spruce Pine, AL|       PRIMARY| -87.69|         null|       54356|   AL|            610|  18525517|         NA| 0.03|-0.82| 0.56|   STANDARD|  35585|\n",
            "|           ASH HILL|     US|        false|               1666| 36.4|   NA-US-NC-ASH HILL|        Ash Hill, NC|NOT ACCEPTABLE| -80.56|         null|       76511|   NC|            842|  28876493|         NA| 0.13|-0.79| 0.59|   STANDARD|  27007|\n",
            "|           ASHEBORO|     US|        false|              15228|35.71|   NA-US-NC-ASHEBORO|        Asheboro, NC|       PRIMARY| -79.81|         null|       76512|   NC|           8355| 215474318|         NA| 0.14|-0.79| 0.58|   STANDARD|  27203|\n",
            "+-------------------+-------+-------------+-------------------+-----+--------------------+--------------------+--------------+-------+-------------+------------+-----+---------------+----------+-----------+-----+-----+-----+-----------+-------+\n",
            "only showing top 20 rows\n",
            "\n"
          ]
        }
      ]
    },
    {
      "cell_type": "code",
      "source": [
        "#incorrect format use tempview\n",
        "#spark.sql('select * from df')"
      ],
      "metadata": {
        "id": "YAsj1TqR-v8W"
      },
      "execution_count": 74,
      "outputs": []
    },
    {
      "cell_type": "code",
      "source": [
        "df.createOrReplaceTempView(\"df\")"
      ],
      "metadata": {
        "id": "2mZ9pOa__CBF"
      },
      "execution_count": 30,
      "outputs": []
    },
    {
      "cell_type": "code",
      "source": [
        "spark.sql('select * from df')"
      ],
      "metadata": {
        "colab": {
          "base_uri": "https://localhost:8080/"
        },
        "id": "QNImtwwA-7Mp",
        "outputId": "b585ace1-b249-4ef4-f683-7345c4d8267c"
      },
      "execution_count": 31,
      "outputs": [
        {
          "output_type": "execute_result",
          "data": {
            "text/plain": [
              "DataFrame[City: string, Country: string, Decommisioned: boolean, EstimatedPopulation: bigint, Lat: double, Location: string, LocationText: string, LocationType: string, Long: double, Notes: string, RecordNumber: bigint, State: string, TaxReturnsFiled: bigint, TotalWages: bigint, WorldRegion: string, Xaxis: double, Yaxis: double, Zaxis: double, ZipCodeType: string, Zipcode: bigint]"
            ]
          },
          "metadata": {},
          "execution_count": 31
        }
      ]
    },
    {
      "cell_type": "code",
      "source": [
        "spark.sql('select * from df').show()"
      ],
      "metadata": {
        "colab": {
          "base_uri": "https://localhost:8080/"
        },
        "id": "ZPfkA57x_HNR",
        "outputId": "86a76fe3-fb47-40ef-95df-1d5172a9a499"
      },
      "execution_count": 32,
      "outputs": [
        {
          "output_type": "stream",
          "name": "stdout",
          "text": [
            "+-------------------+-------+-------------+-------------------+-----+--------------------+--------------------+--------------+-------+-------------+------------+-----+---------------+----------+-----------+-----+-----+-----+-----------+-------+\n",
            "|               City|Country|Decommisioned|EstimatedPopulation|  Lat|            Location|        LocationText|  LocationType|   Long|        Notes|RecordNumber|State|TaxReturnsFiled|TotalWages|WorldRegion|Xaxis|Yaxis|Zaxis|ZipCodeType|Zipcode|\n",
            "+-------------------+-------+-------------+-------------------+-----+--------------------+--------------------+--------------+-------+-------------+------------+-----+---------------+----------+-----------+-----+-----+-----+-----------+-------+\n",
            "|        PARC PARQUE|     US|        false|               null|17.96|NA-US-PR-PARC PARQUE|     Parc Parque, PR|NOT ACCEPTABLE| -66.22|         null|           1|   PR|           null|      null|         NA| 0.38|-0.87|  0.3|   STANDARD|    704|\n",
            "|PASEO COSTA DEL SUR|     US|        false|               null|17.96|NA-US-PR-PASEO CO...|Paseo Costa Del S...|NOT ACCEPTABLE| -66.22|         null|           2|   PR|           null|      null|         NA| 0.38|-0.87|  0.3|   STANDARD|    704|\n",
            "|       BDA SAN LUIS|     US|        false|               null|18.14|NA-US-PR-BDA SAN ...|    Bda San Luis, PR|NOT ACCEPTABLE| -66.26|         null|          10|   PR|           null|      null|         NA| 0.38|-0.86| 0.31|   STANDARD|    709|\n",
            "|  CINGULAR WIRELESS|     US|        false|               null|32.72|NA-US-TX-CINGULAR...|Cingular Wireless...|NOT ACCEPTABLE| -97.31|         null|       61391|   TX|           null|      null|         NA| -0.1|-0.83| 0.54|     UNIQUE|  76166|\n",
            "|         FORT WORTH|     US|        false|               4053|32.75| NA-US-TX-FORT WORTH|      Fort Worth, TX|       PRIMARY| -97.33|         null|       61392|   TX|           2126| 122396986|         NA| -0.1|-0.83| 0.54|   STANDARD|  76177|\n",
            "|           FT WORTH|     US|        false|               4053|32.75|   NA-US-TX-FT WORTH|        Ft Worth, TX|    ACCEPTABLE| -97.33|         null|       61393|   TX|           2126| 122396986|         NA| -0.1|-0.83| 0.54|   STANDARD|  76177|\n",
            "|    URB EUGENE RICE|     US|        false|               null|17.96|NA-US-PR-URB EUGE...| Urb Eugene Rice, PR|NOT ACCEPTABLE| -66.22|         null|           4|   PR|           null|      null|         NA| 0.38|-0.87|  0.3|   STANDARD|    704|\n",
            "|               MESA|     US|        false|              26883|33.37|       NA-US-AZ-MESA|            Mesa, AZ|       PRIMARY|-111.64|no NWS data, |       39827|   AZ|          14962| 563792730|         NA| -0.3|-0.77| 0.55|   STANDARD|  85209|\n",
            "|               MESA|     US|        false|              25446|33.38|       NA-US-AZ-MESA|            Mesa, AZ|       PRIMARY|-111.84|         null|       39828|   AZ|          14374| 471000465|         NA|-0.31|-0.77| 0.55|   STANDARD|  85210|\n",
            "|           HILLIARD|     US|        false|               7443|30.69|   NA-US-FL-HILLIARD|        Hilliard, FL|       PRIMARY| -81.92|         null|       49345|   FL|           3922| 133112149|         NA| 0.12|-0.85| 0.51|   STANDARD|  32046|\n",
            "|             HOLDER|     US|        false|               null|28.96|     NA-US-FL-HOLDER|          Holder, FL|       PRIMARY| -82.41|         null|       49346|   FL|           null|      null|         NA| 0.11|-0.86| 0.48|     PO BOX|  34445|\n",
            "|               HOLT|     US|        false|               2190|30.72|       NA-US-FL-HOLT|            Holt, FL|       PRIMARY| -86.67|         null|       49347|   FL|           1207|  36395913|         NA| 0.04|-0.85| 0.51|   STANDARD|  32564|\n",
            "|          HOMOSASSA|     US|        false|               null|28.78|  NA-US-FL-HOMOSASSA|       Homosassa, FL|       PRIMARY| -82.61|         null|       49348|   FL|           null|      null|         NA| 0.11|-0.86| 0.48|     PO BOX|  34487|\n",
            "|       BDA SAN LUIS|     US|        false|               null|18.14|NA-US-PR-BDA SAN ...|    Bda San Luis, PR|NOT ACCEPTABLE| -66.26|         null|          10|   PR|           null|      null|         NA| 0.38|-0.86| 0.31|   STANDARD|    708|\n",
            "|      SECT LANAUSSE|     US|        false|               null|17.96|NA-US-PR-SECT LAN...|   Sect Lanausse, PR|NOT ACCEPTABLE| -66.22|         null|           3|   PR|           null|      null|         NA| 0.38|-0.87|  0.3|   STANDARD|    704|\n",
            "|      SPRING GARDEN|     US|        false|               null|33.97|NA-US-AL-SPRING G...|   Spring Garden, AL|       PRIMARY| -85.55|         null|       54354|   AL|           null|      null|         NA| 0.06|-0.82| 0.55|     PO BOX|  36275|\n",
            "|        SPRINGVILLE|     US|        false|               7845|33.77|NA-US-AL-SPRINGVILLE|     Springville, AL|       PRIMARY| -86.47|         null|       54355|   AL|           4046| 172127599|         NA| 0.05|-0.82| 0.55|   STANDARD|  35146|\n",
            "|        SPRUCE PINE|     US|        false|               1209|34.37|NA-US-AL-SPRUCE PINE|     Spruce Pine, AL|       PRIMARY| -87.69|         null|       54356|   AL|            610|  18525517|         NA| 0.03|-0.82| 0.56|   STANDARD|  35585|\n",
            "|           ASH HILL|     US|        false|               1666| 36.4|   NA-US-NC-ASH HILL|        Ash Hill, NC|NOT ACCEPTABLE| -80.56|         null|       76511|   NC|            842|  28876493|         NA| 0.13|-0.79| 0.59|   STANDARD|  27007|\n",
            "|           ASHEBORO|     US|        false|              15228|35.71|   NA-US-NC-ASHEBORO|        Asheboro, NC|       PRIMARY| -79.81|         null|       76512|   NC|           8355| 215474318|         NA| 0.14|-0.79| 0.58|   STANDARD|  27203|\n",
            "+-------------------+-------+-------------+-------------------+-----+--------------------+--------------------+--------------+-------+-------------+------------+-----+---------------+----------+-----------+-----+-----+-----+-----------+-------+\n",
            "only showing top 20 rows\n",
            "\n"
          ]
        }
      ]
    },
    {
      "cell_type": "code",
      "source": [
        "type(spark.sql('select * from df'))"
      ],
      "metadata": {
        "colab": {
          "base_uri": "https://localhost:8080/"
        },
        "id": "DZKagRTlBOdM",
        "outputId": "4fa44b59-bf9e-46cf-cda7-f45ffe28845a"
      },
      "execution_count": 49,
      "outputs": [
        {
          "output_type": "execute_result",
          "data": {
            "text/plain": [
              "pyspark.sql.dataframe.DataFrame"
            ]
          },
          "metadata": {},
          "execution_count": 49
        }
      ]
    },
    {
      "cell_type": "code",
      "source": [
        "sqldf= spark.sql('select * from df')\n",
        "sqldf"
      ],
      "metadata": {
        "colab": {
          "base_uri": "https://localhost:8080/"
        },
        "id": "-O59JrzC_LFS",
        "outputId": "257c0f87-50ce-435c-8e21-66d4d7c82c86"
      },
      "execution_count": 48,
      "outputs": [
        {
          "output_type": "execute_result",
          "data": {
            "text/plain": [
              "DataFrame[City: string, Country: string, Decommisioned: boolean, EstimatedPopulation: bigint, Lat: double, Location: string, LocationText: string, LocationType: string, Long: double, Notes: string, RecordNumber: bigint, State: string, TaxReturnsFiled: bigint, TotalWages: bigint, WorldRegion: string, Xaxis: double, Yaxis: double, Zaxis: double, ZipCodeType: string, Zipcode: bigint]"
            ]
          },
          "metadata": {},
          "execution_count": 48
        }
      ]
    },
    {
      "cell_type": "code",
      "source": [
        "sqldf.show()"
      ],
      "metadata": {
        "colab": {
          "base_uri": "https://localhost:8080/"
        },
        "id": "n9iBZ8hg_Vuv",
        "outputId": "3695aac9-5c60-4c78-9369-5df631818dc9"
      },
      "execution_count": 34,
      "outputs": [
        {
          "output_type": "stream",
          "name": "stdout",
          "text": [
            "+-------------------+-------+-------------+-------------------+-----+--------------------+--------------------+--------------+-------+-------------+------------+-----+---------------+----------+-----------+-----+-----+-----+-----------+-------+\n",
            "|               City|Country|Decommisioned|EstimatedPopulation|  Lat|            Location|        LocationText|  LocationType|   Long|        Notes|RecordNumber|State|TaxReturnsFiled|TotalWages|WorldRegion|Xaxis|Yaxis|Zaxis|ZipCodeType|Zipcode|\n",
            "+-------------------+-------+-------------+-------------------+-----+--------------------+--------------------+--------------+-------+-------------+------------+-----+---------------+----------+-----------+-----+-----+-----+-----------+-------+\n",
            "|        PARC PARQUE|     US|        false|               null|17.96|NA-US-PR-PARC PARQUE|     Parc Parque, PR|NOT ACCEPTABLE| -66.22|         null|           1|   PR|           null|      null|         NA| 0.38|-0.87|  0.3|   STANDARD|    704|\n",
            "|PASEO COSTA DEL SUR|     US|        false|               null|17.96|NA-US-PR-PASEO CO...|Paseo Costa Del S...|NOT ACCEPTABLE| -66.22|         null|           2|   PR|           null|      null|         NA| 0.38|-0.87|  0.3|   STANDARD|    704|\n",
            "|       BDA SAN LUIS|     US|        false|               null|18.14|NA-US-PR-BDA SAN ...|    Bda San Luis, PR|NOT ACCEPTABLE| -66.26|         null|          10|   PR|           null|      null|         NA| 0.38|-0.86| 0.31|   STANDARD|    709|\n",
            "|  CINGULAR WIRELESS|     US|        false|               null|32.72|NA-US-TX-CINGULAR...|Cingular Wireless...|NOT ACCEPTABLE| -97.31|         null|       61391|   TX|           null|      null|         NA| -0.1|-0.83| 0.54|     UNIQUE|  76166|\n",
            "|         FORT WORTH|     US|        false|               4053|32.75| NA-US-TX-FORT WORTH|      Fort Worth, TX|       PRIMARY| -97.33|         null|       61392|   TX|           2126| 122396986|         NA| -0.1|-0.83| 0.54|   STANDARD|  76177|\n",
            "|           FT WORTH|     US|        false|               4053|32.75|   NA-US-TX-FT WORTH|        Ft Worth, TX|    ACCEPTABLE| -97.33|         null|       61393|   TX|           2126| 122396986|         NA| -0.1|-0.83| 0.54|   STANDARD|  76177|\n",
            "|    URB EUGENE RICE|     US|        false|               null|17.96|NA-US-PR-URB EUGE...| Urb Eugene Rice, PR|NOT ACCEPTABLE| -66.22|         null|           4|   PR|           null|      null|         NA| 0.38|-0.87|  0.3|   STANDARD|    704|\n",
            "|               MESA|     US|        false|              26883|33.37|       NA-US-AZ-MESA|            Mesa, AZ|       PRIMARY|-111.64|no NWS data, |       39827|   AZ|          14962| 563792730|         NA| -0.3|-0.77| 0.55|   STANDARD|  85209|\n",
            "|               MESA|     US|        false|              25446|33.38|       NA-US-AZ-MESA|            Mesa, AZ|       PRIMARY|-111.84|         null|       39828|   AZ|          14374| 471000465|         NA|-0.31|-0.77| 0.55|   STANDARD|  85210|\n",
            "|           HILLIARD|     US|        false|               7443|30.69|   NA-US-FL-HILLIARD|        Hilliard, FL|       PRIMARY| -81.92|         null|       49345|   FL|           3922| 133112149|         NA| 0.12|-0.85| 0.51|   STANDARD|  32046|\n",
            "|             HOLDER|     US|        false|               null|28.96|     NA-US-FL-HOLDER|          Holder, FL|       PRIMARY| -82.41|         null|       49346|   FL|           null|      null|         NA| 0.11|-0.86| 0.48|     PO BOX|  34445|\n",
            "|               HOLT|     US|        false|               2190|30.72|       NA-US-FL-HOLT|            Holt, FL|       PRIMARY| -86.67|         null|       49347|   FL|           1207|  36395913|         NA| 0.04|-0.85| 0.51|   STANDARD|  32564|\n",
            "|          HOMOSASSA|     US|        false|               null|28.78|  NA-US-FL-HOMOSASSA|       Homosassa, FL|       PRIMARY| -82.61|         null|       49348|   FL|           null|      null|         NA| 0.11|-0.86| 0.48|     PO BOX|  34487|\n",
            "|       BDA SAN LUIS|     US|        false|               null|18.14|NA-US-PR-BDA SAN ...|    Bda San Luis, PR|NOT ACCEPTABLE| -66.26|         null|          10|   PR|           null|      null|         NA| 0.38|-0.86| 0.31|   STANDARD|    708|\n",
            "|      SECT LANAUSSE|     US|        false|               null|17.96|NA-US-PR-SECT LAN...|   Sect Lanausse, PR|NOT ACCEPTABLE| -66.22|         null|           3|   PR|           null|      null|         NA| 0.38|-0.87|  0.3|   STANDARD|    704|\n",
            "|      SPRING GARDEN|     US|        false|               null|33.97|NA-US-AL-SPRING G...|   Spring Garden, AL|       PRIMARY| -85.55|         null|       54354|   AL|           null|      null|         NA| 0.06|-0.82| 0.55|     PO BOX|  36275|\n",
            "|        SPRINGVILLE|     US|        false|               7845|33.77|NA-US-AL-SPRINGVILLE|     Springville, AL|       PRIMARY| -86.47|         null|       54355|   AL|           4046| 172127599|         NA| 0.05|-0.82| 0.55|   STANDARD|  35146|\n",
            "|        SPRUCE PINE|     US|        false|               1209|34.37|NA-US-AL-SPRUCE PINE|     Spruce Pine, AL|       PRIMARY| -87.69|         null|       54356|   AL|            610|  18525517|         NA| 0.03|-0.82| 0.56|   STANDARD|  35585|\n",
            "|           ASH HILL|     US|        false|               1666| 36.4|   NA-US-NC-ASH HILL|        Ash Hill, NC|NOT ACCEPTABLE| -80.56|         null|       76511|   NC|            842|  28876493|         NA| 0.13|-0.79| 0.59|   STANDARD|  27007|\n",
            "|           ASHEBORO|     US|        false|              15228|35.71|   NA-US-NC-ASHEBORO|        Asheboro, NC|       PRIMARY| -79.81|         null|       76512|   NC|           8355| 215474318|         NA| 0.14|-0.79| 0.58|   STANDARD|  27203|\n",
            "+-------------------+-------+-------------+-------------------+-----+--------------------+--------------------+--------------+-------+-------------+------------+-----+---------------+----------+-----------+-----+-----+-----+-----------+-------+\n",
            "only showing top 20 rows\n",
            "\n"
          ]
        }
      ]
    },
    {
      "cell_type": "markdown",
      "source": [
        "# create Global TempView"
      ],
      "metadata": {
        "id": "LJfux0DM_k9d"
      }
    },
    {
      "cell_type": "code",
      "source": [
        "df1=spark.read.json(\"/content/zipcodes.json\")\n",
        "df1.show()"
      ],
      "metadata": {
        "colab": {
          "base_uri": "https://localhost:8080/"
        },
        "id": "GYTo9dgyARJF",
        "outputId": "5cb20f83-b760-4348-c9ea-be5492422cde"
      },
      "execution_count": 39,
      "outputs": [
        {
          "output_type": "stream",
          "name": "stdout",
          "text": [
            "+-------------------+-------+-------------+-------------------+-----+--------------------+--------------------+--------------+-------+-------------+------------+-----+---------------+----------+-----------+-----+-----+-----+-----------+-------+\n",
            "|               City|Country|Decommisioned|EstimatedPopulation|  Lat|            Location|        LocationText|  LocationType|   Long|        Notes|RecordNumber|State|TaxReturnsFiled|TotalWages|WorldRegion|Xaxis|Yaxis|Zaxis|ZipCodeType|Zipcode|\n",
            "+-------------------+-------+-------------+-------------------+-----+--------------------+--------------------+--------------+-------+-------------+------------+-----+---------------+----------+-----------+-----+-----+-----+-----------+-------+\n",
            "|        PARC PARQUE|     US|        false|               null|17.96|NA-US-PR-PARC PARQUE|     Parc Parque, PR|NOT ACCEPTABLE| -66.22|         null|           1|   PR|           null|      null|         NA| 0.38|-0.87|  0.3|   STANDARD|    704|\n",
            "|PASEO COSTA DEL SUR|     US|        false|               null|17.96|NA-US-PR-PASEO CO...|Paseo Costa Del S...|NOT ACCEPTABLE| -66.22|         null|           2|   PR|           null|      null|         NA| 0.38|-0.87|  0.3|   STANDARD|    704|\n",
            "|       BDA SAN LUIS|     US|        false|               null|18.14|NA-US-PR-BDA SAN ...|    Bda San Luis, PR|NOT ACCEPTABLE| -66.26|         null|          10|   PR|           null|      null|         NA| 0.38|-0.86| 0.31|   STANDARD|    709|\n",
            "|  CINGULAR WIRELESS|     US|        false|               null|32.72|NA-US-TX-CINGULAR...|Cingular Wireless...|NOT ACCEPTABLE| -97.31|         null|       61391|   TX|           null|      null|         NA| -0.1|-0.83| 0.54|     UNIQUE|  76166|\n",
            "|         FORT WORTH|     US|        false|               4053|32.75| NA-US-TX-FORT WORTH|      Fort Worth, TX|       PRIMARY| -97.33|         null|       61392|   TX|           2126| 122396986|         NA| -0.1|-0.83| 0.54|   STANDARD|  76177|\n",
            "|           FT WORTH|     US|        false|               4053|32.75|   NA-US-TX-FT WORTH|        Ft Worth, TX|    ACCEPTABLE| -97.33|         null|       61393|   TX|           2126| 122396986|         NA| -0.1|-0.83| 0.54|   STANDARD|  76177|\n",
            "|    URB EUGENE RICE|     US|        false|               null|17.96|NA-US-PR-URB EUGE...| Urb Eugene Rice, PR|NOT ACCEPTABLE| -66.22|         null|           4|   PR|           null|      null|         NA| 0.38|-0.87|  0.3|   STANDARD|    704|\n",
            "|               MESA|     US|        false|              26883|33.37|       NA-US-AZ-MESA|            Mesa, AZ|       PRIMARY|-111.64|no NWS data, |       39827|   AZ|          14962| 563792730|         NA| -0.3|-0.77| 0.55|   STANDARD|  85209|\n",
            "|               MESA|     US|        false|              25446|33.38|       NA-US-AZ-MESA|            Mesa, AZ|       PRIMARY|-111.84|         null|       39828|   AZ|          14374| 471000465|         NA|-0.31|-0.77| 0.55|   STANDARD|  85210|\n",
            "|           HILLIARD|     US|        false|               7443|30.69|   NA-US-FL-HILLIARD|        Hilliard, FL|       PRIMARY| -81.92|         null|       49345|   FL|           3922| 133112149|         NA| 0.12|-0.85| 0.51|   STANDARD|  32046|\n",
            "|             HOLDER|     US|        false|               null|28.96|     NA-US-FL-HOLDER|          Holder, FL|       PRIMARY| -82.41|         null|       49346|   FL|           null|      null|         NA| 0.11|-0.86| 0.48|     PO BOX|  34445|\n",
            "|               HOLT|     US|        false|               2190|30.72|       NA-US-FL-HOLT|            Holt, FL|       PRIMARY| -86.67|         null|       49347|   FL|           1207|  36395913|         NA| 0.04|-0.85| 0.51|   STANDARD|  32564|\n",
            "|          HOMOSASSA|     US|        false|               null|28.78|  NA-US-FL-HOMOSASSA|       Homosassa, FL|       PRIMARY| -82.61|         null|       49348|   FL|           null|      null|         NA| 0.11|-0.86| 0.48|     PO BOX|  34487|\n",
            "|       BDA SAN LUIS|     US|        false|               null|18.14|NA-US-PR-BDA SAN ...|    Bda San Luis, PR|NOT ACCEPTABLE| -66.26|         null|          10|   PR|           null|      null|         NA| 0.38|-0.86| 0.31|   STANDARD|    708|\n",
            "|      SECT LANAUSSE|     US|        false|               null|17.96|NA-US-PR-SECT LAN...|   Sect Lanausse, PR|NOT ACCEPTABLE| -66.22|         null|           3|   PR|           null|      null|         NA| 0.38|-0.87|  0.3|   STANDARD|    704|\n",
            "|      SPRING GARDEN|     US|        false|               null|33.97|NA-US-AL-SPRING G...|   Spring Garden, AL|       PRIMARY| -85.55|         null|       54354|   AL|           null|      null|         NA| 0.06|-0.82| 0.55|     PO BOX|  36275|\n",
            "|        SPRINGVILLE|     US|        false|               7845|33.77|NA-US-AL-SPRINGVILLE|     Springville, AL|       PRIMARY| -86.47|         null|       54355|   AL|           4046| 172127599|         NA| 0.05|-0.82| 0.55|   STANDARD|  35146|\n",
            "|        SPRUCE PINE|     US|        false|               1209|34.37|NA-US-AL-SPRUCE PINE|     Spruce Pine, AL|       PRIMARY| -87.69|         null|       54356|   AL|            610|  18525517|         NA| 0.03|-0.82| 0.56|   STANDARD|  35585|\n",
            "|           ASH HILL|     US|        false|               1666| 36.4|   NA-US-NC-ASH HILL|        Ash Hill, NC|NOT ACCEPTABLE| -80.56|         null|       76511|   NC|            842|  28876493|         NA| 0.13|-0.79| 0.59|   STANDARD|  27007|\n",
            "|           ASHEBORO|     US|        false|              15228|35.71|   NA-US-NC-ASHEBORO|        Asheboro, NC|       PRIMARY| -79.81|         null|       76512|   NC|           8355| 215474318|         NA| 0.14|-0.79| 0.58|   STANDARD|  27203|\n",
            "+-------------------+-------+-------------+-------------------+-----+--------------------+--------------------+--------------+-------+-------------+------------+-----+---------------+----------+-----------+-----+-----+-----+-----------+-------+\n",
            "only showing top 20 rows\n",
            "\n"
          ]
        }
      ]
    },
    {
      "cell_type": "code",
      "source": [
        "df1.show()"
      ],
      "metadata": {
        "colab": {
          "base_uri": "https://localhost:8080/"
        },
        "id": "5m5Mj1F2_Xpm",
        "outputId": "9c3bf790-a492-4954-d6b8-7d36e269cddf"
      },
      "execution_count": 40,
      "outputs": [
        {
          "output_type": "stream",
          "name": "stdout",
          "text": [
            "+-------------------+-------+-------------+-------------------+-----+--------------------+--------------------+--------------+-------+-------------+------------+-----+---------------+----------+-----------+-----+-----+-----+-----------+-------+\n",
            "|               City|Country|Decommisioned|EstimatedPopulation|  Lat|            Location|        LocationText|  LocationType|   Long|        Notes|RecordNumber|State|TaxReturnsFiled|TotalWages|WorldRegion|Xaxis|Yaxis|Zaxis|ZipCodeType|Zipcode|\n",
            "+-------------------+-------+-------------+-------------------+-----+--------------------+--------------------+--------------+-------+-------------+------------+-----+---------------+----------+-----------+-----+-----+-----+-----------+-------+\n",
            "|        PARC PARQUE|     US|        false|               null|17.96|NA-US-PR-PARC PARQUE|     Parc Parque, PR|NOT ACCEPTABLE| -66.22|         null|           1|   PR|           null|      null|         NA| 0.38|-0.87|  0.3|   STANDARD|    704|\n",
            "|PASEO COSTA DEL SUR|     US|        false|               null|17.96|NA-US-PR-PASEO CO...|Paseo Costa Del S...|NOT ACCEPTABLE| -66.22|         null|           2|   PR|           null|      null|         NA| 0.38|-0.87|  0.3|   STANDARD|    704|\n",
            "|       BDA SAN LUIS|     US|        false|               null|18.14|NA-US-PR-BDA SAN ...|    Bda San Luis, PR|NOT ACCEPTABLE| -66.26|         null|          10|   PR|           null|      null|         NA| 0.38|-0.86| 0.31|   STANDARD|    709|\n",
            "|  CINGULAR WIRELESS|     US|        false|               null|32.72|NA-US-TX-CINGULAR...|Cingular Wireless...|NOT ACCEPTABLE| -97.31|         null|       61391|   TX|           null|      null|         NA| -0.1|-0.83| 0.54|     UNIQUE|  76166|\n",
            "|         FORT WORTH|     US|        false|               4053|32.75| NA-US-TX-FORT WORTH|      Fort Worth, TX|       PRIMARY| -97.33|         null|       61392|   TX|           2126| 122396986|         NA| -0.1|-0.83| 0.54|   STANDARD|  76177|\n",
            "|           FT WORTH|     US|        false|               4053|32.75|   NA-US-TX-FT WORTH|        Ft Worth, TX|    ACCEPTABLE| -97.33|         null|       61393|   TX|           2126| 122396986|         NA| -0.1|-0.83| 0.54|   STANDARD|  76177|\n",
            "|    URB EUGENE RICE|     US|        false|               null|17.96|NA-US-PR-URB EUGE...| Urb Eugene Rice, PR|NOT ACCEPTABLE| -66.22|         null|           4|   PR|           null|      null|         NA| 0.38|-0.87|  0.3|   STANDARD|    704|\n",
            "|               MESA|     US|        false|              26883|33.37|       NA-US-AZ-MESA|            Mesa, AZ|       PRIMARY|-111.64|no NWS data, |       39827|   AZ|          14962| 563792730|         NA| -0.3|-0.77| 0.55|   STANDARD|  85209|\n",
            "|               MESA|     US|        false|              25446|33.38|       NA-US-AZ-MESA|            Mesa, AZ|       PRIMARY|-111.84|         null|       39828|   AZ|          14374| 471000465|         NA|-0.31|-0.77| 0.55|   STANDARD|  85210|\n",
            "|           HILLIARD|     US|        false|               7443|30.69|   NA-US-FL-HILLIARD|        Hilliard, FL|       PRIMARY| -81.92|         null|       49345|   FL|           3922| 133112149|         NA| 0.12|-0.85| 0.51|   STANDARD|  32046|\n",
            "|             HOLDER|     US|        false|               null|28.96|     NA-US-FL-HOLDER|          Holder, FL|       PRIMARY| -82.41|         null|       49346|   FL|           null|      null|         NA| 0.11|-0.86| 0.48|     PO BOX|  34445|\n",
            "|               HOLT|     US|        false|               2190|30.72|       NA-US-FL-HOLT|            Holt, FL|       PRIMARY| -86.67|         null|       49347|   FL|           1207|  36395913|         NA| 0.04|-0.85| 0.51|   STANDARD|  32564|\n",
            "|          HOMOSASSA|     US|        false|               null|28.78|  NA-US-FL-HOMOSASSA|       Homosassa, FL|       PRIMARY| -82.61|         null|       49348|   FL|           null|      null|         NA| 0.11|-0.86| 0.48|     PO BOX|  34487|\n",
            "|       BDA SAN LUIS|     US|        false|               null|18.14|NA-US-PR-BDA SAN ...|    Bda San Luis, PR|NOT ACCEPTABLE| -66.26|         null|          10|   PR|           null|      null|         NA| 0.38|-0.86| 0.31|   STANDARD|    708|\n",
            "|      SECT LANAUSSE|     US|        false|               null|17.96|NA-US-PR-SECT LAN...|   Sect Lanausse, PR|NOT ACCEPTABLE| -66.22|         null|           3|   PR|           null|      null|         NA| 0.38|-0.87|  0.3|   STANDARD|    704|\n",
            "|      SPRING GARDEN|     US|        false|               null|33.97|NA-US-AL-SPRING G...|   Spring Garden, AL|       PRIMARY| -85.55|         null|       54354|   AL|           null|      null|         NA| 0.06|-0.82| 0.55|     PO BOX|  36275|\n",
            "|        SPRINGVILLE|     US|        false|               7845|33.77|NA-US-AL-SPRINGVILLE|     Springville, AL|       PRIMARY| -86.47|         null|       54355|   AL|           4046| 172127599|         NA| 0.05|-0.82| 0.55|   STANDARD|  35146|\n",
            "|        SPRUCE PINE|     US|        false|               1209|34.37|NA-US-AL-SPRUCE PINE|     Spruce Pine, AL|       PRIMARY| -87.69|         null|       54356|   AL|            610|  18525517|         NA| 0.03|-0.82| 0.56|   STANDARD|  35585|\n",
            "|           ASH HILL|     US|        false|               1666| 36.4|   NA-US-NC-ASH HILL|        Ash Hill, NC|NOT ACCEPTABLE| -80.56|         null|       76511|   NC|            842|  28876493|         NA| 0.13|-0.79| 0.59|   STANDARD|  27007|\n",
            "|           ASHEBORO|     US|        false|              15228|35.71|   NA-US-NC-ASHEBORO|        Asheboro, NC|       PRIMARY| -79.81|         null|       76512|   NC|           8355| 215474318|         NA| 0.14|-0.79| 0.58|   STANDARD|  27203|\n",
            "+-------------------+-------+-------------+-------------------+-----+--------------------+--------------------+--------------+-------+-------------+------------+-----+---------------+----------+-----------+-----+-----+-----+-----------+-------+\n",
            "only showing top 20 rows\n",
            "\n"
          ]
        }
      ]
    },
    {
      "cell_type": "code",
      "source": [
        "#spark.sql(\"select * from df1\")"
      ],
      "metadata": {
        "colab": {
          "base_uri": "https://localhost:8080/",
          "height": 346
        },
        "id": "ygM44_wa_42s",
        "outputId": "90cd4bf0-7d5d-4784-ee21-42bac77f7fbe"
      },
      "execution_count": 41,
      "outputs": [
        {
          "output_type": "error",
          "ename": "AnalysisException",
          "evalue": "ignored",
          "traceback": [
            "\u001b[0;31m---------------------------------------------------------------------------\u001b[0m",
            "\u001b[0;31mAnalysisException\u001b[0m                         Traceback (most recent call last)",
            "\u001b[0;32m<ipython-input-41-d26ba7de4768>\u001b[0m in \u001b[0;36m<cell line: 1>\u001b[0;34m()\u001b[0m\n\u001b[0;32m----> 1\u001b[0;31m \u001b[0mspark\u001b[0m\u001b[0;34m.\u001b[0m\u001b[0msql\u001b[0m\u001b[0;34m(\u001b[0m\u001b[0;34m\"select * from df1\"\u001b[0m\u001b[0;34m)\u001b[0m\u001b[0;34m\u001b[0m\u001b[0;34m\u001b[0m\u001b[0m\n\u001b[0m",
            "\u001b[0;32m/usr/local/lib/python3.9/dist-packages/pyspark/sql/session.py\u001b[0m in \u001b[0;36msql\u001b[0;34m(self, sqlQuery, **kwargs)\u001b[0m\n\u001b[1;32m   1032\u001b[0m             \u001b[0msqlQuery\u001b[0m \u001b[0;34m=\u001b[0m \u001b[0mformatter\u001b[0m\u001b[0;34m.\u001b[0m\u001b[0mformat\u001b[0m\u001b[0;34m(\u001b[0m\u001b[0msqlQuery\u001b[0m\u001b[0;34m,\u001b[0m \u001b[0;34m**\u001b[0m\u001b[0mkwargs\u001b[0m\u001b[0;34m)\u001b[0m\u001b[0;34m\u001b[0m\u001b[0;34m\u001b[0m\u001b[0m\n\u001b[1;32m   1033\u001b[0m         \u001b[0;32mtry\u001b[0m\u001b[0;34m:\u001b[0m\u001b[0;34m\u001b[0m\u001b[0;34m\u001b[0m\u001b[0m\n\u001b[0;32m-> 1034\u001b[0;31m             \u001b[0;32mreturn\u001b[0m \u001b[0mDataFrame\u001b[0m\u001b[0;34m(\u001b[0m\u001b[0mself\u001b[0m\u001b[0;34m.\u001b[0m\u001b[0m_jsparkSession\u001b[0m\u001b[0;34m.\u001b[0m\u001b[0msql\u001b[0m\u001b[0;34m(\u001b[0m\u001b[0msqlQuery\u001b[0m\u001b[0;34m)\u001b[0m\u001b[0;34m,\u001b[0m \u001b[0mself\u001b[0m\u001b[0;34m)\u001b[0m\u001b[0;34m\u001b[0m\u001b[0;34m\u001b[0m\u001b[0m\n\u001b[0m\u001b[1;32m   1035\u001b[0m         \u001b[0;32mfinally\u001b[0m\u001b[0;34m:\u001b[0m\u001b[0;34m\u001b[0m\u001b[0;34m\u001b[0m\u001b[0m\n\u001b[1;32m   1036\u001b[0m             \u001b[0;32mif\u001b[0m \u001b[0mlen\u001b[0m\u001b[0;34m(\u001b[0m\u001b[0mkwargs\u001b[0m\u001b[0;34m)\u001b[0m \u001b[0;34m>\u001b[0m \u001b[0;36m0\u001b[0m\u001b[0;34m:\u001b[0m\u001b[0;34m\u001b[0m\u001b[0;34m\u001b[0m\u001b[0m\n",
            "\u001b[0;32m/usr/local/lib/python3.9/dist-packages/py4j/java_gateway.py\u001b[0m in \u001b[0;36m__call__\u001b[0;34m(self, *args)\u001b[0m\n\u001b[1;32m   1319\u001b[0m \u001b[0;34m\u001b[0m\u001b[0m\n\u001b[1;32m   1320\u001b[0m         \u001b[0manswer\u001b[0m \u001b[0;34m=\u001b[0m \u001b[0mself\u001b[0m\u001b[0;34m.\u001b[0m\u001b[0mgateway_client\u001b[0m\u001b[0;34m.\u001b[0m\u001b[0msend_command\u001b[0m\u001b[0;34m(\u001b[0m\u001b[0mcommand\u001b[0m\u001b[0;34m)\u001b[0m\u001b[0;34m\u001b[0m\u001b[0;34m\u001b[0m\u001b[0m\n\u001b[0;32m-> 1321\u001b[0;31m         return_value = get_return_value(\n\u001b[0m\u001b[1;32m   1322\u001b[0m             answer, self.gateway_client, self.target_id, self.name)\n\u001b[1;32m   1323\u001b[0m \u001b[0;34m\u001b[0m\u001b[0m\n",
            "\u001b[0;32m/usr/local/lib/python3.9/dist-packages/pyspark/sql/utils.py\u001b[0m in \u001b[0;36mdeco\u001b[0;34m(*a, **kw)\u001b[0m\n\u001b[1;32m    194\u001b[0m                 \u001b[0;31m# Hide where the exception came from that shows a non-Pythonic\u001b[0m\u001b[0;34m\u001b[0m\u001b[0;34m\u001b[0m\u001b[0m\n\u001b[1;32m    195\u001b[0m                 \u001b[0;31m# JVM exception message.\u001b[0m\u001b[0;34m\u001b[0m\u001b[0;34m\u001b[0m\u001b[0m\n\u001b[0;32m--> 196\u001b[0;31m                 \u001b[0;32mraise\u001b[0m \u001b[0mconverted\u001b[0m \u001b[0;32mfrom\u001b[0m \u001b[0;32mNone\u001b[0m\u001b[0;34m\u001b[0m\u001b[0;34m\u001b[0m\u001b[0m\n\u001b[0m\u001b[1;32m    197\u001b[0m             \u001b[0;32melse\u001b[0m\u001b[0;34m:\u001b[0m\u001b[0;34m\u001b[0m\u001b[0;34m\u001b[0m\u001b[0m\n\u001b[1;32m    198\u001b[0m                 \u001b[0;32mraise\u001b[0m\u001b[0;34m\u001b[0m\u001b[0;34m\u001b[0m\u001b[0m\n",
            "\u001b[0;31mAnalysisException\u001b[0m: Table or view not found: df1; line 1 pos 14;\n'Project [*]\n+- 'UnresolvedRelation [df1], [], false\n"
          ]
        }
      ]
    },
    {
      "cell_type": "code",
      "source": [
        "df.createGlobalTempView(\"df1\")"
      ],
      "metadata": {
        "id": "F1mAcOHLAJI_"
      },
      "execution_count": 42,
      "outputs": []
    },
    {
      "cell_type": "code",
      "source": [
        "type(spark.sql(\"select * from global_temp.df1\"))"
      ],
      "metadata": {
        "colab": {
          "base_uri": "https://localhost:8080/"
        },
        "id": "vw6eBFfqBFJt",
        "outputId": "bbc2e706-daf0-488a-9160-d8c41b180f39"
      },
      "execution_count": 47,
      "outputs": [
        {
          "output_type": "execute_result",
          "data": {
            "text/plain": [
              "pyspark.sql.dataframe.DataFrame"
            ]
          },
          "metadata": {},
          "execution_count": 47
        }
      ]
    },
    {
      "cell_type": "code",
      "source": [
        "spark.sql(\"select * from global_temp.df1\")"
      ],
      "metadata": {
        "colab": {
          "base_uri": "https://localhost:8080/"
        },
        "id": "-KvVgiqZA4kt",
        "outputId": "30e04eff-939e-4b6f-e455-8e2886b9c63c"
      },
      "execution_count": 45,
      "outputs": [
        {
          "output_type": "execute_result",
          "data": {
            "text/plain": [
              "DataFrame[City: string, Country: string, Decommisioned: boolean, EstimatedPopulation: bigint, Lat: double, Location: string, LocationText: string, LocationType: string, Long: double, Notes: string, RecordNumber: bigint, State: string, TaxReturnsFiled: bigint, TotalWages: bigint, WorldRegion: string, Xaxis: double, Yaxis: double, Zaxis: double, ZipCodeType: string, Zipcode: bigint]"
            ]
          },
          "metadata": {},
          "execution_count": 45
        }
      ]
    },
    {
      "cell_type": "code",
      "source": [
        "spark.sql(\"select * from global_temp.df1\").show()"
      ],
      "metadata": {
        "colab": {
          "base_uri": "https://localhost:8080/"
        },
        "id": "UvGehpR2_-9J",
        "outputId": "958b89b7-ec08-447b-b093-cd4bbb293538"
      },
      "execution_count": 46,
      "outputs": [
        {
          "output_type": "stream",
          "name": "stdout",
          "text": [
            "+-------------------+-------+-------------+-------------------+-----+--------------------+--------------------+--------------+-------+-------------+------------+-----+---------------+----------+-----------+-----+-----+-----+-----------+-------+\n",
            "|               City|Country|Decommisioned|EstimatedPopulation|  Lat|            Location|        LocationText|  LocationType|   Long|        Notes|RecordNumber|State|TaxReturnsFiled|TotalWages|WorldRegion|Xaxis|Yaxis|Zaxis|ZipCodeType|Zipcode|\n",
            "+-------------------+-------+-------------+-------------------+-----+--------------------+--------------------+--------------+-------+-------------+------------+-----+---------------+----------+-----------+-----+-----+-----+-----------+-------+\n",
            "|        PARC PARQUE|     US|        false|               null|17.96|NA-US-PR-PARC PARQUE|     Parc Parque, PR|NOT ACCEPTABLE| -66.22|         null|           1|   PR|           null|      null|         NA| 0.38|-0.87|  0.3|   STANDARD|    704|\n",
            "|PASEO COSTA DEL SUR|     US|        false|               null|17.96|NA-US-PR-PASEO CO...|Paseo Costa Del S...|NOT ACCEPTABLE| -66.22|         null|           2|   PR|           null|      null|         NA| 0.38|-0.87|  0.3|   STANDARD|    704|\n",
            "|       BDA SAN LUIS|     US|        false|               null|18.14|NA-US-PR-BDA SAN ...|    Bda San Luis, PR|NOT ACCEPTABLE| -66.26|         null|          10|   PR|           null|      null|         NA| 0.38|-0.86| 0.31|   STANDARD|    709|\n",
            "|  CINGULAR WIRELESS|     US|        false|               null|32.72|NA-US-TX-CINGULAR...|Cingular Wireless...|NOT ACCEPTABLE| -97.31|         null|       61391|   TX|           null|      null|         NA| -0.1|-0.83| 0.54|     UNIQUE|  76166|\n",
            "|         FORT WORTH|     US|        false|               4053|32.75| NA-US-TX-FORT WORTH|      Fort Worth, TX|       PRIMARY| -97.33|         null|       61392|   TX|           2126| 122396986|         NA| -0.1|-0.83| 0.54|   STANDARD|  76177|\n",
            "|           FT WORTH|     US|        false|               4053|32.75|   NA-US-TX-FT WORTH|        Ft Worth, TX|    ACCEPTABLE| -97.33|         null|       61393|   TX|           2126| 122396986|         NA| -0.1|-0.83| 0.54|   STANDARD|  76177|\n",
            "|    URB EUGENE RICE|     US|        false|               null|17.96|NA-US-PR-URB EUGE...| Urb Eugene Rice, PR|NOT ACCEPTABLE| -66.22|         null|           4|   PR|           null|      null|         NA| 0.38|-0.87|  0.3|   STANDARD|    704|\n",
            "|               MESA|     US|        false|              26883|33.37|       NA-US-AZ-MESA|            Mesa, AZ|       PRIMARY|-111.64|no NWS data, |       39827|   AZ|          14962| 563792730|         NA| -0.3|-0.77| 0.55|   STANDARD|  85209|\n",
            "|               MESA|     US|        false|              25446|33.38|       NA-US-AZ-MESA|            Mesa, AZ|       PRIMARY|-111.84|         null|       39828|   AZ|          14374| 471000465|         NA|-0.31|-0.77| 0.55|   STANDARD|  85210|\n",
            "|           HILLIARD|     US|        false|               7443|30.69|   NA-US-FL-HILLIARD|        Hilliard, FL|       PRIMARY| -81.92|         null|       49345|   FL|           3922| 133112149|         NA| 0.12|-0.85| 0.51|   STANDARD|  32046|\n",
            "|             HOLDER|     US|        false|               null|28.96|     NA-US-FL-HOLDER|          Holder, FL|       PRIMARY| -82.41|         null|       49346|   FL|           null|      null|         NA| 0.11|-0.86| 0.48|     PO BOX|  34445|\n",
            "|               HOLT|     US|        false|               2190|30.72|       NA-US-FL-HOLT|            Holt, FL|       PRIMARY| -86.67|         null|       49347|   FL|           1207|  36395913|         NA| 0.04|-0.85| 0.51|   STANDARD|  32564|\n",
            "|          HOMOSASSA|     US|        false|               null|28.78|  NA-US-FL-HOMOSASSA|       Homosassa, FL|       PRIMARY| -82.61|         null|       49348|   FL|           null|      null|         NA| 0.11|-0.86| 0.48|     PO BOX|  34487|\n",
            "|       BDA SAN LUIS|     US|        false|               null|18.14|NA-US-PR-BDA SAN ...|    Bda San Luis, PR|NOT ACCEPTABLE| -66.26|         null|          10|   PR|           null|      null|         NA| 0.38|-0.86| 0.31|   STANDARD|    708|\n",
            "|      SECT LANAUSSE|     US|        false|               null|17.96|NA-US-PR-SECT LAN...|   Sect Lanausse, PR|NOT ACCEPTABLE| -66.22|         null|           3|   PR|           null|      null|         NA| 0.38|-0.87|  0.3|   STANDARD|    704|\n",
            "|      SPRING GARDEN|     US|        false|               null|33.97|NA-US-AL-SPRING G...|   Spring Garden, AL|       PRIMARY| -85.55|         null|       54354|   AL|           null|      null|         NA| 0.06|-0.82| 0.55|     PO BOX|  36275|\n",
            "|        SPRINGVILLE|     US|        false|               7845|33.77|NA-US-AL-SPRINGVILLE|     Springville, AL|       PRIMARY| -86.47|         null|       54355|   AL|           4046| 172127599|         NA| 0.05|-0.82| 0.55|   STANDARD|  35146|\n",
            "|        SPRUCE PINE|     US|        false|               1209|34.37|NA-US-AL-SPRUCE PINE|     Spruce Pine, AL|       PRIMARY| -87.69|         null|       54356|   AL|            610|  18525517|         NA| 0.03|-0.82| 0.56|   STANDARD|  35585|\n",
            "|           ASH HILL|     US|        false|               1666| 36.4|   NA-US-NC-ASH HILL|        Ash Hill, NC|NOT ACCEPTABLE| -80.56|         null|       76511|   NC|            842|  28876493|         NA| 0.13|-0.79| 0.59|   STANDARD|  27007|\n",
            "|           ASHEBORO|     US|        false|              15228|35.71|   NA-US-NC-ASHEBORO|        Asheboro, NC|       PRIMARY| -79.81|         null|       76512|   NC|           8355| 215474318|         NA| 0.14|-0.79| 0.58|   STANDARD|  27203|\n",
            "+-------------------+-------+-------------+-------------------+-----+--------------------+--------------------+--------------+-------+-------------+------------+-----+---------------+----------+-----------+-----+-----+-----+-----------+-------+\n",
            "only showing top 20 rows\n",
            "\n"
          ]
        }
      ]
    },
    {
      "cell_type": "markdown",
      "source": [
        "# **Read Text File**"
      ],
      "metadata": {
        "id": "kVKFFoBnBk0P"
      }
    },
    {
      "cell_type": "code",
      "source": [
        "df= spark.read.option(\"header\",\"true\") \\\n",
        "    .option(\"delimiter\",\",\") \\\n",
        "    .option(\"inferSchema\" , \"true\") \\\n",
        "    .csv(\"iris.txt\")"
      ],
      "metadata": {
        "id": "t0ZH3inJBoYw"
      },
      "execution_count": 53,
      "outputs": []
    },
    {
      "cell_type": "code",
      "source": [
        "df.show()"
      ],
      "metadata": {
        "colab": {
          "base_uri": "https://localhost:8080/"
        },
        "id": "gOydJEFcCuca",
        "outputId": "ccb98f66-8ed9-4b31-a65f-46f7b4baa564"
      },
      "execution_count": 54,
      "outputs": [
        {
          "output_type": "stream",
          "name": "stdout",
          "text": [
            "+---+---+---+---+-----------+\n",
            "|5.1|3.5|1.4|0.2|Iris-setosa|\n",
            "+---+---+---+---+-----------+\n",
            "|4.9|3.0|1.4|0.2|Iris-setosa|\n",
            "|4.7|3.2|1.3|0.2|Iris-setosa|\n",
            "|4.6|3.1|1.5|0.2|Iris-setosa|\n",
            "|5.0|3.6|1.4|0.2|Iris-setosa|\n",
            "|5.4|3.9|1.7|0.4|Iris-setosa|\n",
            "|4.6|3.4|1.4|0.3|Iris-setosa|\n",
            "|5.0|3.4|1.5|0.2|Iris-setosa|\n",
            "|4.4|2.9|1.4|0.2|Iris-setosa|\n",
            "|4.9|3.1|1.5|0.1|Iris-setosa|\n",
            "|5.4|3.7|1.5|0.2|Iris-setosa|\n",
            "|4.8|3.4|1.6|0.2|Iris-setosa|\n",
            "|4.8|3.0|1.4|0.1|Iris-setosa|\n",
            "|4.3|3.0|1.1|0.1|Iris-setosa|\n",
            "|5.8|4.0|1.2|0.2|Iris-setosa|\n",
            "|5.7|4.4|1.5|0.4|Iris-setosa|\n",
            "|5.4|3.9|1.3|0.4|Iris-setosa|\n",
            "|5.1|3.5|1.4|0.3|Iris-setosa|\n",
            "|5.7|3.8|1.7|0.3|Iris-setosa|\n",
            "|5.1|3.8|1.5|0.3|Iris-setosa|\n",
            "|5.4|3.4|1.7|0.2|Iris-setosa|\n",
            "+---+---+---+---+-----------+\n",
            "only showing top 20 rows\n",
            "\n"
          ]
        }
      ]
    },
    {
      "cell_type": "code",
      "source": [
        "df= spark.read.option(\"header\",\"false\") \\\n",
        "    .option(\"delimiter\",\",\") \\\n",
        "    .option(\"inferSchema\" , \"true\") \\\n",
        "    .csv(\"iris.txt\")\n",
        "df.show()"
      ],
      "metadata": {
        "colab": {
          "base_uri": "https://localhost:8080/"
        },
        "id": "iL5snXqDDG1h",
        "outputId": "bd6262bb-343e-4b11-e1a8-f1e6bfa90cc5"
      },
      "execution_count": 56,
      "outputs": [
        {
          "output_type": "stream",
          "name": "stdout",
          "text": [
            "+---+---+---+---+-----------+\n",
            "|_c0|_c1|_c2|_c3|        _c4|\n",
            "+---+---+---+---+-----------+\n",
            "|5.1|3.5|1.4|0.2|Iris-setosa|\n",
            "|4.9|3.0|1.4|0.2|Iris-setosa|\n",
            "|4.7|3.2|1.3|0.2|Iris-setosa|\n",
            "|4.6|3.1|1.5|0.2|Iris-setosa|\n",
            "|5.0|3.6|1.4|0.2|Iris-setosa|\n",
            "|5.4|3.9|1.7|0.4|Iris-setosa|\n",
            "|4.6|3.4|1.4|0.3|Iris-setosa|\n",
            "|5.0|3.4|1.5|0.2|Iris-setosa|\n",
            "|4.4|2.9|1.4|0.2|Iris-setosa|\n",
            "|4.9|3.1|1.5|0.1|Iris-setosa|\n",
            "|5.4|3.7|1.5|0.2|Iris-setosa|\n",
            "|4.8|3.4|1.6|0.2|Iris-setosa|\n",
            "|4.8|3.0|1.4|0.1|Iris-setosa|\n",
            "|4.3|3.0|1.1|0.1|Iris-setosa|\n",
            "|5.8|4.0|1.2|0.2|Iris-setosa|\n",
            "|5.7|4.4|1.5|0.4|Iris-setosa|\n",
            "|5.4|3.9|1.3|0.4|Iris-setosa|\n",
            "|5.1|3.5|1.4|0.3|Iris-setosa|\n",
            "|5.7|3.8|1.7|0.3|Iris-setosa|\n",
            "|5.1|3.8|1.5|0.3|Iris-setosa|\n",
            "+---+---+---+---+-----------+\n",
            "only showing top 20 rows\n",
            "\n"
          ]
        }
      ]
    },
    {
      "cell_type": "code",
      "source": [
        "df= spark.read.option(\"header\",\"true\") \\\n",
        "    .option(\"delimiter\",\",\") \\\n",
        "    .option(\"inferSchema\" , \"true\") \\\n",
        "    .csv(\"iris1.txt\")\n",
        "df.show()"
      ],
      "metadata": {
        "colab": {
          "base_uri": "https://localhost:8080/"
        },
        "id": "Clf72Su0DXej",
        "outputId": "495c3927-1985-4486-a40d-4050d23127f3"
      },
      "execution_count": 58,
      "outputs": [
        {
          "output_type": "stream",
          "name": "stdout",
          "text": [
            "+---+---+---+---+-----------+\n",
            "|  a|  b|  c|  d|          e|\n",
            "+---+---+---+---+-----------+\n",
            "|5.1|3.5|1.4|0.2|Iris-setosa|\n",
            "|4.9|3.0|1.4|0.2|Iris-setosa|\n",
            "|4.7|3.2|1.3|0.2|Iris-setosa|\n",
            "|4.6|3.1|1.5|0.2|Iris-setosa|\n",
            "|5.0|3.6|1.4|0.2|Iris-setosa|\n",
            "|5.4|3.9|1.7|0.4|Iris-setosa|\n",
            "|4.6|3.4|1.4|0.3|Iris-setosa|\n",
            "|5.0|3.4|1.5|0.2|Iris-setosa|\n",
            "|4.4|2.9|1.4|0.2|Iris-setosa|\n",
            "|4.9|3.1|1.5|0.1|Iris-setosa|\n",
            "|5.4|3.7|1.5|0.2|Iris-setosa|\n",
            "|4.8|3.4|1.6|0.2|Iris-setosa|\n",
            "|4.8|3.0|1.4|0.1|Iris-setosa|\n",
            "|4.3|3.0|1.1|0.1|Iris-setosa|\n",
            "|5.8|4.0|1.2|0.2|Iris-setosa|\n",
            "|5.7|4.4|1.5|0.4|Iris-setosa|\n",
            "|5.4|3.9|1.3|0.4|Iris-setosa|\n",
            "|5.1|3.5|1.4|0.3|Iris-setosa|\n",
            "|5.7|3.8|1.7|0.3|Iris-setosa|\n",
            "|5.1|3.8|1.5|0.3|Iris-setosa|\n",
            "+---+---+---+---+-----------+\n",
            "only showing top 20 rows\n",
            "\n"
          ]
        }
      ]
    },
    {
      "cell_type": "code",
      "source": [
        "df.printSchema()"
      ],
      "metadata": {
        "colab": {
          "base_uri": "https://localhost:8080/"
        },
        "id": "vQABYCzIDuTq",
        "outputId": "7c938fa3-c5bd-4966-a183-2b3cf8bb6b04"
      },
      "execution_count": 59,
      "outputs": [
        {
          "output_type": "stream",
          "name": "stdout",
          "text": [
            "root\n",
            " |-- a: double (nullable = true)\n",
            " |-- b: double (nullable = true)\n",
            " |-- c: double (nullable = true)\n",
            " |-- d: double (nullable = true)\n",
            " |-- e: string (nullable = true)\n",
            "\n"
          ]
        }
      ]
    },
    {
      "cell_type": "code",
      "source": [
        "df.columns"
      ],
      "metadata": {
        "colab": {
          "base_uri": "https://localhost:8080/"
        },
        "id": "FgxkYNFuFL7M",
        "outputId": "33dbf44c-16cc-470d-92c1-344c2572a2d6"
      },
      "execution_count": 60,
      "outputs": [
        {
          "output_type": "execute_result",
          "data": {
            "text/plain": [
              "['a', 'b', 'c', 'd', 'e']"
            ]
          },
          "metadata": {},
          "execution_count": 60
        }
      ]
    },
    {
      "cell_type": "code",
      "source": [
        "df.select('a').show()"
      ],
      "metadata": {
        "colab": {
          "base_uri": "https://localhost:8080/"
        },
        "id": "zucKgyAoFQuh",
        "outputId": "a5ae1435-522c-4d1f-d762-fd640c12c1c7"
      },
      "execution_count": 62,
      "outputs": [
        {
          "output_type": "stream",
          "name": "stdout",
          "text": [
            "+---+\n",
            "|  a|\n",
            "+---+\n",
            "|5.1|\n",
            "|4.9|\n",
            "|4.7|\n",
            "|4.6|\n",
            "|5.0|\n",
            "|5.4|\n",
            "|4.6|\n",
            "|5.0|\n",
            "|4.4|\n",
            "|4.9|\n",
            "|5.4|\n",
            "|4.8|\n",
            "|4.8|\n",
            "|4.3|\n",
            "|5.8|\n",
            "|5.7|\n",
            "|5.4|\n",
            "|5.1|\n",
            "|5.7|\n",
            "|5.1|\n",
            "+---+\n",
            "only showing top 20 rows\n",
            "\n"
          ]
        }
      ]
    },
    {
      "cell_type": "code",
      "source": [
        "df.select('a','e').show()"
      ],
      "metadata": {
        "colab": {
          "base_uri": "https://localhost:8080/"
        },
        "id": "w0Zg7nEFFV7m",
        "outputId": "8482e438-56d8-4170-b557-cc8e8d7668ba"
      },
      "execution_count": 61,
      "outputs": [
        {
          "output_type": "stream",
          "name": "stdout",
          "text": [
            "+---+-----------+\n",
            "|  a|          e|\n",
            "+---+-----------+\n",
            "|5.1|Iris-setosa|\n",
            "|4.9|Iris-setosa|\n",
            "|4.7|Iris-setosa|\n",
            "|4.6|Iris-setosa|\n",
            "|5.0|Iris-setosa|\n",
            "|5.4|Iris-setosa|\n",
            "|4.6|Iris-setosa|\n",
            "|5.0|Iris-setosa|\n",
            "|4.4|Iris-setosa|\n",
            "|4.9|Iris-setosa|\n",
            "|5.4|Iris-setosa|\n",
            "|4.8|Iris-setosa|\n",
            "|4.8|Iris-setosa|\n",
            "|4.3|Iris-setosa|\n",
            "|5.8|Iris-setosa|\n",
            "|5.7|Iris-setosa|\n",
            "|5.4|Iris-setosa|\n",
            "|5.1|Iris-setosa|\n",
            "|5.7|Iris-setosa|\n",
            "|5.1|Iris-setosa|\n",
            "+---+-----------+\n",
            "only showing top 20 rows\n",
            "\n"
          ]
        }
      ]
    },
    {
      "cell_type": "markdown",
      "source": [
        "# **Create parquet file from json**"
      ],
      "metadata": {
        "id": "3k1UBRSWIcMh"
      }
    },
    {
      "cell_type": "code",
      "source": [
        "df=spark.read.json(\"zipcodes.json\")\n",
        "df.show()"
      ],
      "metadata": {
        "colab": {
          "base_uri": "https://localhost:8080/"
        },
        "id": "oqfe5IXZFYaH",
        "outputId": "26660b95-0059-4b31-f0e0-a94277c750af"
      },
      "execution_count": 63,
      "outputs": [
        {
          "output_type": "stream",
          "name": "stdout",
          "text": [
            "+-------------------+-------+-------------+-------------------+-----+--------------------+--------------------+--------------+-------+-------------+------------+-----+---------------+----------+-----------+-----+-----+-----+-----------+-------+\n",
            "|               City|Country|Decommisioned|EstimatedPopulation|  Lat|            Location|        LocationText|  LocationType|   Long|        Notes|RecordNumber|State|TaxReturnsFiled|TotalWages|WorldRegion|Xaxis|Yaxis|Zaxis|ZipCodeType|Zipcode|\n",
            "+-------------------+-------+-------------+-------------------+-----+--------------------+--------------------+--------------+-------+-------------+------------+-----+---------------+----------+-----------+-----+-----+-----+-----------+-------+\n",
            "|        PARC PARQUE|     US|        false|               null|17.96|NA-US-PR-PARC PARQUE|     Parc Parque, PR|NOT ACCEPTABLE| -66.22|         null|           1|   PR|           null|      null|         NA| 0.38|-0.87|  0.3|   STANDARD|    704|\n",
            "|PASEO COSTA DEL SUR|     US|        false|               null|17.96|NA-US-PR-PASEO CO...|Paseo Costa Del S...|NOT ACCEPTABLE| -66.22|         null|           2|   PR|           null|      null|         NA| 0.38|-0.87|  0.3|   STANDARD|    704|\n",
            "|       BDA SAN LUIS|     US|        false|               null|18.14|NA-US-PR-BDA SAN ...|    Bda San Luis, PR|NOT ACCEPTABLE| -66.26|         null|          10|   PR|           null|      null|         NA| 0.38|-0.86| 0.31|   STANDARD|    709|\n",
            "|  CINGULAR WIRELESS|     US|        false|               null|32.72|NA-US-TX-CINGULAR...|Cingular Wireless...|NOT ACCEPTABLE| -97.31|         null|       61391|   TX|           null|      null|         NA| -0.1|-0.83| 0.54|     UNIQUE|  76166|\n",
            "|         FORT WORTH|     US|        false|               4053|32.75| NA-US-TX-FORT WORTH|      Fort Worth, TX|       PRIMARY| -97.33|         null|       61392|   TX|           2126| 122396986|         NA| -0.1|-0.83| 0.54|   STANDARD|  76177|\n",
            "|           FT WORTH|     US|        false|               4053|32.75|   NA-US-TX-FT WORTH|        Ft Worth, TX|    ACCEPTABLE| -97.33|         null|       61393|   TX|           2126| 122396986|         NA| -0.1|-0.83| 0.54|   STANDARD|  76177|\n",
            "|    URB EUGENE RICE|     US|        false|               null|17.96|NA-US-PR-URB EUGE...| Urb Eugene Rice, PR|NOT ACCEPTABLE| -66.22|         null|           4|   PR|           null|      null|         NA| 0.38|-0.87|  0.3|   STANDARD|    704|\n",
            "|               MESA|     US|        false|              26883|33.37|       NA-US-AZ-MESA|            Mesa, AZ|       PRIMARY|-111.64|no NWS data, |       39827|   AZ|          14962| 563792730|         NA| -0.3|-0.77| 0.55|   STANDARD|  85209|\n",
            "|               MESA|     US|        false|              25446|33.38|       NA-US-AZ-MESA|            Mesa, AZ|       PRIMARY|-111.84|         null|       39828|   AZ|          14374| 471000465|         NA|-0.31|-0.77| 0.55|   STANDARD|  85210|\n",
            "|           HILLIARD|     US|        false|               7443|30.69|   NA-US-FL-HILLIARD|        Hilliard, FL|       PRIMARY| -81.92|         null|       49345|   FL|           3922| 133112149|         NA| 0.12|-0.85| 0.51|   STANDARD|  32046|\n",
            "|             HOLDER|     US|        false|               null|28.96|     NA-US-FL-HOLDER|          Holder, FL|       PRIMARY| -82.41|         null|       49346|   FL|           null|      null|         NA| 0.11|-0.86| 0.48|     PO BOX|  34445|\n",
            "|               HOLT|     US|        false|               2190|30.72|       NA-US-FL-HOLT|            Holt, FL|       PRIMARY| -86.67|         null|       49347|   FL|           1207|  36395913|         NA| 0.04|-0.85| 0.51|   STANDARD|  32564|\n",
            "|          HOMOSASSA|     US|        false|               null|28.78|  NA-US-FL-HOMOSASSA|       Homosassa, FL|       PRIMARY| -82.61|         null|       49348|   FL|           null|      null|         NA| 0.11|-0.86| 0.48|     PO BOX|  34487|\n",
            "|       BDA SAN LUIS|     US|        false|               null|18.14|NA-US-PR-BDA SAN ...|    Bda San Luis, PR|NOT ACCEPTABLE| -66.26|         null|          10|   PR|           null|      null|         NA| 0.38|-0.86| 0.31|   STANDARD|    708|\n",
            "|      SECT LANAUSSE|     US|        false|               null|17.96|NA-US-PR-SECT LAN...|   Sect Lanausse, PR|NOT ACCEPTABLE| -66.22|         null|           3|   PR|           null|      null|         NA| 0.38|-0.87|  0.3|   STANDARD|    704|\n",
            "|      SPRING GARDEN|     US|        false|               null|33.97|NA-US-AL-SPRING G...|   Spring Garden, AL|       PRIMARY| -85.55|         null|       54354|   AL|           null|      null|         NA| 0.06|-0.82| 0.55|     PO BOX|  36275|\n",
            "|        SPRINGVILLE|     US|        false|               7845|33.77|NA-US-AL-SPRINGVILLE|     Springville, AL|       PRIMARY| -86.47|         null|       54355|   AL|           4046| 172127599|         NA| 0.05|-0.82| 0.55|   STANDARD|  35146|\n",
            "|        SPRUCE PINE|     US|        false|               1209|34.37|NA-US-AL-SPRUCE PINE|     Spruce Pine, AL|       PRIMARY| -87.69|         null|       54356|   AL|            610|  18525517|         NA| 0.03|-0.82| 0.56|   STANDARD|  35585|\n",
            "|           ASH HILL|     US|        false|               1666| 36.4|   NA-US-NC-ASH HILL|        Ash Hill, NC|NOT ACCEPTABLE| -80.56|         null|       76511|   NC|            842|  28876493|         NA| 0.13|-0.79| 0.59|   STANDARD|  27007|\n",
            "|           ASHEBORO|     US|        false|              15228|35.71|   NA-US-NC-ASHEBORO|        Asheboro, NC|       PRIMARY| -79.81|         null|       76512|   NC|           8355| 215474318|         NA| 0.14|-0.79| 0.58|   STANDARD|  27203|\n",
            "+-------------------+-------+-------------+-------------------+-----+--------------------+--------------------+--------------+-------+-------------+------------+-----+---------------+----------+-----------+-----+-----+-----+-----------+-------+\n",
            "only showing top 20 rows\n",
            "\n"
          ]
        }
      ]
    },
    {
      "cell_type": "code",
      "source": [
        "df.write.parquet(\"df.parquet\")"
      ],
      "metadata": {
        "id": "UiJtFQvjF6j6"
      },
      "execution_count": 64,
      "outputs": []
    },
    {
      "cell_type": "code",
      "source": [
        "df.printSchema()"
      ],
      "metadata": {
        "colab": {
          "base_uri": "https://localhost:8080/"
        },
        "id": "oFY51-jfGW72",
        "outputId": "5cb4b1ef-0c8f-40e2-ada8-eadde6eb5450"
      },
      "execution_count": 65,
      "outputs": [
        {
          "output_type": "stream",
          "name": "stdout",
          "text": [
            "root\n",
            " |-- City: string (nullable = true)\n",
            " |-- Country: string (nullable = true)\n",
            " |-- Decommisioned: boolean (nullable = true)\n",
            " |-- EstimatedPopulation: long (nullable = true)\n",
            " |-- Lat: double (nullable = true)\n",
            " |-- Location: string (nullable = true)\n",
            " |-- LocationText: string (nullable = true)\n",
            " |-- LocationType: string (nullable = true)\n",
            " |-- Long: double (nullable = true)\n",
            " |-- Notes: string (nullable = true)\n",
            " |-- RecordNumber: long (nullable = true)\n",
            " |-- State: string (nullable = true)\n",
            " |-- TaxReturnsFiled: long (nullable = true)\n",
            " |-- TotalWages: long (nullable = true)\n",
            " |-- WorldRegion: string (nullable = true)\n",
            " |-- Xaxis: double (nullable = true)\n",
            " |-- Yaxis: double (nullable = true)\n",
            " |-- Zaxis: double (nullable = true)\n",
            " |-- ZipCodeType: string (nullable = true)\n",
            " |-- Zipcode: long (nullable = true)\n",
            "\n"
          ]
        }
      ]
    },
    {
      "cell_type": "markdown",
      "source": [
        "# Reading parquet file"
      ],
      "metadata": {
        "id": "auKjU_q-HNVH"
      }
    },
    {
      "cell_type": "code",
      "source": [
        "df_p =spark.read.parquet(\"df.parquet\")\n",
        "df_p.printSchema()"
      ],
      "metadata": {
        "colab": {
          "base_uri": "https://localhost:8080/"
        },
        "id": "wuTBiP7NGHNV",
        "outputId": "0d534c05-b7f3-423b-d990-083aafa5cc56"
      },
      "execution_count": 67,
      "outputs": [
        {
          "output_type": "stream",
          "name": "stdout",
          "text": [
            "root\n",
            " |-- City: string (nullable = true)\n",
            " |-- Country: string (nullable = true)\n",
            " |-- Decommisioned: boolean (nullable = true)\n",
            " |-- EstimatedPopulation: long (nullable = true)\n",
            " |-- Lat: double (nullable = true)\n",
            " |-- Location: string (nullable = true)\n",
            " |-- LocationText: string (nullable = true)\n",
            " |-- LocationType: string (nullable = true)\n",
            " |-- Long: double (nullable = true)\n",
            " |-- Notes: string (nullable = true)\n",
            " |-- RecordNumber: long (nullable = true)\n",
            " |-- State: string (nullable = true)\n",
            " |-- TaxReturnsFiled: long (nullable = true)\n",
            " |-- TotalWages: long (nullable = true)\n",
            " |-- WorldRegion: string (nullable = true)\n",
            " |-- Xaxis: double (nullable = true)\n",
            " |-- Yaxis: double (nullable = true)\n",
            " |-- Zaxis: double (nullable = true)\n",
            " |-- ZipCodeType: string (nullable = true)\n",
            " |-- Zipcode: long (nullable = true)\n",
            "\n"
          ]
        }
      ]
    },
    {
      "cell_type": "code",
      "source": [
        "df_p.select('City','Zipcode').show()"
      ],
      "metadata": {
        "colab": {
          "base_uri": "https://localhost:8080/"
        },
        "id": "khYRiFClGyap",
        "outputId": "fe9a87c5-4e96-4163-8d39-7c3dff1d41d5"
      },
      "execution_count": 70,
      "outputs": [
        {
          "output_type": "stream",
          "name": "stdout",
          "text": [
            "+-------------------+-------+\n",
            "|               City|Zipcode|\n",
            "+-------------------+-------+\n",
            "|        PARC PARQUE|    704|\n",
            "|PASEO COSTA DEL SUR|    704|\n",
            "|       BDA SAN LUIS|    709|\n",
            "|  CINGULAR WIRELESS|  76166|\n",
            "|         FORT WORTH|  76177|\n",
            "|           FT WORTH|  76177|\n",
            "|    URB EUGENE RICE|    704|\n",
            "|               MESA|  85209|\n",
            "|               MESA|  85210|\n",
            "|           HILLIARD|  32046|\n",
            "|             HOLDER|  34445|\n",
            "|               HOLT|  32564|\n",
            "|          HOMOSASSA|  34487|\n",
            "|       BDA SAN LUIS|    708|\n",
            "|      SECT LANAUSSE|    704|\n",
            "|      SPRING GARDEN|  36275|\n",
            "|        SPRINGVILLE|  35146|\n",
            "|        SPRUCE PINE|  35585|\n",
            "|           ASH HILL|  27007|\n",
            "|           ASHEBORO|  27203|\n",
            "+-------------------+-------+\n",
            "only showing top 20 rows\n",
            "\n"
          ]
        }
      ]
    },
    {
      "cell_type": "code",
      "source": [
        "df_p.select('City').show()"
      ],
      "metadata": {
        "colab": {
          "base_uri": "https://localhost:8080/"
        },
        "id": "PFUTVfbLGehA",
        "outputId": "e22f0c84-0a38-471d-91f4-ac716f94e3b6"
      },
      "execution_count": 71,
      "outputs": [
        {
          "output_type": "stream",
          "name": "stdout",
          "text": [
            "+-------------------+\n",
            "|               City|\n",
            "+-------------------+\n",
            "|        PARC PARQUE|\n",
            "|PASEO COSTA DEL SUR|\n",
            "|       BDA SAN LUIS|\n",
            "|  CINGULAR WIRELESS|\n",
            "|         FORT WORTH|\n",
            "|           FT WORTH|\n",
            "|    URB EUGENE RICE|\n",
            "|               MESA|\n",
            "|               MESA|\n",
            "|           HILLIARD|\n",
            "|             HOLDER|\n",
            "|               HOLT|\n",
            "|          HOMOSASSA|\n",
            "|       BDA SAN LUIS|\n",
            "|      SECT LANAUSSE|\n",
            "|      SPRING GARDEN|\n",
            "|        SPRINGVILLE|\n",
            "|        SPRUCE PINE|\n",
            "|           ASH HILL|\n",
            "|           ASHEBORO|\n",
            "+-------------------+\n",
            "only showing top 20 rows\n",
            "\n"
          ]
        }
      ]
    },
    {
      "cell_type": "code",
      "source": [
        "df_p.show()"
      ],
      "metadata": {
        "colab": {
          "base_uri": "https://localhost:8080/"
        },
        "id": "XAk2drU2GlBy",
        "outputId": "b3fd839d-7b38-4d10-99f4-8bd971249531"
      },
      "execution_count": 72,
      "outputs": [
        {
          "output_type": "stream",
          "name": "stdout",
          "text": [
            "+-------------------+-------+-------------+-------------------+-----+--------------------+--------------------+--------------+-------+-------------+------------+-----+---------------+----------+-----------+-----+-----+-----+-----------+-------+\n",
            "|               City|Country|Decommisioned|EstimatedPopulation|  Lat|            Location|        LocationText|  LocationType|   Long|        Notes|RecordNumber|State|TaxReturnsFiled|TotalWages|WorldRegion|Xaxis|Yaxis|Zaxis|ZipCodeType|Zipcode|\n",
            "+-------------------+-------+-------------+-------------------+-----+--------------------+--------------------+--------------+-------+-------------+------------+-----+---------------+----------+-----------+-----+-----+-----+-----------+-------+\n",
            "|        PARC PARQUE|     US|        false|               null|17.96|NA-US-PR-PARC PARQUE|     Parc Parque, PR|NOT ACCEPTABLE| -66.22|         null|           1|   PR|           null|      null|         NA| 0.38|-0.87|  0.3|   STANDARD|    704|\n",
            "|PASEO COSTA DEL SUR|     US|        false|               null|17.96|NA-US-PR-PASEO CO...|Paseo Costa Del S...|NOT ACCEPTABLE| -66.22|         null|           2|   PR|           null|      null|         NA| 0.38|-0.87|  0.3|   STANDARD|    704|\n",
            "|       BDA SAN LUIS|     US|        false|               null|18.14|NA-US-PR-BDA SAN ...|    Bda San Luis, PR|NOT ACCEPTABLE| -66.26|         null|          10|   PR|           null|      null|         NA| 0.38|-0.86| 0.31|   STANDARD|    709|\n",
            "|  CINGULAR WIRELESS|     US|        false|               null|32.72|NA-US-TX-CINGULAR...|Cingular Wireless...|NOT ACCEPTABLE| -97.31|         null|       61391|   TX|           null|      null|         NA| -0.1|-0.83| 0.54|     UNIQUE|  76166|\n",
            "|         FORT WORTH|     US|        false|               4053|32.75| NA-US-TX-FORT WORTH|      Fort Worth, TX|       PRIMARY| -97.33|         null|       61392|   TX|           2126| 122396986|         NA| -0.1|-0.83| 0.54|   STANDARD|  76177|\n",
            "|           FT WORTH|     US|        false|               4053|32.75|   NA-US-TX-FT WORTH|        Ft Worth, TX|    ACCEPTABLE| -97.33|         null|       61393|   TX|           2126| 122396986|         NA| -0.1|-0.83| 0.54|   STANDARD|  76177|\n",
            "|    URB EUGENE RICE|     US|        false|               null|17.96|NA-US-PR-URB EUGE...| Urb Eugene Rice, PR|NOT ACCEPTABLE| -66.22|         null|           4|   PR|           null|      null|         NA| 0.38|-0.87|  0.3|   STANDARD|    704|\n",
            "|               MESA|     US|        false|              26883|33.37|       NA-US-AZ-MESA|            Mesa, AZ|       PRIMARY|-111.64|no NWS data, |       39827|   AZ|          14962| 563792730|         NA| -0.3|-0.77| 0.55|   STANDARD|  85209|\n",
            "|               MESA|     US|        false|              25446|33.38|       NA-US-AZ-MESA|            Mesa, AZ|       PRIMARY|-111.84|         null|       39828|   AZ|          14374| 471000465|         NA|-0.31|-0.77| 0.55|   STANDARD|  85210|\n",
            "|           HILLIARD|     US|        false|               7443|30.69|   NA-US-FL-HILLIARD|        Hilliard, FL|       PRIMARY| -81.92|         null|       49345|   FL|           3922| 133112149|         NA| 0.12|-0.85| 0.51|   STANDARD|  32046|\n",
            "|             HOLDER|     US|        false|               null|28.96|     NA-US-FL-HOLDER|          Holder, FL|       PRIMARY| -82.41|         null|       49346|   FL|           null|      null|         NA| 0.11|-0.86| 0.48|     PO BOX|  34445|\n",
            "|               HOLT|     US|        false|               2190|30.72|       NA-US-FL-HOLT|            Holt, FL|       PRIMARY| -86.67|         null|       49347|   FL|           1207|  36395913|         NA| 0.04|-0.85| 0.51|   STANDARD|  32564|\n",
            "|          HOMOSASSA|     US|        false|               null|28.78|  NA-US-FL-HOMOSASSA|       Homosassa, FL|       PRIMARY| -82.61|         null|       49348|   FL|           null|      null|         NA| 0.11|-0.86| 0.48|     PO BOX|  34487|\n",
            "|       BDA SAN LUIS|     US|        false|               null|18.14|NA-US-PR-BDA SAN ...|    Bda San Luis, PR|NOT ACCEPTABLE| -66.26|         null|          10|   PR|           null|      null|         NA| 0.38|-0.86| 0.31|   STANDARD|    708|\n",
            "|      SECT LANAUSSE|     US|        false|               null|17.96|NA-US-PR-SECT LAN...|   Sect Lanausse, PR|NOT ACCEPTABLE| -66.22|         null|           3|   PR|           null|      null|         NA| 0.38|-0.87|  0.3|   STANDARD|    704|\n",
            "|      SPRING GARDEN|     US|        false|               null|33.97|NA-US-AL-SPRING G...|   Spring Garden, AL|       PRIMARY| -85.55|         null|       54354|   AL|           null|      null|         NA| 0.06|-0.82| 0.55|     PO BOX|  36275|\n",
            "|        SPRINGVILLE|     US|        false|               7845|33.77|NA-US-AL-SPRINGVILLE|     Springville, AL|       PRIMARY| -86.47|         null|       54355|   AL|           4046| 172127599|         NA| 0.05|-0.82| 0.55|   STANDARD|  35146|\n",
            "|        SPRUCE PINE|     US|        false|               1209|34.37|NA-US-AL-SPRUCE PINE|     Spruce Pine, AL|       PRIMARY| -87.69|         null|       54356|   AL|            610|  18525517|         NA| 0.03|-0.82| 0.56|   STANDARD|  35585|\n",
            "|           ASH HILL|     US|        false|               1666| 36.4|   NA-US-NC-ASH HILL|        Ash Hill, NC|NOT ACCEPTABLE| -80.56|         null|       76511|   NC|            842|  28876493|         NA| 0.13|-0.79| 0.59|   STANDARD|  27007|\n",
            "|           ASHEBORO|     US|        false|              15228|35.71|   NA-US-NC-ASHEBORO|        Asheboro, NC|       PRIMARY| -79.81|         null|       76512|   NC|           8355| 215474318|         NA| 0.14|-0.79| 0.58|   STANDARD|  27203|\n",
            "+-------------------+-------+-------------+-------------------+-----+--------------------+--------------------+--------------+-------+-------------+------------+-----+---------------+----------+-----------+-----+-----+-----+-----------+-------+\n",
            "only showing top 20 rows\n",
            "\n"
          ]
        }
      ]
    },
    {
      "cell_type": "markdown",
      "source": [
        "# Write to csv"
      ],
      "metadata": {
        "id": "ADudZGhFI1hh"
      }
    },
    {
      "cell_type": "code",
      "source": [
        "df= spark.read.csv(\"/content/iris.csv\",inferSchema=True,header=True)\n",
        "df.show(5)"
      ],
      "metadata": {
        "colab": {
          "base_uri": "https://localhost:8080/"
        },
        "id": "KvyeV9eBI6rD",
        "outputId": "308297bc-8087-4f6b-b595-06d75529665c"
      },
      "execution_count": 75,
      "outputs": [
        {
          "output_type": "stream",
          "name": "stdout",
          "text": [
            "+---+-------------+------------+-------------+------------+-----------+\n",
            "| Id|SepalLengthCm|SepalWidthCm|PetalLengthCm|PetalWidthCm|    Species|\n",
            "+---+-------------+------------+-------------+------------+-----------+\n",
            "|  1|          5.1|         3.5|          1.4|         0.2|Iris-setosa|\n",
            "|  2|          4.9|         3.0|          1.4|         0.2|Iris-setosa|\n",
            "|  3|          4.7|         3.2|          1.3|         0.2|Iris-setosa|\n",
            "|  4|          4.6|         3.1|          1.5|         0.2|Iris-setosa|\n",
            "|  5|          5.0|         3.6|          1.4|         0.2|Iris-setosa|\n",
            "+---+-------------+------------+-------------+------------+-----------+\n",
            "only showing top 5 rows\n",
            "\n"
          ]
        }
      ]
    },
    {
      "cell_type": "code",
      "source": [
        "df.printSchema()"
      ],
      "metadata": {
        "colab": {
          "base_uri": "https://localhost:8080/"
        },
        "id": "25QpbclBI6l1",
        "outputId": "f7cd413d-76ea-405d-e08b-9985ad2ebc32"
      },
      "execution_count": 76,
      "outputs": [
        {
          "output_type": "stream",
          "name": "stdout",
          "text": [
            "root\n",
            " |-- Id: integer (nullable = true)\n",
            " |-- SepalLengthCm: double (nullable = true)\n",
            " |-- SepalWidthCm: double (nullable = true)\n",
            " |-- PetalLengthCm: double (nullable = true)\n",
            " |-- PetalWidthCm: double (nullable = true)\n",
            " |-- Species: string (nullable = true)\n",
            "\n"
          ]
        }
      ]
    },
    {
      "cell_type": "code",
      "source": [
        "#writes csv to folder iris_flower\n",
        "df.write.csv(\"iris_flower\",header=True)"
      ],
      "metadata": {
        "id": "J9hM7vxPI6gy"
      },
      "execution_count": 77,
      "outputs": []
    },
    {
      "cell_type": "markdown",
      "source": [
        "# Read file from url, file location etc using SparkFiles\n",
        "\n",
        "from pyspark import SparkFiles"
      ],
      "metadata": {
        "id": "IEwMIosVKyFF"
      }
    },
    {
      "cell_type": "code",
      "source": [
        "from pyspark import SparkFiles"
      ],
      "metadata": {
        "id": "tUKsK_UWLCt1"
      },
      "execution_count": 80,
      "outputs": []
    },
    {
      "cell_type": "code",
      "source": [
        "url = 'https://raw.githubusercontent.com/siddiquiamir/Data/master/iris.csv'\n",
        "spark.sparkContext.addFile(url)\n",
        "df = spark.read.csv(SparkFiles.get(\"iris.csv\"),inferSchema=True, header=True)"
      ],
      "metadata": {
        "id": "rAFs5rZEI6cN"
      },
      "execution_count": 81,
      "outputs": []
    },
    {
      "cell_type": "code",
      "source": [
        "df.show(3)"
      ],
      "metadata": {
        "colab": {
          "base_uri": "https://localhost:8080/"
        },
        "id": "79ycmpV3I6Yd",
        "outputId": "1455cae9-d0c6-4474-f467-3923d60fa5c4"
      },
      "execution_count": 82,
      "outputs": [
        {
          "output_type": "stream",
          "name": "stdout",
          "text": [
            "+------------+-----------+------------+-----------+-------+\n",
            "|sepal_length|sepal_width|petal_length|petal_width|species|\n",
            "+------------+-----------+------------+-----------+-------+\n",
            "|         5.1|        3.5|         1.4|        0.2| setosa|\n",
            "|         4.9|        3.0|         1.4|        0.2| setosa|\n",
            "|         4.7|        3.2|         1.3|        0.2| setosa|\n",
            "+------------+-----------+------------+-----------+-------+\n",
            "only showing top 3 rows\n",
            "\n"
          ]
        }
      ]
    },
    {
      "cell_type": "code",
      "source": [
        "df.count()"
      ],
      "metadata": {
        "colab": {
          "base_uri": "https://localhost:8080/"
        },
        "id": "IwaVZ97_I6Qp",
        "outputId": "871e459e-3937-4acf-f4ab-410a64a630a6"
      },
      "execution_count": 83,
      "outputs": [
        {
          "output_type": "execute_result",
          "data": {
            "text/plain": [
              "150"
            ]
          },
          "metadata": {},
          "execution_count": 83
        }
      ]
    },
    {
      "cell_type": "code",
      "source": [
        "df.printSchema()"
      ],
      "metadata": {
        "colab": {
          "base_uri": "https://localhost:8080/"
        },
        "id": "vXiM2iUEI6Lt",
        "outputId": "411f53c5-c0c6-4878-da17-7f0c868d8ab1"
      },
      "execution_count": 84,
      "outputs": [
        {
          "output_type": "stream",
          "name": "stdout",
          "text": [
            "root\n",
            " |-- sepal_length: double (nullable = true)\n",
            " |-- sepal_width: double (nullable = true)\n",
            " |-- petal_length: double (nullable = true)\n",
            " |-- petal_width: double (nullable = true)\n",
            " |-- species: string (nullable = true)\n",
            "\n"
          ]
        }
      ]
    },
    {
      "cell_type": "code",
      "source": [
        "df.select(\"sepal_length\").show(3)"
      ],
      "metadata": {
        "colab": {
          "base_uri": "https://localhost:8080/"
        },
        "id": "Ad6tpKg5I6FN",
        "outputId": "0c455188-ff6d-4e8f-a41c-6e9b8a823728"
      },
      "execution_count": 87,
      "outputs": [
        {
          "output_type": "stream",
          "name": "stdout",
          "text": [
            "+------------+\n",
            "|sepal_length|\n",
            "+------------+\n",
            "|         5.1|\n",
            "|         4.9|\n",
            "|         4.7|\n",
            "+------------+\n",
            "only showing top 3 rows\n",
            "\n"
          ]
        }
      ]
    },
    {
      "cell_type": "code",
      "source": [
        "df.select(\"species\", \"Sepal_Length\").show(3)"
      ],
      "metadata": {
        "colab": {
          "base_uri": "https://localhost:8080/"
        },
        "id": "Dpg0TUA1I6B2",
        "outputId": "638b8304-83f5-4281-edf8-4d1719141746"
      },
      "execution_count": 88,
      "outputs": [
        {
          "output_type": "stream",
          "name": "stdout",
          "text": [
            "+-------+------------+\n",
            "|species|Sepal_Length|\n",
            "+-------+------------+\n",
            "| setosa|         5.1|\n",
            "| setosa|         4.9|\n",
            "| setosa|         4.7|\n",
            "+-------+------------+\n",
            "only showing top 3 rows\n",
            "\n"
          ]
        }
      ]
    },
    {
      "cell_type": "code",
      "source": [
        "df.species.alias(\"target\")"
      ],
      "metadata": {
        "colab": {
          "base_uri": "https://localhost:8080/"
        },
        "id": "2okURbzDI59d",
        "outputId": "d8e70daa-d9e5-49c7-bd77-0444822acc7e"
      },
      "execution_count": 89,
      "outputs": [
        {
          "output_type": "execute_result",
          "data": {
            "text/plain": [
              "Column<'species AS target'>"
            ]
          },
          "metadata": {},
          "execution_count": 89
        }
      ]
    },
    {
      "cell_type": "code",
      "source": [
        "df.show(2)"
      ],
      "metadata": {
        "colab": {
          "base_uri": "https://localhost:8080/"
        },
        "id": "ox2qUp19I54x",
        "outputId": "cad7dbf6-c808-4cfa-c7b3-42a58d36a445"
      },
      "execution_count": 90,
      "outputs": [
        {
          "output_type": "stream",
          "name": "stdout",
          "text": [
            "+------------+-----------+------------+-----------+-------+\n",
            "|sepal_length|sepal_width|petal_length|petal_width|species|\n",
            "+------------+-----------+------------+-----------+-------+\n",
            "|         5.1|        3.5|         1.4|        0.2| setosa|\n",
            "|         4.9|        3.0|         1.4|        0.2| setosa|\n",
            "+------------+-----------+------------+-----------+-------+\n",
            "only showing top 2 rows\n",
            "\n"
          ]
        }
      ]
    },
    {
      "cell_type": "code",
      "source": [
        "df.species.alias(\"target\").show(2)"
      ],
      "metadata": {
        "colab": {
          "base_uri": "https://localhost:8080/",
          "height": 166
        },
        "id": "FXA9lxiqMKzm",
        "outputId": "9e696c70-fe60-44a6-8ea1-27343c643add"
      },
      "execution_count": 91,
      "outputs": [
        {
          "output_type": "error",
          "ename": "TypeError",
          "evalue": "ignored",
          "traceback": [
            "\u001b[0;31m---------------------------------------------------------------------------\u001b[0m",
            "\u001b[0;31mTypeError\u001b[0m                                 Traceback (most recent call last)",
            "\u001b[0;32m<ipython-input-91-d53a040115b2>\u001b[0m in \u001b[0;36m<cell line: 1>\u001b[0;34m()\u001b[0m\n\u001b[0;32m----> 1\u001b[0;31m \u001b[0mdf\u001b[0m\u001b[0;34m.\u001b[0m\u001b[0mspecies\u001b[0m\u001b[0;34m.\u001b[0m\u001b[0malias\u001b[0m\u001b[0;34m(\u001b[0m\u001b[0;34m\"target\"\u001b[0m\u001b[0;34m)\u001b[0m\u001b[0;34m.\u001b[0m\u001b[0mshow\u001b[0m\u001b[0;34m(\u001b[0m\u001b[0;36m2\u001b[0m\u001b[0;34m)\u001b[0m\u001b[0;34m\u001b[0m\u001b[0;34m\u001b[0m\u001b[0m\n\u001b[0m",
            "\u001b[0;31mTypeError\u001b[0m: 'Column' object is not callable"
          ]
        }
      ]
    },
    {
      "cell_type": "code",
      "source": [
        "df.select(df.species.alias(\"target\")).show(5)"
      ],
      "metadata": {
        "colab": {
          "base_uri": "https://localhost:8080/"
        },
        "id": "Pf1U9F0jMPKs",
        "outputId": "05aee795-3d1b-47b3-8dc1-00221166f493"
      },
      "execution_count": 92,
      "outputs": [
        {
          "output_type": "stream",
          "name": "stdout",
          "text": [
            "+------+\n",
            "|target|\n",
            "+------+\n",
            "|setosa|\n",
            "|setosa|\n",
            "|setosa|\n",
            "|setosa|\n",
            "|setosa|\n",
            "+------+\n",
            "only showing top 5 rows\n",
            "\n"
          ]
        }
      ]
    },
    {
      "cell_type": "code",
      "source": [
        "df.select('sepal_length', (df.species.alias(\"target\"))).show(5)"
      ],
      "metadata": {
        "colab": {
          "base_uri": "https://localhost:8080/"
        },
        "id": "vXMXstu4MZpB",
        "outputId": "9bddbbee-f2f7-4396-9376-ee0a67d07a18"
      },
      "execution_count": 95,
      "outputs": [
        {
          "output_type": "stream",
          "name": "stdout",
          "text": [
            "+------------+------+\n",
            "|sepal_length|target|\n",
            "+------------+------+\n",
            "|         5.1|setosa|\n",
            "|         4.9|setosa|\n",
            "|         4.7|setosa|\n",
            "|         4.6|setosa|\n",
            "|         5.0|setosa|\n",
            "+------------+------+\n",
            "only showing top 5 rows\n",
            "\n"
          ]
        }
      ]
    },
    {
      "cell_type": "code",
      "source": [
        "df.select(*, (df.species.alias(\"target\"))).show(5)"
      ],
      "metadata": {
        "colab": {
          "base_uri": "https://localhost:8080/",
          "height": 131
        },
        "id": "D_2uxAHwMhvH",
        "outputId": "b29db662-50ba-4de1-d045-63c5db307e49"
      },
      "execution_count": 97,
      "outputs": [
        {
          "output_type": "error",
          "ename": "SyntaxError",
          "evalue": "ignored",
          "traceback": [
            "\u001b[0;36m  File \u001b[0;32m\"<ipython-input-97-79828df4e55c>\"\u001b[0;36m, line \u001b[0;32m1\u001b[0m\n\u001b[0;31m    df.select(*, (df.species.alias(\"target\"))).show(5)\u001b[0m\n\u001b[0m               ^\u001b[0m\n\u001b[0;31mSyntaxError\u001b[0m\u001b[0;31m:\u001b[0m invalid syntax\n"
          ]
        }
      ]
    },
    {
      "cell_type": "code",
      "source": [
        "df.select('*', (df.species.alias(\"target\"))).show(5)"
      ],
      "metadata": {
        "colab": {
          "base_uri": "https://localhost:8080/"
        },
        "id": "EAQXTjCYMwtj",
        "outputId": "f4c5659b-a96a-4a61-8901-1fc9768c09e9"
      },
      "execution_count": 98,
      "outputs": [
        {
          "output_type": "stream",
          "name": "stdout",
          "text": [
            "+------------+-----------+------------+-----------+-------+------+\n",
            "|sepal_length|sepal_width|petal_length|petal_width|species|target|\n",
            "+------------+-----------+------------+-----------+-------+------+\n",
            "|         5.1|        3.5|         1.4|        0.2| setosa|setosa|\n",
            "|         4.9|        3.0|         1.4|        0.2| setosa|setosa|\n",
            "|         4.7|        3.2|         1.3|        0.2| setosa|setosa|\n",
            "|         4.6|        3.1|         1.5|        0.2| setosa|setosa|\n",
            "|         5.0|        3.6|         1.4|        0.2| setosa|setosa|\n",
            "+------------+-----------+------------+-----------+-------+------+\n",
            "only showing top 5 rows\n",
            "\n"
          ]
        }
      ]
    },
    {
      "cell_type": "code",
      "source": [
        "url = 'https://raw.githubusercontent.com/siddiquiamir/Data/master/autompg.csv'\n",
        "spark.sparkContext.addFile(url)\n",
        "df1 = spark.read.csv(SparkFiles.get(\"autompg.csv\"),inferSchema=True, header=True)"
      ],
      "metadata": {
        "id": "IWBsk76zNmOu"
      },
      "execution_count": 100,
      "outputs": []
    },
    {
      "cell_type": "code",
      "source": [
        "df1.show()"
      ],
      "metadata": {
        "colab": {
          "base_uri": "https://localhost:8080/"
        },
        "id": "b6oxgSwvYcD2",
        "outputId": "fcde52c4-bc64-48cf-cbb6-d49163abda1e"
      },
      "execution_count": 101,
      "outputs": [
        {
          "output_type": "stream",
          "name": "stdout",
          "text": [
            "+----+---------+------------+----------+------+------------+----------+------+--------------------+\n",
            "| mpg|cylinders|displacement|horsepower|weight|acceleration|model year|origin|            car name|\n",
            "+----+---------+------------+----------+------+------------+----------+------+--------------------+\n",
            "|18.0|        8|       307.0|       130|  3504|        12.0|        70|     1|chevrolet chevell...|\n",
            "|15.0|        8|       350.0|       165|  3693|        11.5|        70|     1|   buick skylark 320|\n",
            "|18.0|        8|       318.0|       150|  3436|        11.0|        70|     1|  plymouth satellite|\n",
            "|16.0|        8|       304.0|       150|  3433|        12.0|        70|     1|       amc rebel sst|\n",
            "|17.0|        8|       302.0|       140|  3449|        10.5|        70|     1|         ford torino|\n",
            "|15.0|        8|       429.0|       198|  4341|        10.0|        70|     1|    ford galaxie 500|\n",
            "|14.0|        8|       454.0|       220|  4354|         9.0|        70|     1|    chevrolet impala|\n",
            "|14.0|        8|       440.0|       215|  4312|         8.5|        70|     1|   plymouth fury iii|\n",
            "|14.0|        8|       455.0|       225|  4425|        10.0|        70|     1|    pontiac catalina|\n",
            "|15.0|        8|       390.0|       190|  3850|         8.5|        70|     1|  amc ambassador dpl|\n",
            "|15.0|        8|       383.0|       170|  3563|        10.0|        70|     1| dodge challenger se|\n",
            "|14.0|        8|       340.0|       160|  3609|         8.0|        70|     1|  plymouth 'cuda 340|\n",
            "|15.0|        8|       400.0|       150|  3761|         9.5|        70|     1|chevrolet monte c...|\n",
            "|14.0|        8|       455.0|       225|  3086|        10.0|        70|     1|buick estate wago...|\n",
            "|24.0|        4|       113.0|        95|  2372|        15.0|        70|     3|toyota corona mar...|\n",
            "|22.0|        6|       198.0|        95|  2833|        15.5|        70|     1|     plymouth duster|\n",
            "|18.0|        6|       199.0|        97|  2774|        15.5|        70|     1|          amc hornet|\n",
            "|21.0|        6|       200.0|        85|  2587|        16.0|        70|     1|       ford maverick|\n",
            "|27.0|        4|        97.0|        88|  2130|        14.5|        70|     3|        datsun pl510|\n",
            "|26.0|        4|        97.0|        46|  1835|        20.5|        70|     2|volkswagen 1131 d...|\n",
            "+----+---------+------------+----------+------+------------+----------+------+--------------------+\n",
            "only showing top 20 rows\n",
            "\n"
          ]
        }
      ]
    },
    {
      "cell_type": "code",
      "source": [
        "df1.printSchema()"
      ],
      "metadata": {
        "colab": {
          "base_uri": "https://localhost:8080/"
        },
        "id": "K5AoO2IFYeMh",
        "outputId": "4fa8a467-f4ae-44a8-dc37-81dc8b22dc9c"
      },
      "execution_count": 103,
      "outputs": [
        {
          "output_type": "stream",
          "name": "stdout",
          "text": [
            "root\n",
            " |-- mpg: double (nullable = true)\n",
            " |-- cylinders: integer (nullable = true)\n",
            " |-- displacement: double (nullable = true)\n",
            " |-- horsepower: string (nullable = true)\n",
            " |-- weight: integer (nullable = true)\n",
            " |-- acceleration: double (nullable = true)\n",
            " |-- model year: integer (nullable = true)\n",
            " |-- origin: integer (nullable = true)\n",
            " |-- car name: string (nullable = true)\n",
            "\n"
          ]
        }
      ]
    },
    {
      "cell_type": "markdown",
      "source": [
        "# dataframe operations"
      ],
      "metadata": {
        "id": "rR9CHEBWYu1x"
      }
    },
    {
      "cell_type": "code",
      "source": [
        "url = 'https://raw.githubusercontent.com/spark-examples/pyspark-examples/master/resources/simple-zipcodes.csv'\n",
        "spark.sparkContext.addFile(url)\n",
        "df1 = spark.read.csv(SparkFiles.get(\"simple-zipcodes.csv\"),inferSchema=True, header=True)"
      ],
      "metadata": {
        "id": "tkuhnyVKYguv"
      },
      "execution_count": 104,
      "outputs": []
    },
    {
      "cell_type": "code",
      "source": [
        "df1.show()"
      ],
      "metadata": {
        "colab": {
          "base_uri": "https://localhost:8080/"
        },
        "id": "lekTiWijaqQu",
        "outputId": "b4586c2f-4f49-47a9-a746-a7e799c7b145"
      },
      "execution_count": 105,
      "outputs": [
        {
          "output_type": "stream",
          "name": "stdout",
          "text": [
            "+------------+-------+-------------------+-------+-----+\n",
            "|RecordNumber|Country|               City|Zipcode|State|\n",
            "+------------+-------+-------------------+-------+-----+\n",
            "|           1|     US|        PARC PARQUE|    704|   PR|\n",
            "|           2|     US|PASEO COSTA DEL SUR|    704|   PR|\n",
            "|          10|     US|       BDA SAN LUIS|    709|   PR|\n",
            "|       49347|     US|               HOLT|  32564|   FL|\n",
            "|       49348|     US|          HOMOSASSA|  34487|   FL|\n",
            "|       61391|     US|  CINGULAR WIRELESS|  76166|   TX|\n",
            "|       61392|     US|         FORT WORTH|  76177|   TX|\n",
            "|       61393|     US|           FT WORTH|  76177|   TX|\n",
            "|       54356|     US|        SPRUCE PINE|  35585|   AL|\n",
            "|       76511|     US|           ASH HILL|  27007|   NC|\n",
            "|           4|     US|    URB EUGENE RICE|    704|   PR|\n",
            "|       39827|     US|               MESA|  85209|   AZ|\n",
            "|       39828|     US|               MESA|  85210|   AZ|\n",
            "|       49345|     US|           HILLIARD|  32046|   FL|\n",
            "|       49346|     US|             HOLDER|  34445|   FL|\n",
            "|           3|     US|      SECT LANAUSSE|    704|   PR|\n",
            "|       54354|     US|      SPRING GARDEN|  36275|   AL|\n",
            "|       54355|     US|        SPRINGVILLE|  35146|   AL|\n",
            "|       76512|     US|           ASHEBORO|  27203|   NC|\n",
            "|       76513|     US|           ASHEBORO|  27204|   NC|\n",
            "+------------+-------+-------------------+-------+-----+\n",
            "\n"
          ]
        }
      ]
    },
    {
      "cell_type": "code",
      "source": [
        "df1.printSchema()"
      ],
      "metadata": {
        "colab": {
          "base_uri": "https://localhost:8080/"
        },
        "id": "H2Tg-T62auph",
        "outputId": "29850e2e-e576-4c24-a9ad-0c133d24dd68"
      },
      "execution_count": 107,
      "outputs": [
        {
          "output_type": "stream",
          "name": "stdout",
          "text": [
            "root\n",
            " |-- RecordNumber: integer (nullable = true)\n",
            " |-- Country: string (nullable = true)\n",
            " |-- City: string (nullable = true)\n",
            " |-- Zipcode: integer (nullable = true)\n",
            " |-- State: string (nullable = true)\n",
            "\n"
          ]
        }
      ]
    },
    {
      "cell_type": "code",
      "source": [
        "df1.write.json('simple-zipcodes')"
      ],
      "metadata": {
        "id": "DO5vehX5axBo"
      },
      "execution_count": 108,
      "outputs": []
    },
    {
      "cell_type": "code",
      "source": [
        "df= spark.read.json('/content/simple-zipcodes/simple-zipcodes.json')\n",
        "df.show()"
      ],
      "metadata": {
        "colab": {
          "base_uri": "https://localhost:8080/"
        },
        "id": "KBy1EoPnbl2T",
        "outputId": "7558d501-2f3d-4015-8b5b-d2a4d593b0e5"
      },
      "execution_count": 109,
      "outputs": [
        {
          "output_type": "stream",
          "name": "stdout",
          "text": [
            "+-------------------+-------+------------+-----+-------+\n",
            "|               City|Country|RecordNumber|State|Zipcode|\n",
            "+-------------------+-------+------------+-----+-------+\n",
            "|        PARC PARQUE|     US|           1|   PR|    704|\n",
            "|PASEO COSTA DEL SUR|     US|           2|   PR|    704|\n",
            "|       BDA SAN LUIS|     US|          10|   PR|    709|\n",
            "|               HOLT|     US|       49347|   FL|  32564|\n",
            "|          HOMOSASSA|     US|       49348|   FL|  34487|\n",
            "|  CINGULAR WIRELESS|     US|       61391|   TX|  76166|\n",
            "|         FORT WORTH|     US|       61392|   TX|  76177|\n",
            "|           FT WORTH|     US|       61393|   TX|  76177|\n",
            "|        SPRUCE PINE|     US|       54356|   AL|  35585|\n",
            "|           ASH HILL|     US|       76511|   NC|  27007|\n",
            "|    URB EUGENE RICE|     US|           4|   PR|    704|\n",
            "|               MESA|     US|       39827|   AZ|  85209|\n",
            "|               MESA|     US|       39828|   AZ|  85210|\n",
            "|           HILLIARD|     US|       49345|   FL|  32046|\n",
            "|             HOLDER|     US|       49346|   FL|  34445|\n",
            "|      SECT LANAUSSE|     US|           3|   PR|    704|\n",
            "|      SPRING GARDEN|     US|       54354|   AL|  36275|\n",
            "|        SPRINGVILLE|     US|       54355|   AL|  35146|\n",
            "|           ASHEBORO|     US|       76512|   NC|  27203|\n",
            "|           ASHEBORO|     US|       76513|   NC|  27204|\n",
            "+-------------------+-------+------------+-----+-------+\n",
            "\n"
          ]
        }
      ]
    },
    {
      "cell_type": "code",
      "source": [
        "df.printSchema()"
      ],
      "metadata": {
        "colab": {
          "base_uri": "https://localhost:8080/"
        },
        "id": "QgN7PI0eb3cX",
        "outputId": "1241c8a3-6357-4c67-a988-747cb8e84e41"
      },
      "execution_count": 110,
      "outputs": [
        {
          "output_type": "stream",
          "name": "stdout",
          "text": [
            "root\n",
            " |-- City: string (nullable = true)\n",
            " |-- Country: string (nullable = true)\n",
            " |-- RecordNumber: long (nullable = true)\n",
            " |-- State: string (nullable = true)\n",
            " |-- Zipcode: long (nullable = true)\n",
            "\n"
          ]
        }
      ]
    },
    {
      "cell_type": "code",
      "source": [
        "df.collect()"
      ],
      "metadata": {
        "colab": {
          "base_uri": "https://localhost:8080/"
        },
        "id": "u46ujY2pb58p",
        "outputId": "d2df4e3b-8c55-4e9b-d32c-90f0824606ea"
      },
      "execution_count": 111,
      "outputs": [
        {
          "output_type": "execute_result",
          "data": {
            "text/plain": [
              "[Row(City='PARC PARQUE', Country='US', RecordNumber=1, State='PR', Zipcode=704),\n",
              " Row(City='PASEO COSTA DEL SUR', Country='US', RecordNumber=2, State='PR', Zipcode=704),\n",
              " Row(City='BDA SAN LUIS', Country='US', RecordNumber=10, State='PR', Zipcode=709),\n",
              " Row(City='HOLT', Country='US', RecordNumber=49347, State='FL', Zipcode=32564),\n",
              " Row(City='HOMOSASSA', Country='US', RecordNumber=49348, State='FL', Zipcode=34487),\n",
              " Row(City='CINGULAR WIRELESS', Country='US', RecordNumber=61391, State='TX', Zipcode=76166),\n",
              " Row(City='FORT WORTH', Country='US', RecordNumber=61392, State='TX', Zipcode=76177),\n",
              " Row(City='FT WORTH', Country='US', RecordNumber=61393, State='TX', Zipcode=76177),\n",
              " Row(City='SPRUCE PINE', Country='US', RecordNumber=54356, State='AL', Zipcode=35585),\n",
              " Row(City='ASH HILL', Country='US', RecordNumber=76511, State='NC', Zipcode=27007),\n",
              " Row(City='URB EUGENE RICE', Country='US', RecordNumber=4, State='PR', Zipcode=704),\n",
              " Row(City='MESA', Country='US', RecordNumber=39827, State='AZ', Zipcode=85209),\n",
              " Row(City='MESA', Country='US', RecordNumber=39828, State='AZ', Zipcode=85210),\n",
              " Row(City='HILLIARD', Country='US', RecordNumber=49345, State='FL', Zipcode=32046),\n",
              " Row(City='HOLDER', Country='US', RecordNumber=49346, State='FL', Zipcode=34445),\n",
              " Row(City='SECT LANAUSSE', Country='US', RecordNumber=3, State='PR', Zipcode=704),\n",
              " Row(City='SPRING GARDEN', Country='US', RecordNumber=54354, State='AL', Zipcode=36275),\n",
              " Row(City='SPRINGVILLE', Country='US', RecordNumber=54355, State='AL', Zipcode=35146),\n",
              " Row(City='ASHEBORO', Country='US', RecordNumber=76512, State='NC', Zipcode=27203),\n",
              " Row(City='ASHEBORO', Country='US', RecordNumber=76513, State='NC', Zipcode=27204)]"
            ]
          },
          "metadata": {},
          "execution_count": 111
        }
      ]
    },
    {
      "cell_type": "code",
      "source": [
        "df.show(5)"
      ],
      "metadata": {
        "colab": {
          "base_uri": "https://localhost:8080/"
        },
        "id": "me2qXO1hcDpd",
        "outputId": "b2db18d2-1150-4afc-a94f-5527e07c95d5"
      },
      "execution_count": 112,
      "outputs": [
        {
          "output_type": "stream",
          "name": "stdout",
          "text": [
            "+-------------------+-------+------------+-----+-------+\n",
            "|               City|Country|RecordNumber|State|Zipcode|\n",
            "+-------------------+-------+------------+-----+-------+\n",
            "|        PARC PARQUE|     US|           1|   PR|    704|\n",
            "|PASEO COSTA DEL SUR|     US|           2|   PR|    704|\n",
            "|       BDA SAN LUIS|     US|          10|   PR|    709|\n",
            "|               HOLT|     US|       49347|   FL|  32564|\n",
            "|          HOMOSASSA|     US|       49348|   FL|  34487|\n",
            "+-------------------+-------+------------+-----+-------+\n",
            "only showing top 5 rows\n",
            "\n"
          ]
        }
      ]
    },
    {
      "cell_type": "code",
      "source": [
        "df.take(5)"
      ],
      "metadata": {
        "colab": {
          "base_uri": "https://localhost:8080/"
        },
        "id": "_jO8OynkcMg1",
        "outputId": "44ae1297-197d-40d6-b2f4-12eca00bd991"
      },
      "execution_count": 113,
      "outputs": [
        {
          "output_type": "execute_result",
          "data": {
            "text/plain": [
              "[Row(City='PARC PARQUE', Country='US', RecordNumber=1, State='PR', Zipcode=704),\n",
              " Row(City='PASEO COSTA DEL SUR', Country='US', RecordNumber=2, State='PR', Zipcode=704),\n",
              " Row(City='BDA SAN LUIS', Country='US', RecordNumber=10, State='PR', Zipcode=709),\n",
              " Row(City='HOLT', Country='US', RecordNumber=49347, State='FL', Zipcode=32564),\n",
              " Row(City='HOMOSASSA', Country='US', RecordNumber=49348, State='FL', Zipcode=34487)]"
            ]
          },
          "metadata": {},
          "execution_count": 113
        }
      ]
    },
    {
      "cell_type": "code",
      "source": [
        "df.count()"
      ],
      "metadata": {
        "colab": {
          "base_uri": "https://localhost:8080/"
        },
        "id": "_PvnPs4QcQmm",
        "outputId": "63407bb1-cc9a-485b-da10-9090ee00245f"
      },
      "execution_count": 114,
      "outputs": [
        {
          "output_type": "execute_result",
          "data": {
            "text/plain": [
              "20"
            ]
          },
          "metadata": {},
          "execution_count": 114
        }
      ]
    },
    {
      "cell_type": "code",
      "source": [
        "df.select('City').count()"
      ],
      "metadata": {
        "colab": {
          "base_uri": "https://localhost:8080/"
        },
        "id": "SSr3_D2xcUeg",
        "outputId": "bafc2f67-7aa3-49ab-e14e-8df513f186ce"
      },
      "execution_count": 116,
      "outputs": [
        {
          "output_type": "execute_result",
          "data": {
            "text/plain": [
              "20"
            ]
          },
          "metadata": {},
          "execution_count": 116
        }
      ]
    },
    {
      "cell_type": "code",
      "source": [
        "df.select('City','Country').count()"
      ],
      "metadata": {
        "colab": {
          "base_uri": "https://localhost:8080/"
        },
        "id": "CB6rV2Rgccfd",
        "outputId": "99de9ab5-0ea1-483c-e411-106b97d8e1ef"
      },
      "execution_count": 117,
      "outputs": [
        {
          "output_type": "execute_result",
          "data": {
            "text/plain": [
              "20"
            ]
          },
          "metadata": {},
          "execution_count": 117
        }
      ]
    },
    {
      "cell_type": "code",
      "source": [
        "df.select('City').show()"
      ],
      "metadata": {
        "colab": {
          "base_uri": "https://localhost:8080/"
        },
        "id": "5vPZdI5fclZD",
        "outputId": "55fbf80f-0e71-4732-f9ee-0a28dbf66b9d"
      },
      "execution_count": 118,
      "outputs": [
        {
          "output_type": "stream",
          "name": "stdout",
          "text": [
            "+-------------------+\n",
            "|               City|\n",
            "+-------------------+\n",
            "|        PARC PARQUE|\n",
            "|PASEO COSTA DEL SUR|\n",
            "|       BDA SAN LUIS|\n",
            "|               HOLT|\n",
            "|          HOMOSASSA|\n",
            "|  CINGULAR WIRELESS|\n",
            "|         FORT WORTH|\n",
            "|           FT WORTH|\n",
            "|        SPRUCE PINE|\n",
            "|           ASH HILL|\n",
            "|    URB EUGENE RICE|\n",
            "|               MESA|\n",
            "|               MESA|\n",
            "|           HILLIARD|\n",
            "|             HOLDER|\n",
            "|      SECT LANAUSSE|\n",
            "|      SPRING GARDEN|\n",
            "|        SPRINGVILLE|\n",
            "|           ASHEBORO|\n",
            "|           ASHEBORO|\n",
            "+-------------------+\n",
            "\n"
          ]
        }
      ]
    },
    {
      "cell_type": "code",
      "source": [
        "df.select('City','Country').show()"
      ],
      "metadata": {
        "colab": {
          "base_uri": "https://localhost:8080/"
        },
        "id": "tNrxFmAect9q",
        "outputId": "4a079c8d-a158-4e1a-c409-a160e7e21fe4"
      },
      "execution_count": 119,
      "outputs": [
        {
          "output_type": "stream",
          "name": "stdout",
          "text": [
            "+-------------------+-------+\n",
            "|               City|Country|\n",
            "+-------------------+-------+\n",
            "|        PARC PARQUE|     US|\n",
            "|PASEO COSTA DEL SUR|     US|\n",
            "|       BDA SAN LUIS|     US|\n",
            "|               HOLT|     US|\n",
            "|          HOMOSASSA|     US|\n",
            "|  CINGULAR WIRELESS|     US|\n",
            "|         FORT WORTH|     US|\n",
            "|           FT WORTH|     US|\n",
            "|        SPRUCE PINE|     US|\n",
            "|           ASH HILL|     US|\n",
            "|    URB EUGENE RICE|     US|\n",
            "|               MESA|     US|\n",
            "|               MESA|     US|\n",
            "|           HILLIARD|     US|\n",
            "|             HOLDER|     US|\n",
            "|      SECT LANAUSSE|     US|\n",
            "|      SPRING GARDEN|     US|\n",
            "|        SPRINGVILLE|     US|\n",
            "|           ASHEBORO|     US|\n",
            "|           ASHEBORO|     US|\n",
            "+-------------------+-------+\n",
            "\n"
          ]
        }
      ]
    },
    {
      "cell_type": "code",
      "source": [
        "df[\"Zipcode\"]>704"
      ],
      "metadata": {
        "colab": {
          "base_uri": "https://localhost:8080/"
        },
        "id": "7PDHIESQcyOy",
        "outputId": "7e38ee0e-cd54-4fdc-bec0-900704fccf45"
      },
      "execution_count": 120,
      "outputs": [
        {
          "output_type": "execute_result",
          "data": {
            "text/plain": [
              "Column<'(Zipcode > 704)'>"
            ]
          },
          "metadata": {},
          "execution_count": 120
        }
      ]
    },
    {
      "cell_type": "code",
      "source": [
        "(df[\"Zipcode\"]>704).show()"
      ],
      "metadata": {
        "colab": {
          "base_uri": "https://localhost:8080/",
          "height": 166
        },
        "id": "2wfv3Wtvc4I7",
        "outputId": "c1afea9e-bacb-406a-e60a-02029d42220c"
      },
      "execution_count": 121,
      "outputs": [
        {
          "output_type": "error",
          "ename": "TypeError",
          "evalue": "ignored",
          "traceback": [
            "\u001b[0;31m---------------------------------------------------------------------------\u001b[0m",
            "\u001b[0;31mTypeError\u001b[0m                                 Traceback (most recent call last)",
            "\u001b[0;32m<ipython-input-121-ab19dfb7a5e9>\u001b[0m in \u001b[0;36m<cell line: 1>\u001b[0;34m()\u001b[0m\n\u001b[0;32m----> 1\u001b[0;31m \u001b[0;34m(\u001b[0m\u001b[0mdf\u001b[0m\u001b[0;34m[\u001b[0m\u001b[0;34m\"Zipcode\"\u001b[0m\u001b[0;34m]\u001b[0m\u001b[0;34m>\u001b[0m\u001b[0;36m704\u001b[0m\u001b[0;34m)\u001b[0m\u001b[0;34m.\u001b[0m\u001b[0mshow\u001b[0m\u001b[0;34m(\u001b[0m\u001b[0;34m)\u001b[0m\u001b[0;34m\u001b[0m\u001b[0;34m\u001b[0m\u001b[0m\n\u001b[0m",
            "\u001b[0;31mTypeError\u001b[0m: 'Column' object is not callable"
          ]
        }
      ]
    },
    {
      "cell_type": "code",
      "source": [
        "df.select((df[\"Zipcode\"]>704)).show()"
      ],
      "metadata": {
        "colab": {
          "base_uri": "https://localhost:8080/"
        },
        "id": "qx6zBqw5c8ig",
        "outputId": "c3352e7a-4e4e-4830-cfe6-d441d739b752"
      },
      "execution_count": 123,
      "outputs": [
        {
          "output_type": "stream",
          "name": "stdout",
          "text": [
            "+---------------+\n",
            "|(Zipcode > 704)|\n",
            "+---------------+\n",
            "|          false|\n",
            "|          false|\n",
            "|           true|\n",
            "|           true|\n",
            "|           true|\n",
            "|           true|\n",
            "|           true|\n",
            "|           true|\n",
            "|           true|\n",
            "|           true|\n",
            "|          false|\n",
            "|           true|\n",
            "|           true|\n",
            "|           true|\n",
            "|           true|\n",
            "|          false|\n",
            "|           true|\n",
            "|           true|\n",
            "|           true|\n",
            "|           true|\n",
            "+---------------+\n",
            "\n"
          ]
        }
      ]
    },
    {
      "cell_type": "code",
      "source": [
        "df.filter((df[\"Zipcode\"]>704)).show()"
      ],
      "metadata": {
        "colab": {
          "base_uri": "https://localhost:8080/"
        },
        "id": "LK564GIHdBSW",
        "outputId": "5eacf857-0a4d-48a3-f6ec-b464c39419db"
      },
      "execution_count": 124,
      "outputs": [
        {
          "output_type": "stream",
          "name": "stdout",
          "text": [
            "+-----------------+-------+------------+-----+-------+\n",
            "|             City|Country|RecordNumber|State|Zipcode|\n",
            "+-----------------+-------+------------+-----+-------+\n",
            "|     BDA SAN LUIS|     US|          10|   PR|    709|\n",
            "|             HOLT|     US|       49347|   FL|  32564|\n",
            "|        HOMOSASSA|     US|       49348|   FL|  34487|\n",
            "|CINGULAR WIRELESS|     US|       61391|   TX|  76166|\n",
            "|       FORT WORTH|     US|       61392|   TX|  76177|\n",
            "|         FT WORTH|     US|       61393|   TX|  76177|\n",
            "|      SPRUCE PINE|     US|       54356|   AL|  35585|\n",
            "|         ASH HILL|     US|       76511|   NC|  27007|\n",
            "|             MESA|     US|       39827|   AZ|  85209|\n",
            "|             MESA|     US|       39828|   AZ|  85210|\n",
            "|         HILLIARD|     US|       49345|   FL|  32046|\n",
            "|           HOLDER|     US|       49346|   FL|  34445|\n",
            "|    SPRING GARDEN|     US|       54354|   AL|  36275|\n",
            "|      SPRINGVILLE|     US|       54355|   AL|  35146|\n",
            "|         ASHEBORO|     US|       76512|   NC|  27203|\n",
            "|         ASHEBORO|     US|       76513|   NC|  27204|\n",
            "+-----------------+-------+------------+-----+-------+\n",
            "\n"
          ]
        }
      ]
    },
    {
      "cell_type": "code",
      "source": [
        "df.select('Zipcode').filter(df['Zipcode']==704).show()"
      ],
      "metadata": {
        "colab": {
          "base_uri": "https://localhost:8080/"
        },
        "id": "EsiVh-4qdLCf",
        "outputId": "ad84fb5a-3cbd-45fe-9d54-d06ccc017abe"
      },
      "execution_count": 126,
      "outputs": [
        {
          "output_type": "stream",
          "name": "stdout",
          "text": [
            "+-------+\n",
            "|Zipcode|\n",
            "+-------+\n",
            "|    704|\n",
            "|    704|\n",
            "|    704|\n",
            "|    704|\n",
            "+-------+\n",
            "\n"
          ]
        }
      ]
    },
    {
      "cell_type": "code",
      "source": [
        "df.select('City').filter(\"City like 'M%'\").show()"
      ],
      "metadata": {
        "colab": {
          "base_uri": "https://localhost:8080/"
        },
        "id": "IQ4c1dHZdW41",
        "outputId": "4495b6e4-f975-4b07-973b-bd419439d1a0"
      },
      "execution_count": 127,
      "outputs": [
        {
          "output_type": "stream",
          "name": "stdout",
          "text": [
            "+----+\n",
            "|City|\n",
            "+----+\n",
            "|MESA|\n",
            "|MESA|\n",
            "+----+\n",
            "\n"
          ]
        }
      ]
    },
    {
      "cell_type": "code",
      "source": [
        "df.sort(\"State\").show()"
      ],
      "metadata": {
        "colab": {
          "base_uri": "https://localhost:8080/"
        },
        "id": "7Fn44iCqd5LK",
        "outputId": "843045bf-1abe-4663-e878-802cf50c286a"
      },
      "execution_count": 128,
      "outputs": [
        {
          "output_type": "stream",
          "name": "stdout",
          "text": [
            "+-------------------+-------+------------+-----+-------+\n",
            "|               City|Country|RecordNumber|State|Zipcode|\n",
            "+-------------------+-------+------------+-----+-------+\n",
            "|        SPRINGVILLE|     US|       54355|   AL|  35146|\n",
            "|      SPRING GARDEN|     US|       54354|   AL|  36275|\n",
            "|        SPRUCE PINE|     US|       54356|   AL|  35585|\n",
            "|               MESA|     US|       39827|   AZ|  85209|\n",
            "|               MESA|     US|       39828|   AZ|  85210|\n",
            "|               HOLT|     US|       49347|   FL|  32564|\n",
            "|           HILLIARD|     US|       49345|   FL|  32046|\n",
            "|          HOMOSASSA|     US|       49348|   FL|  34487|\n",
            "|             HOLDER|     US|       49346|   FL|  34445|\n",
            "|           ASHEBORO|     US|       76513|   NC|  27204|\n",
            "|           ASHEBORO|     US|       76512|   NC|  27203|\n",
            "|           ASH HILL|     US|       76511|   NC|  27007|\n",
            "|PASEO COSTA DEL SUR|     US|           2|   PR|    704|\n",
            "|        PARC PARQUE|     US|           1|   PR|    704|\n",
            "|       BDA SAN LUIS|     US|          10|   PR|    709|\n",
            "|    URB EUGENE RICE|     US|           4|   PR|    704|\n",
            "|      SECT LANAUSSE|     US|           3|   PR|    704|\n",
            "|  CINGULAR WIRELESS|     US|       61391|   TX|  76166|\n",
            "|         FORT WORTH|     US|       61392|   TX|  76177|\n",
            "|           FT WORTH|     US|       61393|   TX|  76177|\n",
            "+-------------------+-------+------------+-----+-------+\n",
            "\n"
          ]
        }
      ]
    },
    {
      "cell_type": "code",
      "source": [
        "df.describe().show()"
      ],
      "metadata": {
        "colab": {
          "base_uri": "https://localhost:8080/"
        },
        "id": "H6MuaLxyeCiM",
        "outputId": "0758cd39-ef13-461f-b74c-afbfb2743298"
      },
      "execution_count": 129,
      "outputs": [
        {
          "output_type": "stream",
          "name": "stdout",
          "text": [
            "+-------+---------------+-------+-----------------+-----+------------------+\n",
            "|summary|           City|Country|     RecordNumber|State|           Zipcode|\n",
            "+-------+---------------+-------+-----------------+-----+------------------+\n",
            "|  count|             20|     20|               20|   20|                20|\n",
            "|   mean|           null|   null|          42691.9| null|           36221.3|\n",
            "| stddev|           null|   null|27331.67710089099| null|29182.998937016306|\n",
            "|    min|       ASH HILL|     US|                1|   AL|               704|\n",
            "|    max|URB EUGENE RICE|     US|            76513|   TX|             85210|\n",
            "+-------+---------------+-------+-----------------+-----+------------------+\n",
            "\n"
          ]
        }
      ]
    },
    {
      "cell_type": "code",
      "source": [
        "df.describe('Zipcode').show()"
      ],
      "metadata": {
        "colab": {
          "base_uri": "https://localhost:8080/"
        },
        "id": "DdFyBrs7eKFc",
        "outputId": "fda359a5-665d-434e-c5ef-57c09f7316df"
      },
      "execution_count": 130,
      "outputs": [
        {
          "output_type": "stream",
          "name": "stdout",
          "text": [
            "+-------+------------------+\n",
            "|summary|           Zipcode|\n",
            "+-------+------------------+\n",
            "|  count|                20|\n",
            "|   mean|           36221.3|\n",
            "| stddev|29182.998937016306|\n",
            "|    min|               704|\n",
            "|    max|             85210|\n",
            "+-------+------------------+\n",
            "\n"
          ]
        }
      ]
    },
    {
      "cell_type": "code",
      "source": [
        "type(df.describe('Zipcode'))"
      ],
      "metadata": {
        "colab": {
          "base_uri": "https://localhost:8080/"
        },
        "id": "xixNDRI_eSL2",
        "outputId": "3d963dda-f114-4539-b17e-b3c315bc540e"
      },
      "execution_count": 131,
      "outputs": [
        {
          "output_type": "execute_result",
          "data": {
            "text/plain": [
              "pyspark.sql.dataframe.DataFrame"
            ]
          },
          "metadata": {},
          "execution_count": 131
        }
      ]
    },
    {
      "cell_type": "code",
      "source": [
        "df_des =df.describe('Zipcode')\n",
        "df_des.show()"
      ],
      "metadata": {
        "colab": {
          "base_uri": "https://localhost:8080/"
        },
        "id": "hswtNGNdeaK1",
        "outputId": "f18a1315-bbba-40b6-b1b6-860b5e72177b"
      },
      "execution_count": 132,
      "outputs": [
        {
          "output_type": "stream",
          "name": "stdout",
          "text": [
            "+-------+------------------+\n",
            "|summary|           Zipcode|\n",
            "+-------+------------------+\n",
            "|  count|                20|\n",
            "|   mean|           36221.3|\n",
            "| stddev|29182.998937016306|\n",
            "|    min|               704|\n",
            "|    max|             85210|\n",
            "+-------+------------------+\n",
            "\n"
          ]
        }
      ]
    },
    {
      "cell_type": "code",
      "source": [
        "df_des.summary()"
      ],
      "metadata": {
        "colab": {
          "base_uri": "https://localhost:8080/"
        },
        "id": "UDW45S0Xefgp",
        "outputId": "c414f959-5258-4fae-ab6a-f10f6529d036"
      },
      "execution_count": 134,
      "outputs": [
        {
          "output_type": "execute_result",
          "data": {
            "text/plain": [
              "DataFrame[summary: string, summary: string, Zipcode: string]"
            ]
          },
          "metadata": {},
          "execution_count": 134
        }
      ]
    },
    {
      "cell_type": "code",
      "source": [
        "df.describe('Zipcode')"
      ],
      "metadata": {
        "colab": {
          "base_uri": "https://localhost:8080/"
        },
        "id": "y4oQzY_ZeqgX",
        "outputId": "3ea327e8-750f-4ae2-90b6-b6080031b069"
      },
      "execution_count": 135,
      "outputs": [
        {
          "output_type": "execute_result",
          "data": {
            "text/plain": [
              "DataFrame[summary: string, Zipcode: string]"
            ]
          },
          "metadata": {},
          "execution_count": 135
        }
      ]
    },
    {
      "cell_type": "code",
      "source": [
        "df.collect()"
      ],
      "metadata": {
        "colab": {
          "base_uri": "https://localhost:8080/"
        },
        "id": "EDjxRJLbgBIQ",
        "outputId": "010cddaa-7b15-4cb8-c1f0-f3293529ff15"
      },
      "execution_count": 137,
      "outputs": [
        {
          "output_type": "execute_result",
          "data": {
            "text/plain": [
              "[Row(City='PARC PARQUE', Country='US', RecordNumber=1, State='PR', Zipcode=704),\n",
              " Row(City='PASEO COSTA DEL SUR', Country='US', RecordNumber=2, State='PR', Zipcode=704),\n",
              " Row(City='BDA SAN LUIS', Country='US', RecordNumber=10, State='PR', Zipcode=709),\n",
              " Row(City='HOLT', Country='US', RecordNumber=49347, State='FL', Zipcode=32564),\n",
              " Row(City='HOMOSASSA', Country='US', RecordNumber=49348, State='FL', Zipcode=34487),\n",
              " Row(City='CINGULAR WIRELESS', Country='US', RecordNumber=61391, State='TX', Zipcode=76166),\n",
              " Row(City='FORT WORTH', Country='US', RecordNumber=61392, State='TX', Zipcode=76177),\n",
              " Row(City='FT WORTH', Country='US', RecordNumber=61393, State='TX', Zipcode=76177),\n",
              " Row(City='SPRUCE PINE', Country='US', RecordNumber=54356, State='AL', Zipcode=35585),\n",
              " Row(City='ASH HILL', Country='US', RecordNumber=76511, State='NC', Zipcode=27007),\n",
              " Row(City='URB EUGENE RICE', Country='US', RecordNumber=4, State='PR', Zipcode=704),\n",
              " Row(City='MESA', Country='US', RecordNumber=39827, State='AZ', Zipcode=85209),\n",
              " Row(City='MESA', Country='US', RecordNumber=39828, State='AZ', Zipcode=85210),\n",
              " Row(City='HILLIARD', Country='US', RecordNumber=49345, State='FL', Zipcode=32046),\n",
              " Row(City='HOLDER', Country='US', RecordNumber=49346, State='FL', Zipcode=34445),\n",
              " Row(City='SECT LANAUSSE', Country='US', RecordNumber=3, State='PR', Zipcode=704),\n",
              " Row(City='SPRING GARDEN', Country='US', RecordNumber=54354, State='AL', Zipcode=36275),\n",
              " Row(City='SPRINGVILLE', Country='US', RecordNumber=54355, State='AL', Zipcode=35146),\n",
              " Row(City='ASHEBORO', Country='US', RecordNumber=76512, State='NC', Zipcode=27203),\n",
              " Row(City='ASHEBORO', Country='US', RecordNumber=76513, State='NC', Zipcode=27204)]"
            ]
          },
          "metadata": {},
          "execution_count": 137
        }
      ]
    },
    {
      "cell_type": "markdown",
      "source": [
        "# sql queries"
      ],
      "metadata": {
        "id": "NhMn6TRGu42q"
      }
    },
    {
      "cell_type": "code",
      "source": [
        "df_sql= spark.read.json(\"/content/simple-zipcodes/simple-zipcodes.json\")\n",
        "df_sql.show()"
      ],
      "metadata": {
        "colab": {
          "base_uri": "https://localhost:8080/"
        },
        "id": "wdhA1PARgWDA",
        "outputId": "b3f07dee-0f97-4883-fc11-9c89f324f5d5"
      },
      "execution_count": 142,
      "outputs": [
        {
          "output_type": "stream",
          "name": "stdout",
          "text": [
            "+-------------------+-------+------------+-----+-------+\n",
            "|               City|Country|RecordNumber|State|Zipcode|\n",
            "+-------------------+-------+------------+-----+-------+\n",
            "|        PARC PARQUE|     US|           1|   PR|    704|\n",
            "|PASEO COSTA DEL SUR|     US|           2|   PR|    704|\n",
            "|       BDA SAN LUIS|     US|          10|   PR|    709|\n",
            "|               HOLT|     US|       49347|   FL|  32564|\n",
            "|          HOMOSASSA|     US|       49348|   FL|  34487|\n",
            "|  CINGULAR WIRELESS|     US|       61391|   TX|  76166|\n",
            "|         FORT WORTH|     US|       61392|   TX|  76177|\n",
            "|           FT WORTH|     US|       61393|   TX|  76177|\n",
            "|        SPRUCE PINE|     US|       54356|   AL|  35585|\n",
            "|           ASH HILL|     US|       76511|   NC|  27007|\n",
            "|    URB EUGENE RICE|     US|           4|   PR|    704|\n",
            "|               MESA|     US|       39827|   AZ|  85209|\n",
            "|               MESA|     US|       39828|   AZ|  85210|\n",
            "|           HILLIARD|     US|       49345|   FL|  32046|\n",
            "|             HOLDER|     US|       49346|   FL|  34445|\n",
            "|      SECT LANAUSSE|     US|           3|   PR|    704|\n",
            "|      SPRING GARDEN|     US|       54354|   AL|  36275|\n",
            "|        SPRINGVILLE|     US|       54355|   AL|  35146|\n",
            "|           ASHEBORO|     US|       76512|   NC|  27203|\n",
            "|           ASHEBORO|     US|       76513|   NC|  27204|\n",
            "+-------------------+-------+------------+-----+-------+\n",
            "\n"
          ]
        }
      ]
    },
    {
      "cell_type": "code",
      "source": [
        "df_sql.printSchema()"
      ],
      "metadata": {
        "colab": {
          "base_uri": "https://localhost:8080/"
        },
        "id": "CF4IsczivKh_",
        "outputId": "b8c787d6-40f7-4d29-91c8-af05d55c18cf"
      },
      "execution_count": 147,
      "outputs": [
        {
          "output_type": "stream",
          "name": "stdout",
          "text": [
            "root\n",
            " |-- City: string (nullable = true)\n",
            " |-- Country: string (nullable = true)\n",
            " |-- RecordNumber: long (nullable = true)\n",
            " |-- State: string (nullable = true)\n",
            " |-- Zipcode: long (nullable = true)\n",
            "\n"
          ]
        }
      ]
    },
    {
      "cell_type": "code",
      "source": [
        "df_sql.createOrReplaceTempView(\"df_sql\")"
      ],
      "metadata": {
        "id": "k1280nb9vkwS"
      },
      "execution_count": 150,
      "outputs": []
    },
    {
      "cell_type": "code",
      "source": [
        "spark.sql(\"select * from df_sql\").show()"
      ],
      "metadata": {
        "colab": {
          "base_uri": "https://localhost:8080/"
        },
        "id": "VW_ww86SvRpS",
        "outputId": "141abd78-9fc4-4bc9-a0ee-4e5429d5d0d7"
      },
      "execution_count": 151,
      "outputs": [
        {
          "output_type": "stream",
          "name": "stdout",
          "text": [
            "+-------------------+-------+------------+-----+-------+\n",
            "|               City|Country|RecordNumber|State|Zipcode|\n",
            "+-------------------+-------+------------+-----+-------+\n",
            "|        PARC PARQUE|     US|           1|   PR|    704|\n",
            "|PASEO COSTA DEL SUR|     US|           2|   PR|    704|\n",
            "|       BDA SAN LUIS|     US|          10|   PR|    709|\n",
            "|               HOLT|     US|       49347|   FL|  32564|\n",
            "|          HOMOSASSA|     US|       49348|   FL|  34487|\n",
            "|  CINGULAR WIRELESS|     US|       61391|   TX|  76166|\n",
            "|         FORT WORTH|     US|       61392|   TX|  76177|\n",
            "|           FT WORTH|     US|       61393|   TX|  76177|\n",
            "|        SPRUCE PINE|     US|       54356|   AL|  35585|\n",
            "|           ASH HILL|     US|       76511|   NC|  27007|\n",
            "|    URB EUGENE RICE|     US|           4|   PR|    704|\n",
            "|               MESA|     US|       39827|   AZ|  85209|\n",
            "|               MESA|     US|       39828|   AZ|  85210|\n",
            "|           HILLIARD|     US|       49345|   FL|  32046|\n",
            "|             HOLDER|     US|       49346|   FL|  34445|\n",
            "|      SECT LANAUSSE|     US|           3|   PR|    704|\n",
            "|      SPRING GARDEN|     US|       54354|   AL|  36275|\n",
            "|        SPRINGVILLE|     US|       54355|   AL|  35146|\n",
            "|           ASHEBORO|     US|       76512|   NC|  27203|\n",
            "|           ASHEBORO|     US|       76513|   NC|  27204|\n",
            "+-------------------+-------+------------+-----+-------+\n",
            "\n"
          ]
        }
      ]
    },
    {
      "cell_type": "code",
      "source": [
        "spark.sql(\"select count(City) from df_sql\")"
      ],
      "metadata": {
        "colab": {
          "base_uri": "https://localhost:8080/"
        },
        "id": "NvNGvOLPvaj-",
        "outputId": "639f4515-3e76-4bc7-fa20-e03db9165315"
      },
      "execution_count": 152,
      "outputs": [
        {
          "output_type": "execute_result",
          "data": {
            "text/plain": [
              "DataFrame[count(City): bigint]"
            ]
          },
          "metadata": {},
          "execution_count": 152
        }
      ]
    },
    {
      "cell_type": "code",
      "source": [
        "spark.sql(\"select count(City) from df_sql\").show()"
      ],
      "metadata": {
        "colab": {
          "base_uri": "https://localhost:8080/"
        },
        "id": "VrNfFhlFwcVJ",
        "outputId": "152e12e3-f2eb-4e73-f355-80b9ac394dde"
      },
      "execution_count": 153,
      "outputs": [
        {
          "output_type": "stream",
          "name": "stdout",
          "text": [
            "+-----------+\n",
            "|count(City)|\n",
            "+-----------+\n",
            "|         20|\n",
            "+-----------+\n",
            "\n"
          ]
        }
      ]
    },
    {
      "cell_type": "code",
      "source": [
        "query= \"select City,State from df_sql\"\n",
        "spark.sql(query).show()"
      ],
      "metadata": {
        "colab": {
          "base_uri": "https://localhost:8080/"
        },
        "id": "PLakzOpKwfoG",
        "outputId": "45fb57c4-d650-45fc-fc6b-dc939ec93810"
      },
      "execution_count": 154,
      "outputs": [
        {
          "output_type": "stream",
          "name": "stdout",
          "text": [
            "+-------------------+-----+\n",
            "|               City|State|\n",
            "+-------------------+-----+\n",
            "|        PARC PARQUE|   PR|\n",
            "|PASEO COSTA DEL SUR|   PR|\n",
            "|       BDA SAN LUIS|   PR|\n",
            "|               HOLT|   FL|\n",
            "|          HOMOSASSA|   FL|\n",
            "|  CINGULAR WIRELESS|   TX|\n",
            "|         FORT WORTH|   TX|\n",
            "|           FT WORTH|   TX|\n",
            "|        SPRUCE PINE|   AL|\n",
            "|           ASH HILL|   NC|\n",
            "|    URB EUGENE RICE|   PR|\n",
            "|               MESA|   AZ|\n",
            "|               MESA|   AZ|\n",
            "|           HILLIARD|   FL|\n",
            "|             HOLDER|   FL|\n",
            "|      SECT LANAUSSE|   PR|\n",
            "|      SPRING GARDEN|   AL|\n",
            "|        SPRINGVILLE|   AL|\n",
            "|           ASHEBORO|   NC|\n",
            "|           ASHEBORO|   NC|\n",
            "+-------------------+-----+\n",
            "\n"
          ]
        }
      ]
    },
    {
      "cell_type": "code",
      "source": [
        "query= \"select City,State from df_sql where Zipcode ==704\"\n",
        "spark.sql(query).show()\n"
      ],
      "metadata": {
        "colab": {
          "base_uri": "https://localhost:8080/"
        },
        "id": "vUDslbVNw3bf",
        "outputId": "f95d47e2-a4a2-41bb-8250-c8a634967e89"
      },
      "execution_count": 155,
      "outputs": [
        {
          "output_type": "stream",
          "name": "stdout",
          "text": [
            "+-------------------+-----+\n",
            "|               City|State|\n",
            "+-------------------+-----+\n",
            "|        PARC PARQUE|   PR|\n",
            "|PASEO COSTA DEL SUR|   PR|\n",
            "|    URB EUGENE RICE|   PR|\n",
            "|      SECT LANAUSSE|   PR|\n",
            "+-------------------+-----+\n",
            "\n"
          ]
        }
      ]
    },
    {
      "cell_type": "code",
      "source": [
        "type(spark.sql(query))"
      ],
      "metadata": {
        "colab": {
          "base_uri": "https://localhost:8080/"
        },
        "id": "p_bbRbFJw_c2",
        "outputId": "cbd4060c-d425-4748-eea4-b3240733de17"
      },
      "execution_count": 158,
      "outputs": [
        {
          "output_type": "execute_result",
          "data": {
            "text/plain": [
              "pyspark.sql.dataframe.DataFrame"
            ]
          },
          "metadata": {},
          "execution_count": 158
        }
      ]
    },
    {
      "cell_type": "code",
      "source": [
        "query= \"select City,State from df_sql where Zipcode ==704\"\n",
        "df_704 = spark.sql(query)\n",
        "df_704.show()\n"
      ],
      "metadata": {
        "colab": {
          "base_uri": "https://localhost:8080/"
        },
        "id": "vOKfi4ZrxIl_",
        "outputId": "ab61c10f-2e59-410a-8536-744472bfaeb1"
      },
      "execution_count": 160,
      "outputs": [
        {
          "output_type": "stream",
          "name": "stdout",
          "text": [
            "+-------------------+-----+\n",
            "|               City|State|\n",
            "+-------------------+-----+\n",
            "|        PARC PARQUE|   PR|\n",
            "|PASEO COSTA DEL SUR|   PR|\n",
            "|    URB EUGENE RICE|   PR|\n",
            "|      SECT LANAUSSE|   PR|\n",
            "+-------------------+-----+\n",
            "\n"
          ]
        }
      ]
    },
    {
      "cell_type": "markdown",
      "source": [
        "# window_function"
      ],
      "metadata": {
        "id": "oMaJ79OWxfvF"
      }
    },
    {
      "cell_type": "code",
      "source": [
        "url = 'https://raw.githubusercontent.com/siddiquiamir/PySpark-Tutorial/main/emp_data.csv'\n",
        "spark.sparkContext.addFile(url)\n",
        "df = spark.read.csv(SparkFiles.get(\"emp_data.csv\"),inferSchema=True, header=True)"
      ],
      "metadata": {
        "id": "CpQIthk1xXo4"
      },
      "execution_count": 186,
      "outputs": []
    },
    {
      "cell_type": "code",
      "source": [
        "df.show(3)"
      ],
      "metadata": {
        "colab": {
          "base_uri": "https://localhost:8080/"
        },
        "id": "m1y7mDnuyFUY",
        "outputId": "f5d06d63-a9a5-400a-8f17-5dd5c4b23262"
      },
      "execution_count": 187,
      "outputs": [
        {
          "output_type": "stream",
          "name": "stdout",
          "text": [
            "+----+--------+--------+\n",
            "|year|    dept|  salary|\n",
            "+----+--------+--------+\n",
            "|2004|      IT|    2004|\n",
            "|2004|      IT|62022432|\n",
            "|2004|Accounts| 4409580|\n",
            "+----+--------+--------+\n",
            "only showing top 3 rows\n",
            "\n"
          ]
        }
      ]
    },
    {
      "cell_type": "code",
      "source": [
        "df.count()"
      ],
      "metadata": {
        "colab": {
          "base_uri": "https://localhost:8080/"
        },
        "id": "EIot5q_9yGMP",
        "outputId": "02a705bf-ab55-4fa1-9400-ee2fa327419e"
      },
      "execution_count": 188,
      "outputs": [
        {
          "output_type": "execute_result",
          "data": {
            "text/plain": [
              "119"
            ]
          },
          "metadata": {},
          "execution_count": 188
        }
      ]
    },
    {
      "cell_type": "code",
      "source": [
        "df.printSchema()"
      ],
      "metadata": {
        "colab": {
          "base_uri": "https://localhost:8080/"
        },
        "id": "WNHBFOuYyLQU",
        "outputId": "ffa7ebcf-4fa3-4849-db26-4244386f55bc"
      },
      "execution_count": 189,
      "outputs": [
        {
          "output_type": "stream",
          "name": "stdout",
          "text": [
            "root\n",
            " |-- year: integer (nullable = true)\n",
            " |-- dept: string (nullable = true)\n",
            " |-- salary: integer (nullable = true)\n",
            "\n"
          ]
        }
      ]
    },
    {
      "cell_type": "code",
      "source": [],
      "metadata": {
        "id": "h-FprgIZKxV5"
      },
      "execution_count": null,
      "outputs": []
    },
    {
      "cell_type": "code",
      "source": [
        "import pyspark.sql.functions as F\n",
        "from pyspark.sql import Window\n"
      ],
      "metadata": {
        "id": "eJwXWu874OJ_"
      },
      "execution_count": 190,
      "outputs": []
    },
    {
      "cell_type": "code",
      "source": [
        "df.show(3)"
      ],
      "metadata": {
        "colab": {
          "base_uri": "https://localhost:8080/"
        },
        "id": "7ze0VDG_7V3O",
        "outputId": "a8f20696-b641-4cbd-a7d9-7419c8e34e5d"
      },
      "execution_count": 192,
      "outputs": [
        {
          "output_type": "stream",
          "name": "stdout",
          "text": [
            "+----+--------+--------+\n",
            "|year|    dept|  salary|\n",
            "+----+--------+--------+\n",
            "|2004|      IT|    2004|\n",
            "|2004|      IT|62022432|\n",
            "|2004|Accounts| 4409580|\n",
            "+----+--------+--------+\n",
            "only showing top 3 rows\n",
            "\n"
          ]
        }
      ]
    },
    {
      "cell_type": "code",
      "source": [
        "df.printSchema()"
      ],
      "metadata": {
        "colab": {
          "base_uri": "https://localhost:8080/"
        },
        "id": "1052UKlnKhAx",
        "outputId": "38af3c04-8129-490a-e7a2-64c258c56a80"
      },
      "execution_count": 197,
      "outputs": [
        {
          "output_type": "stream",
          "name": "stdout",
          "text": [
            "root\n",
            " |-- year: integer (nullable = true)\n",
            " |-- dept: string (nullable = true)\n",
            " |-- salary: integer (nullable = true)\n",
            "\n"
          ]
        }
      ]
    },
    {
      "cell_type": "code",
      "source": [
        "windowSpec1  = Window.partitionBy(\"dept\")"
      ],
      "metadata": {
        "id": "6Ep4PyUoQWtX"
      },
      "execution_count": null,
      "outputs": []
    },
    {
      "cell_type": "code",
      "source": [
        "data = df.withColumn(\"list_salary\",F.collect_list(F.col(\"salary\")).over(windowSpec1)) \\\n",
        "      .withColumn(\"average_salary\",F.avg(F.col('salary')).over(windowSpec1)) \\\n",
        "      .withColumn(\"total_salary\",F.sum(F.col('salary')).over(windowSpec1))\n",
        "data.show(100)"
      ],
      "metadata": {
        "colab": {
          "base_uri": "https://localhost:8080/"
        },
        "id": "60ewDS4oK2uq",
        "outputId": "7d17f749-bd18-4d16-f5d7-330eb676f0ec"
      },
      "execution_count": 204,
      "outputs": [
        {
          "output_type": "stream",
          "name": "stdout",
          "text": [
            "+----+--------+---------+--------------------+-------------------+------------+\n",
            "|year|    dept|   salary|         list_salary|     average_salary|total_salary|\n",
            "+----+--------+---------+--------------------+-------------------+------------+\n",
            "|2004|Accounts|  4409580|[4409580, 3645, 4...|  3420612.088235294|   116300811|\n",
            "|2004|Accounts|     3645|[4409580, 3645, 4...|  3420612.088235294|   116300811|\n",
            "|2005|Accounts|  4239440|[4409580, 3645, 4...|  3420612.088235294|   116300811|\n",
            "|2005|Accounts|     3101|[4409580, 3645, 4...|  3420612.088235294|   116300811|\n",
            "|2006|Accounts|  4259693|[4409580, 3645, 4...|  3420612.088235294|   116300811|\n",
            "|2006|Accounts|     3642|[4409580, 3645, 4...|  3420612.088235294|   116300811|\n",
            "|2007|Accounts|  4934380|[4409580, 3645, 4...|  3420612.088235294|   116300811|\n",
            "|2007|Accounts|     3419|[4409580, 3645, 4...|  3420612.088235294|   116300811|\n",
            "|2008|Accounts|  6265959|[4409580, 3645, 4...|  3420612.088235294|   116300811|\n",
            "|2008|Accounts|     5221|[4409580, 3645, 4...|  3420612.088235294|   116300811|\n",
            "|2009|Accounts|  6220967|[4409580, 3645, 4...|  3420612.088235294|   116300811|\n",
            "|2009|Accounts|     5024|[4409580, 3645, 4...|  3420612.088235294|   116300811|\n",
            "|2010|Accounts|  6484685|[4409580, 3645, 4...|  3420612.088235294|   116300811|\n",
            "|2010|Accounts|     5281|[4409580, 3645, 4...|  3420612.088235294|   116300811|\n",
            "|2011|Accounts|  7288419|[4409580, 3645, 4...|  3420612.088235294|   116300811|\n",
            "|2011|Accounts|     5618|[4409580, 3645, 4...|  3420612.088235294|   116300811|\n",
            "|2012|Accounts|  7509088|[4409580, 3645, 4...|  3420612.088235294|   116300811|\n",
            "|2012|Accounts|     5524|[4409580, 3645, 4...|  3420612.088235294|   116300811|\n",
            "|2013|Accounts|  7721924|[4409580, 3645, 4...|  3420612.088235294|   116300811|\n",
            "|2013|Accounts|     6459|[4409580, 3645, 4...|  3420612.088235294|   116300811|\n",
            "|2014|Accounts|  7844410|[4409580, 3645, 4...|  3420612.088235294|   116300811|\n",
            "|2014|Accounts|     5978|[4409580, 3645, 4...|  3420612.088235294|   116300811|\n",
            "|2015|Accounts|  8169770|[4409580, 3645, 4...|  3420612.088235294|   116300811|\n",
            "|2015|Accounts|     5353|[4409580, 3645, 4...|  3420612.088235294|   116300811|\n",
            "|2016|Accounts|  7904509|[4409580, 3645, 4...|  3420612.088235294|   116300811|\n",
            "|2016|Accounts|     5478|[4409580, 3645, 4...|  3420612.088235294|   116300811|\n",
            "|2017|Accounts|  7781718|[4409580, 3645, 4...|  3420612.088235294|   116300811|\n",
            "|2017|Accounts|     7200|[4409580, 3645, 4...|  3420612.088235294|   116300811|\n",
            "|2018|Accounts|  8152327|[4409580, 3645, 4...|  3420612.088235294|   116300811|\n",
            "|2018|Accounts|     6255|[4409580, 3645, 4...|  3420612.088235294|   116300811|\n",
            "|2019|Accounts|  8384500|[4409580, 3645, 4...|  3420612.088235294|   116300811|\n",
            "|2019|Accounts|     7883|[4409580, 3645, 4...|  3420612.088235294|   116300811|\n",
            "|2020|Accounts|  8636898|[4409580, 3645, 4...|  3420612.088235294|   116300811|\n",
            "|2020|Accounts|     7463|[4409580, 3645, 4...|  3420612.088235294|   116300811|\n",
            "|2004|      HR|   211648|[211648, 114120, ...|            80225.0|     1363825|\n",
            "|2005|      HR|   114120|[211648, 114120, ...|            80225.0|     1363825|\n",
            "|2006|      HR|    67236|[211648, 114120, ...|            80225.0|     1363825|\n",
            "|2007|      HR|    69582|[211648, 114120, ...|            80225.0|     1363825|\n",
            "|2008|      HR|    74245|[211648, 114120, ...|            80225.0|     1363825|\n",
            "|2009|      HR|    67373|[211648, 114120, ...|            80225.0|     1363825|\n",
            "|2010|      HR|    58842|[211648, 114120, ...|            80225.0|     1363825|\n",
            "|2011|      HR|    62761|[211648, 114120, ...|            80225.0|     1363825|\n",
            "|2012|      HR|    88668|[211648, 114120, ...|            80225.0|     1363825|\n",
            "|2013|      HR|    89085|[211648, 114120, ...|            80225.0|     1363825|\n",
            "|2014|      HR|    91534|[211648, 114120, ...|            80225.0|     1363825|\n",
            "|2015|      HR|    71481|[211648, 114120, ...|            80225.0|     1363825|\n",
            "|2016|      HR|    72798|[211648, 114120, ...|            80225.0|     1363825|\n",
            "|2017|      HR|    51834|[211648, 114120, ...|            80225.0|     1363825|\n",
            "|2018|      HR|    58578|[211648, 114120, ...|            80225.0|     1363825|\n",
            "|2019|      HR|    60633|[211648, 114120, ...|            80225.0|     1363825|\n",
            "|2020|      HR|    53407|[211648, 114120, ...|            80225.0|     1363825|\n",
            "|2004|      IT|     2004|[2004, 62022432, ...|4.267941362745098E7|  2176650095|\n",
            "|2004|      IT| 62022432|[2004, 62022432, ...|4.267941362745098E7|  2176650095|\n",
            "|2004|      IT|  1005417|[2004, 62022432, ...|4.267941362745098E7|  2176650095|\n",
            "|2005|      IT|  2974005|[2004, 62022432, ...|4.267941362745098E7|  2176650095|\n",
            "|2005|      IT| 62275153|[2004, 62022432, ...|4.267941362745098E7|  2176650095|\n",
            "|2005|      IT|   773217|[2004, 62022432, ...|4.267941362745098E7|  2176650095|\n",
            "|2006|      IT|  3285138|[2004, 62022432, ...|4.267941362745098E7|  2176650095|\n",
            "|2006|      IT| 65932248|[2004, 62022432, ...|4.267941362745098E7|  2176650095|\n",
            "|2006|      IT|  1095922|[2004, 62022432, ...|4.267941362745098E7|  2176650095|\n",
            "|2007|      IT|  3178311|[2004, 62022432, ...|4.267941362745098E7|  2176650095|\n",
            "|2007|      IT| 74628627|[2004, 62022432, ...|4.267941362745098E7|  2176650095|\n",
            "|2007|      IT|  1138316|[2004, 62022432, ...|4.267941362745098E7|  2176650095|\n",
            "|2008|      IT|  3016587|[2004, 62022432, ...|4.267941362745098E7|  2176650095|\n",
            "|2008|      IT| 87331563|[2004, 62022432, ...|4.267941362745098E7|  2176650095|\n",
            "|2008|      IT|  1416894|[2004, 62022432, ...|4.267941362745098E7|  2176650095|\n",
            "|2009|      IT|    10941|[2004, 62022432, ...|4.267941362745098E7|  2176650095|\n",
            "|2009|      IT| 98233219|[2004, 62022432, ...|4.267941362745098E7|  2176650095|\n",
            "|2009|      IT|  2019479|[2004, 62022432, ...|4.267941362745098E7|  2176650095|\n",
            "|2010|      IT|    11517|[2004, 62022432, ...|4.267941362745098E7|  2176650095|\n",
            "|2010|      IT| 98454678|[2004, 62022432, ...|4.267941362745098E7|  2176650095|\n",
            "|2010|      IT|  2542073|[2004, 62022432, ...|4.267941362745098E7|  2176650095|\n",
            "|2011|      IT|    11811|[2004, 62022432, ...|4.267941362745098E7|  2176650095|\n",
            "|2011|      IT|110663416|[2004, 62022432, ...|4.267941362745098E7|  2176650095|\n",
            "|2011|      IT|  2689232|[2004, 62022432, ...|4.267941362745098E7|  2176650095|\n",
            "|2012|      IT|    11706|[2004, 62022432, ...|4.267941362745098E7|  2176650095|\n",
            "|2012|      IT|123622839|[2004, 62022432, ...|4.267941362745098E7|  2176650095|\n",
            "|2012|      IT|  3236243|[2004, 62022432, ...|4.267941362745098E7|  2176650095|\n",
            "|2013|      IT|    12243|[2004, 62022432, ...|4.267941362745098E7|  2176650095|\n",
            "|2013|      IT|133153378|[2004, 62022432, ...|4.267941362745098E7|  2176650095|\n",
            "|2013|      IT|  3795735|[2004, 62022432, ...|4.267941362745098E7|  2176650095|\n",
            "|2014|      IT|    24260|[2004, 62022432, ...|4.267941362745098E7|  2176650095|\n",
            "|2014|      IT|144047365|[2004, 62022432, ...|4.267941362745098E7|  2176650095|\n",
            "|2014|      IT|  4299050|[2004, 62022432, ...|4.267941362745098E7|  2176650095|\n",
            "|2015|      IT|    21837|[2004, 62022432, ...|4.267941362745098E7|  2176650095|\n",
            "|2015|      IT|155456464|[2004, 62022432, ...|4.267941362745098E7|  2176650095|\n",
            "|2015|      IT|  4690606|[2004, 62022432, ...|4.267941362745098E7|  2176650095|\n",
            "|2016|      IT|    27104|[2004, 62022432, ...|4.267941362745098E7|  2176650095|\n",
            "|2016|      IT|165399170|[2004, 62022432, ...|4.267941362745098E7|  2176650095|\n",
            "|2016|      IT|  4726335|[2004, 62022432, ...|4.267941362745098E7|  2176650095|\n",
            "|2017|      IT|    21521|[2004, 62022432, ...|4.267941362745098E7|  2176650095|\n",
            "|2017|      IT|171016265|[2004, 62022432, ...|4.267941362745098E7|  2176650095|\n",
            "|2017|      IT|  4758361|[2004, 62022432, ...|4.267941362745098E7|  2176650095|\n",
            "|2018|      IT|    20734|[2004, 62022432, ...|4.267941362745098E7|  2176650095|\n",
            "|2018|      IT|177786497|[2004, 62022432, ...|4.267941362745098E7|  2176650095|\n",
            "|2018|      IT|  4774996|[2004, 62022432, ...|4.267941362745098E7|  2176650095|\n",
            "|2019|      IT|    20178|[2004, 62022432, ...|4.267941362745098E7|  2176650095|\n",
            "|2019|      IT|186814640|[2004, 62022432, ...|4.267941362745098E7|  2176650095|\n",
            "|2019|      IT|  4764152|[2004, 62022432, ...|4.267941362745098E7|  2176650095|\n",
            "|2020|      IT|    19736|[2004, 62022432, ...|4.267941362745098E7|  2176650095|\n",
            "+----+--------+---------+--------------------+-------------------+------------+\n",
            "only showing top 100 rows\n",
            "\n"
          ]
        }
      ]
    },
    {
      "cell_type": "code",
      "source": [
        "df.select('dept').distinct().show()"
      ],
      "metadata": {
        "colab": {
          "base_uri": "https://localhost:8080/"
        },
        "id": "2n-JPri0Odyh",
        "outputId": "ef00421a-0640-44b9-e1a2-fe996d631333"
      },
      "execution_count": 206,
      "outputs": [
        {
          "output_type": "stream",
          "name": "stdout",
          "text": [
            "+--------+\n",
            "|    dept|\n",
            "+--------+\n",
            "|   Sales|\n",
            "|      HR|\n",
            "|Accounts|\n",
            "|      IT|\n",
            "+--------+\n",
            "\n"
          ]
        }
      ]
    },
    {
      "cell_type": "code",
      "source": [
        "data1= df.groupby(\"dept\").agg(\n",
        "    F.expr(\"collect_list(salary)\").alias(\"list_salary\"),\n",
        "    F.expr(\"avg(salary)\").alias(\"avg_salary\"),\n",
        "    F.expr(\"sum(salary)\").alias(\"tot_salary\")\n",
        ")\n",
        "data1.show()"
      ],
      "metadata": {
        "colab": {
          "base_uri": "https://localhost:8080/"
        },
        "id": "nye2qsP2OduZ",
        "outputId": "1019e293-d88c-42d6-8b81-8df8f995098f"
      },
      "execution_count": 211,
      "outputs": [
        {
          "output_type": "stream",
          "name": "stdout",
          "text": [
            "+--------+--------------------+-------------------+----------+\n",
            "|    dept|         list_salary|         avg_salary|tot_salary|\n",
            "+--------+--------------------+-------------------+----------+\n",
            "|   Sales|[902053, 1215112,...| 413653.82352941175|   7032115|\n",
            "|      HR|[211648, 114120, ...|            80225.0|   1363825|\n",
            "|Accounts|[4409580, 3645, 4...|  3420612.088235294| 116300811|\n",
            "|      IT|[2004, 62022432, ...|4.267941362745098E7|2176650095|\n",
            "+--------+--------------------+-------------------+----------+\n",
            "\n"
          ]
        }
      ]
    },
    {
      "cell_type": "code",
      "source": [
        "windowSpec1  = Window.partitionBy(\"dept\") .orderBy(F.asc(\"salary\"))\n",
        "data_a = df.withColumn(\"list_salary\",F.collect_list(F.col(\"salary\")).over(windowSpec1)) \\\n",
        "      .withColumn(\"average_salary\",F.avg(F.col('salary')).over(windowSpec1)) \\\n",
        "      .withColumn(\"total_salary\",F.sum(F.col('salary')).over(windowSpec1))\n",
        "data_a.show(100)"
      ],
      "metadata": {
        "colab": {
          "base_uri": "https://localhost:8080/"
        },
        "id": "Wanrz_9FOdqI",
        "outputId": "84b08cd4-4b67-49a3-e546-697a944f8694"
      },
      "execution_count": 212,
      "outputs": [
        {
          "output_type": "stream",
          "name": "stdout",
          "text": [
            "+----+--------+---------+--------------------+--------------------+------------+\n",
            "|year|    dept|   salary|         list_salary|      average_salary|total_salary|\n",
            "+----+--------+---------+--------------------+--------------------+------------+\n",
            "|2005|Accounts|     3101|              [3101]|              3101.0|        3101|\n",
            "|2007|Accounts|     3419|        [3101, 3419]|              3260.0|        6520|\n",
            "|2006|Accounts|     3642|  [3101, 3419, 3642]|  3387.3333333333335|       10162|\n",
            "|2004|Accounts|     3645|[3101, 3419, 3642...|             3451.75|       13807|\n",
            "|2009|Accounts|     5024|[3101, 3419, 3642...|              3766.2|       18831|\n",
            "|2008|Accounts|     5221|[3101, 3419, 3642...|  4008.6666666666665|       24052|\n",
            "|2010|Accounts|     5281|[3101, 3419, 3642...|   4190.428571428572|       29333|\n",
            "|2015|Accounts|     5353|[3101, 3419, 3642...|             4335.75|       34686|\n",
            "|2016|Accounts|     5478|[3101, 3419, 3642...|   4462.666666666667|       40164|\n",
            "|2012|Accounts|     5524|[3101, 3419, 3642...|              4568.8|       45688|\n",
            "|2011|Accounts|     5618|[3101, 3419, 3642...|   4664.181818181818|       51306|\n",
            "|2014|Accounts|     5978|[3101, 3419, 3642...|   4773.666666666667|       57284|\n",
            "|2018|Accounts|     6255|[3101, 3419, 3642...|   4887.615384615385|       63539|\n",
            "|2013|Accounts|     6459|[3101, 3419, 3642...|   4999.857142857143|       69998|\n",
            "|2017|Accounts|     7200|[3101, 3419, 3642...|   5146.533333333334|       77198|\n",
            "|2020|Accounts|     7463|[3101, 3419, 3642...|           5291.3125|       84661|\n",
            "|2019|Accounts|     7883|[3101, 3419, 3642...|   5443.764705882353|       92544|\n",
            "|2005|Accounts|  4239440|[3101, 3419, 3642...|  240665.77777777778|     4331984|\n",
            "|2006|Accounts|  4259693|[3101, 3419, 3642...|   452193.5263157895|     8591677|\n",
            "|2004|Accounts|  4409580|[3101, 3419, 3642...|           650062.85|    13001257|\n",
            "|2007|Accounts|  4934380|[3101, 3419, 3642...|   854077.9523809524|    17935637|\n",
            "|2009|Accounts|  6220967|[3101, 3419, 3642...|  1098027.4545454546|    24156604|\n",
            "|2008|Accounts|  6265959|[3101, 3419, 3642...|  1322720.1304347827|    30422563|\n",
            "|2010|Accounts|  6484685|[3101, 3419, 3642...|           1537802.0|    36907248|\n",
            "|2011|Accounts|  7288419|[3101, 3419, 3642...|          1767826.68|    44195667|\n",
            "|2012|Accounts|  7509088|[3101, 3419, 3642...|   1988644.423076923|    51704755|\n",
            "|2013|Accounts|  7721924|[3101, 3419, 3642...|   2200988.111111111|    59426679|\n",
            "|2017|Accounts|  7781718|[3101, 3419, 3642...|  2400299.8928571427|    67208397|\n",
            "|2014|Accounts|  7844410|[3101, 3419, 3642...|   2588027.827586207|    75052807|\n",
            "|2016|Accounts|  7904509|[3101, 3419, 3642...|  2765243.8666666667|    82957316|\n",
            "|2018|Accounts|  8152327|[3101, 3419, 3642...|  2939020.7419354836|    91109643|\n",
            "|2015|Accounts|  8169770|[3101, 3419, 3642...|       3102481.65625|    99279413|\n",
            "|2019|Accounts|  8384500|[3101, 3419, 3642...|  3262542.8181818184|   107663913|\n",
            "|2020|Accounts|  8636898|[3101, 3419, 3642...|   3420612.088235294|   116300811|\n",
            "|2017|      HR|    51834|             [51834]|             51834.0|       51834|\n",
            "|2020|      HR|    53407|      [51834, 53407]|             52620.5|      105241|\n",
            "|2018|      HR|    58578|[51834, 53407, 58...|  54606.333333333336|      163819|\n",
            "|2010|      HR|    58842|[51834, 53407, 58...|            55665.25|      222661|\n",
            "|2019|      HR|    60633|[51834, 53407, 58...|             56658.8|      283294|\n",
            "|2011|      HR|    62761|[51834, 53407, 58...|  57675.833333333336|      346055|\n",
            "|2006|      HR|    67236|[51834, 53407, 58...|   59041.57142857143|      413291|\n",
            "|2009|      HR|    67373|[51834, 53407, 58...|             60083.0|      480664|\n",
            "|2007|      HR|    69582|[51834, 53407, 58...|  61138.444444444445|      550246|\n",
            "|2015|      HR|    71481|[51834, 53407, 58...|             62172.7|      621727|\n",
            "|2016|      HR|    72798|[51834, 53407, 58...|   63138.63636363636|      694525|\n",
            "|2008|      HR|    74245|[51834, 53407, 58...|  64064.166666666664|      768770|\n",
            "|2012|      HR|    88668|[51834, 53407, 58...|   65956.76923076923|      857438|\n",
            "|2013|      HR|    89085|[51834, 53407, 58...|   67608.78571428571|      946523|\n",
            "|2014|      HR|    91534|[51834, 53407, 58...|             69203.8|     1038057|\n",
            "|2005|      HR|   114120|[51834, 53407, 58...|          72011.0625|     1152177|\n",
            "|2004|      HR|   211648|[51834, 53407, 58...|             80225.0|     1363825|\n",
            "|2004|      IT|     2004|              [2004]|              2004.0|        2004|\n",
            "|2009|      IT|    10941|       [2004, 10941]|              6472.5|       12945|\n",
            "|2010|      IT|    11517|[2004, 10941, 11517]|              8154.0|       24462|\n",
            "|2012|      IT|    11706|[2004, 10941, 115...|              9042.0|       36168|\n",
            "|2011|      IT|    11811|[2004, 10941, 115...|              9595.8|       47979|\n",
            "|2013|      IT|    12243|[2004, 10941, 115...|             10037.0|       60222|\n",
            "|2020|      IT|    19736|[2004, 10941, 115...|   11422.57142857143|       79958|\n",
            "|2019|      IT|    20178|[2004, 10941, 115...|             12517.0|      100136|\n",
            "|2018|      IT|    20734|[2004, 10941, 115...|             13430.0|      120870|\n",
            "|2017|      IT|    21521|[2004, 10941, 115...|             14239.1|      142391|\n",
            "|2015|      IT|    21837|[2004, 10941, 115...|  14929.818181818182|      164228|\n",
            "|2014|      IT|    24260|[2004, 10941, 115...|  15707.333333333334|      188488|\n",
            "|2016|      IT|    27104|[2004, 10941, 115...|             16584.0|      215592|\n",
            "|2005|      IT|   773217|[2004, 10941, 115...|   70629.21428571429|      988809|\n",
            "|2004|      IT|  1005417|[2004, 10941, 115...|            132948.4|     1994226|\n",
            "|2006|      IT|  1095922|[2004, 10941, 115...|           193134.25|     3090148|\n",
            "|2007|      IT|  1138316|[2004, 10941, 115...|  248733.17647058822|     4228464|\n",
            "|2008|      IT|  1416894|[2004, 10941, 115...|            313631.0|     5645358|\n",
            "|2009|      IT|  2019479|[2004, 10941, 115...|   403412.4736842105|     7664837|\n",
            "|2010|      IT|  2542073|[2004, 10941, 115...|            510345.5|    10206910|\n",
            "|2011|      IT|  2689232|[2004, 10941, 115...|            614102.0|    12896142|\n",
            "|2005|      IT|  2974005|[2004, 10941, 115...|   721370.3181818182|    15870147|\n",
            "|2008|      IT|  3016587|[2004, 10941, 115...|   821162.3478260869|    18886734|\n",
            "|2007|      IT|  3178311|[2004, 10941, 115...|          919376.875|    22065045|\n",
            "|2012|      IT|  3236243|[2004, 10941, 115...|          1012051.52|    25301288|\n",
            "|2006|      IT|  3285138|[2004, 10941, 115...|   1099477.923076923|    28586426|\n",
            "|2013|      IT|  3795735|[2004, 10941, 115...|  1199339.2962962964|    32382161|\n",
            "|2014|      IT|  4299050|[2004, 10941, 115...|          1310043.25|    36681211|\n",
            "|2020|      IT|  4670830|[2004, 10941, 115...|   1425932.448275862|    41352041|\n",
            "|2015|      IT|  4690606|[2004, 10941, 115...|           1534754.9|    46042647|\n",
            "|2016|      IT|  4726335|[2004, 10941, 115...|  1637709.0967741935|    50768982|\n",
            "|2017|      IT|  4758361|[2004, 10941, 115...|       1735229.46875|    55527343|\n",
            "|2019|      IT|  4764152|[2004, 10941, 115...|           1827015.0|    60291495|\n",
            "|2018|      IT|  4774996|[2004, 10941, 115...|  1913720.3235294118|    65066491|\n",
            "|2004|      IT| 62022432|[2004, 10941, 115...|  3631112.0857142857|   127088923|\n",
            "|2005|      IT| 62275153|[2004, 10941, 115...|   5260113.222222222|   189364076|\n",
            "|2006|      IT| 65932248|[2004, 10941, 115...|  6899900.6486486485|   255296324|\n",
            "|2007|      IT| 74628627|[2004, 10941, 115...|    8682235.55263158|   329924951|\n",
            "|2008|      IT| 87331563|[2004, 10941, 115...|1.0698884974358974E7|   417256514|\n",
            "|2009|      IT| 98233219|[2004, 10941, 115...|      1.2887243325E7|   515489733|\n",
            "|2010|      IT| 98454678|[2004, 10941, 115...| 1.497425392682927E7|   613944411|\n",
            "|2011|      IT|110663416|[2004, 10941, 115...| 1.725256730952381E7|   724607827|\n",
            "|2012|      IT|123622839|[2004, 10941, 115...|1.9726294558139537E7|   848230666|\n",
            "|2013|      IT|133153378|[2004, 10941, 115...|2.2304182818181816E7|   981384044|\n",
            "|2014|      IT|144047365|[2004, 10941, 115...|2.5009586866666667E7|  1125431409|\n",
            "|2015|      IT|155456464|[2004, 10941, 115...| 2.784538854347826E7|  1280887873|\n",
            "|2016|      IT|165399170|[2004, 10941, 115...| 3.077206474468085E7|  1446287043|\n",
            "|2017|      IT|171016265|[2004, 10941, 115...|3.3693818916666664E7|  1617303308|\n",
            "|2018|      IT|177786497|[2004, 10941, 115...| 3.663448581632653E7|  1795089805|\n",
            "+----+--------+---------+--------------------+--------------------+------------+\n",
            "only showing top 100 rows\n",
            "\n"
          ]
        }
      ]
    },
    {
      "cell_type": "code",
      "source": [],
      "metadata": {
        "id": "3vyAKA2mQnuw"
      },
      "execution_count": null,
      "outputs": []
    },
    {
      "cell_type": "code",
      "source": [],
      "metadata": {
        "id": "4ZU3VqqhQn1_"
      },
      "execution_count": null,
      "outputs": []
    },
    {
      "cell_type": "code",
      "source": [],
      "metadata": {
        "id": "xjYHP6l9Qn6v"
      },
      "execution_count": null,
      "outputs": []
    },
    {
      "cell_type": "code",
      "source": [
        "data.select('list_salary').show()"
      ],
      "metadata": {
        "colab": {
          "base_uri": "https://localhost:8080/"
        },
        "id": "CLdvsL6oMXNB",
        "outputId": "9dca1290-74e2-4315-bef8-c5fb0ed8e16e"
      },
      "execution_count": 201,
      "outputs": [
        {
          "output_type": "stream",
          "name": "stdout",
          "text": [
            "+--------------------+\n",
            "|         list_salary|\n",
            "+--------------------+\n",
            "|[4409580, 3645, 4...|\n",
            "|[4409580, 3645, 4...|\n",
            "|[4409580, 3645, 4...|\n",
            "|[4409580, 3645, 4...|\n",
            "|[4409580, 3645, 4...|\n",
            "|[4409580, 3645, 4...|\n",
            "|[4409580, 3645, 4...|\n",
            "|[4409580, 3645, 4...|\n",
            "|[4409580, 3645, 4...|\n",
            "|[4409580, 3645, 4...|\n",
            "|[4409580, 3645, 4...|\n",
            "|[4409580, 3645, 4...|\n",
            "|[4409580, 3645, 4...|\n",
            "|[4409580, 3645, 4...|\n",
            "|[4409580, 3645, 4...|\n",
            "|[4409580, 3645, 4...|\n",
            "|[4409580, 3645, 4...|\n",
            "|[4409580, 3645, 4...|\n",
            "|[4409580, 3645, 4...|\n",
            "|[4409580, 3645, 4...|\n",
            "+--------------------+\n",
            "only showing top 20 rows\n",
            "\n"
          ]
        }
      ]
    },
    {
      "cell_type": "code",
      "source": [
        "windowSpec  = Window.partitionBy(\"dept\").orderBy(\"salary\")"
      ],
      "metadata": {
        "id": "0UC3HeXF4eRS"
      },
      "execution_count": 193,
      "outputs": []
    },
    {
      "cell_type": "code",
      "source": [
        "type(df.withColumn(\"row_number\",F.row_number().over(windowSpec)))"
      ],
      "metadata": {
        "colab": {
          "base_uri": "https://localhost:8080/"
        },
        "id": "99eG-Zs17t6f",
        "outputId": "b94450ec-095c-4c6e-8078-e998357e969f"
      },
      "execution_count": 195,
      "outputs": [
        {
          "output_type": "execute_result",
          "data": {
            "text/plain": [
              "pyspark.sql.dataframe.DataFrame"
            ]
          },
          "metadata": {},
          "execution_count": 195
        }
      ]
    },
    {
      "cell_type": "code",
      "source": [
        "df.withColumn(\"row_number\",F.row_number().over(windowSpec)).show()"
      ],
      "metadata": {
        "colab": {
          "base_uri": "https://localhost:8080/"
        },
        "id": "mIrmRgAm7U7e",
        "outputId": "170a04c6-ebd1-4c60-b572-6bac4dbe3e93"
      },
      "execution_count": 194,
      "outputs": [
        {
          "output_type": "stream",
          "name": "stdout",
          "text": [
            "+----+--------+-------+----------+\n",
            "|year|    dept| salary|row_number|\n",
            "+----+--------+-------+----------+\n",
            "|2005|Accounts|   3101|         1|\n",
            "|2007|Accounts|   3419|         2|\n",
            "|2006|Accounts|   3642|         3|\n",
            "|2004|Accounts|   3645|         4|\n",
            "|2009|Accounts|   5024|         5|\n",
            "|2008|Accounts|   5221|         6|\n",
            "|2010|Accounts|   5281|         7|\n",
            "|2015|Accounts|   5353|         8|\n",
            "|2016|Accounts|   5478|         9|\n",
            "|2012|Accounts|   5524|        10|\n",
            "|2011|Accounts|   5618|        11|\n",
            "|2014|Accounts|   5978|        12|\n",
            "|2018|Accounts|   6255|        13|\n",
            "|2013|Accounts|   6459|        14|\n",
            "|2017|Accounts|   7200|        15|\n",
            "|2020|Accounts|   7463|        16|\n",
            "|2019|Accounts|   7883|        17|\n",
            "|2005|Accounts|4239440|        18|\n",
            "|2006|Accounts|4259693|        19|\n",
            "|2004|Accounts|4409580|        20|\n",
            "+----+--------+-------+----------+\n",
            "only showing top 20 rows\n",
            "\n"
          ]
        }
      ]
    },
    {
      "cell_type": "code",
      "source": [
        "df.withColumn(\"ntile\",F.ntile(2).over(windowSpec)) \\\n",
        "    .show()"
      ],
      "metadata": {
        "colab": {
          "base_uri": "https://localhost:8080/"
        },
        "id": "X4h2AKql7si0",
        "outputId": "6d682cea-6671-4b84-8060-b0c9e8c38e40"
      },
      "execution_count": 196,
      "outputs": [
        {
          "output_type": "stream",
          "name": "stdout",
          "text": [
            "+----+--------+-------+-----+\n",
            "|year|    dept| salary|ntile|\n",
            "+----+--------+-------+-----+\n",
            "|2005|Accounts|   3101|    1|\n",
            "|2007|Accounts|   3419|    1|\n",
            "|2006|Accounts|   3642|    1|\n",
            "|2004|Accounts|   3645|    1|\n",
            "|2009|Accounts|   5024|    1|\n",
            "|2008|Accounts|   5221|    1|\n",
            "|2010|Accounts|   5281|    1|\n",
            "|2015|Accounts|   5353|    1|\n",
            "|2016|Accounts|   5478|    1|\n",
            "|2012|Accounts|   5524|    1|\n",
            "|2011|Accounts|   5618|    1|\n",
            "|2014|Accounts|   5978|    1|\n",
            "|2018|Accounts|   6255|    1|\n",
            "|2013|Accounts|   6459|    1|\n",
            "|2017|Accounts|   7200|    1|\n",
            "|2020|Accounts|   7463|    1|\n",
            "|2019|Accounts|   7883|    1|\n",
            "|2005|Accounts|4239440|    2|\n",
            "|2006|Accounts|4259693|    2|\n",
            "|2004|Accounts|4409580|    2|\n",
            "+----+--------+-------+-----+\n",
            "only showing top 20 rows\n",
            "\n"
          ]
        }
      ]
    },
    {
      "cell_type": "code",
      "source": [],
      "metadata": {
        "id": "Y4T6t8z47snK"
      },
      "execution_count": 196,
      "outputs": []
    },
    {
      "cell_type": "markdown",
      "source": [
        "# corr"
      ],
      "metadata": {
        "id": "JlTDyhNtSNYT"
      }
    },
    {
      "cell_type": "code",
      "source": [
        "from pyspark.ml.stat import Correlation"
      ],
      "metadata": {
        "id": "y9ZW2sEkTTyT"
      },
      "execution_count": 217,
      "outputs": []
    },
    {
      "cell_type": "code",
      "source": [
        "df = spark.read.csv(\"house_price_corr.csv\",inferSchema=True, header=True)\n",
        "df.show(3)"
      ],
      "metadata": {
        "colab": {
          "base_uri": "https://localhost:8080/"
        },
        "id": "CRVdRZpW7sqy",
        "outputId": "83699aa1-10db-48d5-f490-453141f160d8"
      },
      "execution_count": 215,
      "outputs": [
        {
          "output_type": "stream",
          "name": "stdout",
          "text": [
            "+-----------+-----------+---------+----------+---------+\n",
            "|OverallQual|OverallCond|GrLivArea|GarageArea|SalePrice|\n",
            "+-----------+-----------+---------+----------+---------+\n",
            "|          7|          5|     1710|       548|   208500|\n",
            "|          6|          8|     1262|       460|   181500|\n",
            "|          7|          5|     1786|       608|   223500|\n",
            "+-----------+-----------+---------+----------+---------+\n",
            "only showing top 3 rows\n",
            "\n"
          ]
        }
      ]
    },
    {
      "cell_type": "code",
      "source": [
        "df.printSchema()"
      ],
      "metadata": {
        "colab": {
          "base_uri": "https://localhost:8080/"
        },
        "id": "VtwIzEYh7st_",
        "outputId": "651fe047-e548-43d3-bb69-c5e43be35bd2"
      },
      "execution_count": 216,
      "outputs": [
        {
          "output_type": "stream",
          "name": "stdout",
          "text": [
            "root\n",
            " |-- OverallQual: integer (nullable = true)\n",
            " |-- OverallCond: integer (nullable = true)\n",
            " |-- GrLivArea: integer (nullable = true)\n",
            " |-- GarageArea: integer (nullable = true)\n",
            " |-- SalePrice: integer (nullable = true)\n",
            "\n"
          ]
        }
      ]
    },
    {
      "cell_type": "code",
      "source": [
        "\n",
        "\n",
        "df.corr(\"OverallQual\", \"SalePrice\")"
      ],
      "metadata": {
        "colab": {
          "base_uri": "https://localhost:8080/"
        },
        "id": "shViaT4j7szu",
        "outputId": "b75ed8b8-ee2b-4643-ab64-be418874f31e"
      },
      "execution_count": 218,
      "outputs": [
        {
          "output_type": "execute_result",
          "data": {
            "text/plain": [
              "0.7088680571901927"
            ]
          },
          "metadata": {},
          "execution_count": 218
        }
      ]
    },
    {
      "cell_type": "code",
      "source": [
        "df.corr(\"GrLivArea\", \"SalePrice\")"
      ],
      "metadata": {
        "colab": {
          "base_uri": "https://localhost:8080/"
        },
        "id": "mkatLzsm7s3T",
        "outputId": "f09bc58f-055a-47b3-97dd-155e0eee5db7"
      },
      "execution_count": 219,
      "outputs": [
        {
          "output_type": "execute_result",
          "data": {
            "text/plain": [
              "0.3178067172984518"
            ]
          },
          "metadata": {},
          "execution_count": 219
        }
      ]
    },
    {
      "cell_type": "code",
      "source": [
        "df.corr(\"GarageArea\", \"SalePrice\")"
      ],
      "metadata": {
        "colab": {
          "base_uri": "https://localhost:8080/"
        },
        "id": "zqSWv2edTeTs",
        "outputId": "a950bddd-c7d2-4ee8-e0bd-4280e3a24cd5"
      },
      "execution_count": 220,
      "outputs": [
        {
          "output_type": "execute_result",
          "data": {
            "text/plain": [
              "0.5053657033548684"
            ]
          },
          "metadata": {},
          "execution_count": 220
        }
      ]
    },
    {
      "cell_type": "code",
      "source": [
        "df.corr(\"SalePrice\", \"SalePrice\")"
      ],
      "metadata": {
        "colab": {
          "base_uri": "https://localhost:8080/"
        },
        "id": "HnRJ1vqoTg9y",
        "outputId": "a2f7ed78-4f07-4c2f-f531-19a57c84f95e"
      },
      "execution_count": 221,
      "outputs": [
        {
          "output_type": "execute_result",
          "data": {
            "text/plain": [
              "1.0"
            ]
          },
          "metadata": {},
          "execution_count": 221
        }
      ]
    },
    {
      "cell_type": "code",
      "source": [
        "df.dtypes"
      ],
      "metadata": {
        "colab": {
          "base_uri": "https://localhost:8080/"
        },
        "id": "xmikXUgATjfs",
        "outputId": "267eac16-6df7-4a8a-b92b-f75e6aabc414"
      },
      "execution_count": 222,
      "outputs": [
        {
          "output_type": "execute_result",
          "data": {
            "text/plain": [
              "[('OverallQual', 'int'),\n",
              " ('OverallCond', 'int'),\n",
              " ('GrLivArea', 'int'),\n",
              " ('GarageArea', 'int'),\n",
              " ('SalePrice', 'int')]"
            ]
          },
          "metadata": {},
          "execution_count": 222
        }
      ]
    },
    {
      "cell_type": "code",
      "source": [
        "from pyspark.ml.feature import VectorAssembler"
      ],
      "metadata": {
        "id": "5sjyifjiUTRG"
      },
      "execution_count": 229,
      "outputs": []
    },
    {
      "cell_type": "code",
      "source": [
        "vector_col = \"corr_features\"\n",
        "assembler = VectorAssembler(inputCols=df.columns, outputCol=vector_col)\n",
        "df_vector = assembler.transform(df).select(vector_col)"
      ],
      "metadata": {
        "id": "_nL-aw77U57D"
      },
      "execution_count": 230,
      "outputs": []
    },
    {
      "cell_type": "code",
      "source": [
        "matrix = Correlation.corr(df_vector, vector_col).collect()[0][0]\n",
        "corrmatrix = matrix.toArray().tolist()\n",
        "print(corrmatrix)"
      ],
      "metadata": {
        "colab": {
          "base_uri": "https://localhost:8080/"
        },
        "id": "HEB0K_QDU9F9",
        "outputId": "a0cea20c-1584-41b3-fe9a-72a08b3103ad"
      },
      "execution_count": 231,
      "outputs": [
        {
          "output_type": "stream",
          "name": "stdout",
          "text": [
            "[[1.0, -0.02774753460233952, 0.4573644491898405, 0.20120788591271033, 0.7088680571901929], [-0.02774753460233952, 1.0, -0.1248672533677727, -0.25121753977210914, -0.20552834539920514], [0.4573644491898405, -0.1248672533677727, 1.0, 0.1472812727140397, 0.31780671729845184], [0.20120788591271033, -0.25121753977210914, 0.1472812727140397, 1.0, 0.5053657033548684], [0.7088680571901929, -0.20552834539920514, 0.31780671729845184, 0.5053657033548684, 1.0]]\n"
          ]
        }
      ]
    },
    {
      "cell_type": "code",
      "source": [
        "type(corrmatrix)"
      ],
      "metadata": {
        "colab": {
          "base_uri": "https://localhost:8080/"
        },
        "id": "xA7Rd7ZcVH79",
        "outputId": "1b9efc05-bb4a-40f2-af2f-ae0472ba27cf"
      },
      "execution_count": 232,
      "outputs": [
        {
          "output_type": "execute_result",
          "data": {
            "text/plain": [
              "list"
            ]
          },
          "metadata": {},
          "execution_count": 232
        }
      ]
    },
    {
      "cell_type": "code",
      "source": [
        "import pandas as pd\n",
        "pd.DataFrame(corrmatrix,index=df.columns, columns=df.columns)"
      ],
      "metadata": {
        "colab": {
          "base_uri": "https://localhost:8080/",
          "height": 206
        },
        "id": "VDmyIg56VLd2",
        "outputId": "da0baf5a-c7e3-4e36-9100-7b5b652599f1"
      },
      "execution_count": 238,
      "outputs": [
        {
          "output_type": "execute_result",
          "data": {
            "text/plain": [
              "             OverallQual  OverallCond  GrLivArea  GarageArea  SalePrice\n",
              "OverallQual     1.000000    -0.027748   0.457364    0.201208   0.708868\n",
              "OverallCond    -0.027748     1.000000  -0.124867   -0.251218  -0.205528\n",
              "GrLivArea       0.457364    -0.124867   1.000000    0.147281   0.317807\n",
              "GarageArea      0.201208    -0.251218   0.147281    1.000000   0.505366\n",
              "SalePrice       0.708868    -0.205528   0.317807    0.505366   1.000000"
            ],
            "text/html": [
              "\n",
              "  <div id=\"df-56bd8f63-e85e-4c8a-a8df-de964b15d620\">\n",
              "    <div class=\"colab-df-container\">\n",
              "      <div>\n",
              "<style scoped>\n",
              "    .dataframe tbody tr th:only-of-type {\n",
              "        vertical-align: middle;\n",
              "    }\n",
              "\n",
              "    .dataframe tbody tr th {\n",
              "        vertical-align: top;\n",
              "    }\n",
              "\n",
              "    .dataframe thead th {\n",
              "        text-align: right;\n",
              "    }\n",
              "</style>\n",
              "<table border=\"1\" class=\"dataframe\">\n",
              "  <thead>\n",
              "    <tr style=\"text-align: right;\">\n",
              "      <th></th>\n",
              "      <th>OverallQual</th>\n",
              "      <th>OverallCond</th>\n",
              "      <th>GrLivArea</th>\n",
              "      <th>GarageArea</th>\n",
              "      <th>SalePrice</th>\n",
              "    </tr>\n",
              "  </thead>\n",
              "  <tbody>\n",
              "    <tr>\n",
              "      <th>OverallQual</th>\n",
              "      <td>1.000000</td>\n",
              "      <td>-0.027748</td>\n",
              "      <td>0.457364</td>\n",
              "      <td>0.201208</td>\n",
              "      <td>0.708868</td>\n",
              "    </tr>\n",
              "    <tr>\n",
              "      <th>OverallCond</th>\n",
              "      <td>-0.027748</td>\n",
              "      <td>1.000000</td>\n",
              "      <td>-0.124867</td>\n",
              "      <td>-0.251218</td>\n",
              "      <td>-0.205528</td>\n",
              "    </tr>\n",
              "    <tr>\n",
              "      <th>GrLivArea</th>\n",
              "      <td>0.457364</td>\n",
              "      <td>-0.124867</td>\n",
              "      <td>1.000000</td>\n",
              "      <td>0.147281</td>\n",
              "      <td>0.317807</td>\n",
              "    </tr>\n",
              "    <tr>\n",
              "      <th>GarageArea</th>\n",
              "      <td>0.201208</td>\n",
              "      <td>-0.251218</td>\n",
              "      <td>0.147281</td>\n",
              "      <td>1.000000</td>\n",
              "      <td>0.505366</td>\n",
              "    </tr>\n",
              "    <tr>\n",
              "      <th>SalePrice</th>\n",
              "      <td>0.708868</td>\n",
              "      <td>-0.205528</td>\n",
              "      <td>0.317807</td>\n",
              "      <td>0.505366</td>\n",
              "      <td>1.000000</td>\n",
              "    </tr>\n",
              "  </tbody>\n",
              "</table>\n",
              "</div>\n",
              "      <button class=\"colab-df-convert\" onclick=\"convertToInteractive('df-56bd8f63-e85e-4c8a-a8df-de964b15d620')\"\n",
              "              title=\"Convert this dataframe to an interactive table.\"\n",
              "              style=\"display:none;\">\n",
              "        \n",
              "  <svg xmlns=\"http://www.w3.org/2000/svg\" height=\"24px\"viewBox=\"0 0 24 24\"\n",
              "       width=\"24px\">\n",
              "    <path d=\"M0 0h24v24H0V0z\" fill=\"none\"/>\n",
              "    <path d=\"M18.56 5.44l.94 2.06.94-2.06 2.06-.94-2.06-.94-.94-2.06-.94 2.06-2.06.94zm-11 1L8.5 8.5l.94-2.06 2.06-.94-2.06-.94L8.5 2.5l-.94 2.06-2.06.94zm10 10l.94 2.06.94-2.06 2.06-.94-2.06-.94-.94-2.06-.94 2.06-2.06.94z\"/><path d=\"M17.41 7.96l-1.37-1.37c-.4-.4-.92-.59-1.43-.59-.52 0-1.04.2-1.43.59L10.3 9.45l-7.72 7.72c-.78.78-.78 2.05 0 2.83L4 21.41c.39.39.9.59 1.41.59.51 0 1.02-.2 1.41-.59l7.78-7.78 2.81-2.81c.8-.78.8-2.07 0-2.86zM5.41 20L4 18.59l7.72-7.72 1.47 1.35L5.41 20z\"/>\n",
              "  </svg>\n",
              "      </button>\n",
              "      \n",
              "  <style>\n",
              "    .colab-df-container {\n",
              "      display:flex;\n",
              "      flex-wrap:wrap;\n",
              "      gap: 12px;\n",
              "    }\n",
              "\n",
              "    .colab-df-convert {\n",
              "      background-color: #E8F0FE;\n",
              "      border: none;\n",
              "      border-radius: 50%;\n",
              "      cursor: pointer;\n",
              "      display: none;\n",
              "      fill: #1967D2;\n",
              "      height: 32px;\n",
              "      padding: 0 0 0 0;\n",
              "      width: 32px;\n",
              "    }\n",
              "\n",
              "    .colab-df-convert:hover {\n",
              "      background-color: #E2EBFA;\n",
              "      box-shadow: 0px 1px 2px rgba(60, 64, 67, 0.3), 0px 1px 3px 1px rgba(60, 64, 67, 0.15);\n",
              "      fill: #174EA6;\n",
              "    }\n",
              "\n",
              "    [theme=dark] .colab-df-convert {\n",
              "      background-color: #3B4455;\n",
              "      fill: #D2E3FC;\n",
              "    }\n",
              "\n",
              "    [theme=dark] .colab-df-convert:hover {\n",
              "      background-color: #434B5C;\n",
              "      box-shadow: 0px 1px 3px 1px rgba(0, 0, 0, 0.15);\n",
              "      filter: drop-shadow(0px 1px 2px rgba(0, 0, 0, 0.3));\n",
              "      fill: #FFFFFF;\n",
              "    }\n",
              "  </style>\n",
              "\n",
              "      <script>\n",
              "        const buttonEl =\n",
              "          document.querySelector('#df-56bd8f63-e85e-4c8a-a8df-de964b15d620 button.colab-df-convert');\n",
              "        buttonEl.style.display =\n",
              "          google.colab.kernel.accessAllowed ? 'block' : 'none';\n",
              "\n",
              "        async function convertToInteractive(key) {\n",
              "          const element = document.querySelector('#df-56bd8f63-e85e-4c8a-a8df-de964b15d620');\n",
              "          const dataTable =\n",
              "            await google.colab.kernel.invokeFunction('convertToInteractive',\n",
              "                                                     [key], {});\n",
              "          if (!dataTable) return;\n",
              "\n",
              "          const docLinkHtml = 'Like what you see? Visit the ' +\n",
              "            '<a target=\"_blank\" href=https://colab.research.google.com/notebooks/data_table.ipynb>data table notebook</a>'\n",
              "            + ' to learn more about interactive tables.';\n",
              "          element.innerHTML = '';\n",
              "          dataTable['output_type'] = 'display_data';\n",
              "          await google.colab.output.renderOutput(dataTable, element);\n",
              "          const docLink = document.createElement('div');\n",
              "          docLink.innerHTML = docLinkHtml;\n",
              "          element.appendChild(docLink);\n",
              "        }\n",
              "      </script>\n",
              "    </div>\n",
              "  </div>\n",
              "  "
            ]
          },
          "metadata": {},
          "execution_count": 238
        }
      ]
    },
    {
      "cell_type": "code",
      "source": [
        "df_corr = spark.createDataFrame(corrmatrix,df.columns)\n",
        "df_corr.show()"
      ],
      "metadata": {
        "colab": {
          "base_uri": "https://localhost:8080/"
        },
        "id": "FwSyYLYAVWEu",
        "outputId": "2ddae759-241d-43c4-ad61-d040d0298db5"
      },
      "execution_count": 239,
      "outputs": [
        {
          "output_type": "stream",
          "name": "stdout",
          "text": [
            "+--------------------+--------------------+-------------------+--------------------+--------------------+\n",
            "|         OverallQual|         OverallCond|          GrLivArea|          GarageArea|           SalePrice|\n",
            "+--------------------+--------------------+-------------------+--------------------+--------------------+\n",
            "|                 1.0|-0.02774753460233952| 0.4573644491898405| 0.20120788591271033|  0.7088680571901929|\n",
            "|-0.02774753460233952|                 1.0|-0.1248672533677727|-0.25121753977210914|-0.20552834539920514|\n",
            "|  0.4573644491898405| -0.1248672533677727|                1.0|  0.1472812727140397| 0.31780671729845184|\n",
            "| 0.20120788591271033|-0.25121753977210914| 0.1472812727140397|                 1.0|  0.5053657033548684|\n",
            "|  0.7088680571901929|-0.20552834539920514|0.31780671729845184|  0.5053657033548684|                 1.0|\n",
            "+--------------------+--------------------+-------------------+--------------------+--------------------+\n",
            "\n"
          ]
        }
      ]
    },
    {
      "cell_type": "code",
      "source": [
        "df_corr.select('GrLivArea', 'GarageArea', 'SalePrice').show()"
      ],
      "metadata": {
        "colab": {
          "base_uri": "https://localhost:8080/"
        },
        "id": "QsdnvW0wWx8Z",
        "outputId": "102294b5-65a8-4726-ed4a-7b5f03599a46"
      },
      "execution_count": 244,
      "outputs": [
        {
          "output_type": "stream",
          "name": "stdout",
          "text": [
            "+-------------------+--------------------+--------------------+\n",
            "|          GrLivArea|          GarageArea|           SalePrice|\n",
            "+-------------------+--------------------+--------------------+\n",
            "| 0.4573644491898405| 0.20120788591271033|  0.7088680571901929|\n",
            "|-0.1248672533677727|-0.25121753977210914|-0.20552834539920514|\n",
            "|                1.0|  0.1472812727140397| 0.31780671729845184|\n",
            "| 0.1472812727140397|                 1.0|  0.5053657033548684|\n",
            "|0.31780671729845184|  0.5053657033548684|                 1.0|\n",
            "+-------------------+--------------------+--------------------+\n",
            "\n"
          ]
        }
      ]
    },
    {
      "cell_type": "code",
      "source": [
        "import seaborn as sns"
      ],
      "metadata": {
        "id": "Q5--zX3DV1kS"
      },
      "execution_count": 240,
      "outputs": []
    },
    {
      "cell_type": "code",
      "source": [
        "sns.heatmap(corrmatrix, xticklabels=df.columns, \n",
        "           yticklabels=df.columns, annot=True)"
      ],
      "metadata": {
        "colab": {
          "base_uri": "https://localhost:8080/",
          "height": 524
        },
        "id": "xJ6_t-fNWGB-",
        "outputId": "fb58a525-a8ad-473e-c108-35e4d2aa589c"
      },
      "execution_count": 241,
      "outputs": [
        {
          "output_type": "execute_result",
          "data": {
            "text/plain": [
              "<Axes: >"
            ]
          },
          "metadata": {},
          "execution_count": 241
        },
        {
          "output_type": "display_data",
          "data": {
            "text/plain": [
              "<Figure size 640x480 with 2 Axes>"
            ],
            "image/png": "[encoded data removed]"
          },
          "metadata": {}
        }
      ]
    },
    {
      "cell_type": "markdown",
      "source": [
        "# chisquare test"
      ],
      "metadata": {
        "id": "j2Cw6oFLaX4g"
      }
    },
    {
      "cell_type": "code",
      "source": [
        "from pyspark.ml.feature import VectorAssembler\n",
        "from pyspark.ml.stat import ChiSquareTest"
      ],
      "metadata": {
        "id": "3aduAe3fWJwz"
      },
      "execution_count": 245,
      "outputs": []
    },
    {
      "cell_type": "code",
      "source": [
        "df = spark.read.csv(\"sample_data.csv\", inferSchema=True,\n",
        "                   header=True)\n",
        "df.show()"
      ],
      "metadata": {
        "colab": {
          "base_uri": "https://localhost:8080/"
        },
        "id": "8T9EP8OtaXM7",
        "outputId": "3251a145-45ff-4272-b798-f47f0df4d5ec"
      },
      "execution_count": 246,
      "outputs": [
        {
          "output_type": "stream",
          "name": "stdout",
          "text": [
            "+---+---------+------------+-----+\n",
            "|age|city_code|country_code|label|\n",
            "+---+---------+------------+-----+\n",
            "| 51|       35|          14|    0|\n",
            "| 49|        3|          14|    0|\n",
            "| 47|       32|          13|    0|\n",
            "| 46|       31|          15|    0|\n",
            "|  5|       36|          14|    0|\n",
            "| 54|       39|          17|    0|\n",
            "| 46|       34|          14|    0|\n",
            "|  5|       34|          15|    0|\n",
            "| 44|       29|          14|    0|\n",
            "| 49|       31|          15|    0|\n",
            "| 54|       37|          15|    0|\n",
            "| 48|       34|          16|    0|\n",
            "| 48|        3|          14|    0|\n",
            "| 43|        3|          11|    0|\n",
            "| 58|        4|          12|    0|\n",
            "| 57|       44|          15|    0|\n",
            "| 54|       39|          13|    0|\n",
            "| 51|       35|          14|    0|\n",
            "| 57|       38|          17|    0|\n",
            "| 51|       38|          15|    0|\n",
            "+---+---------+------------+-----+\n",
            "only showing top 20 rows\n",
            "\n"
          ]
        }
      ]
    },
    {
      "cell_type": "code",
      "source": [
        "df.printSchema()"
      ],
      "metadata": {
        "colab": {
          "base_uri": "https://localhost:8080/"
        },
        "id": "UjBGKiVoaXJ4",
        "outputId": "ca32a07d-134b-4565-fecf-753de71bca20"
      },
      "execution_count": 247,
      "outputs": [
        {
          "output_type": "stream",
          "name": "stdout",
          "text": [
            "root\n",
            " |-- age: integer (nullable = true)\n",
            " |-- city_code: integer (nullable = true)\n",
            " |-- country_code: integer (nullable = true)\n",
            " |-- label: integer (nullable = true)\n",
            "\n"
          ]
        }
      ]
    },
    {
      "cell_type": "code",
      "source": [
        "assembler = VectorAssembler(\n",
        "    inputCols=['age', 'city_code', 'country_code'],\n",
        "    outputCol=\"vector_features\")"
      ],
      "metadata": {
        "id": "SoXQ3an2aXFr"
      },
      "execution_count": 248,
      "outputs": []
    },
    {
      "cell_type": "code",
      "source": [
        "vectorized_df = assembler.transform(df).select('label', 'vector_features')"
      ],
      "metadata": {
        "id": "DEVv0ZJyaXBk"
      },
      "execution_count": 249,
      "outputs": []
    },
    {
      "cell_type": "code",
      "source": [
        "vectorized_df.show()"
      ],
      "metadata": {
        "colab": {
          "base_uri": "https://localhost:8080/"
        },
        "id": "ncCanNfIaW8U",
        "outputId": "1ee21387-f81d-41df-ee51-4e05f2ad3e55"
      },
      "execution_count": 250,
      "outputs": [
        {
          "output_type": "stream",
          "name": "stdout",
          "text": [
            "+-----+----------------+\n",
            "|label| vector_features|\n",
            "+-----+----------------+\n",
            "|    0|[51.0,35.0,14.0]|\n",
            "|    0| [49.0,3.0,14.0]|\n",
            "|    0|[47.0,32.0,13.0]|\n",
            "|    0|[46.0,31.0,15.0]|\n",
            "|    0| [5.0,36.0,14.0]|\n",
            "|    0|[54.0,39.0,17.0]|\n",
            "|    0|[46.0,34.0,14.0]|\n",
            "|    0| [5.0,34.0,15.0]|\n",
            "|    0|[44.0,29.0,14.0]|\n",
            "|    0|[49.0,31.0,15.0]|\n",
            "|    0|[54.0,37.0,15.0]|\n",
            "|    0|[48.0,34.0,16.0]|\n",
            "|    0| [48.0,3.0,14.0]|\n",
            "|    0| [43.0,3.0,11.0]|\n",
            "|    0| [58.0,4.0,12.0]|\n",
            "|    0|[57.0,44.0,15.0]|\n",
            "|    0|[54.0,39.0,13.0]|\n",
            "|    0|[51.0,35.0,14.0]|\n",
            "|    0|[57.0,38.0,17.0]|\n",
            "|    0|[51.0,38.0,15.0]|\n",
            "+-----+----------------+\n",
            "only showing top 20 rows\n",
            "\n"
          ]
        }
      ]
    },
    {
      "cell_type": "code",
      "source": [
        "result= ChiSquareTest.test(vectorized_df, \"vector_features\", \"label\").head()"
      ],
      "metadata": {
        "id": "HOdZE_a1aW5M"
      },
      "execution_count": 251,
      "outputs": []
    },
    {
      "cell_type": "code",
      "source": [
        "result= ChiSquareTest.test(vectorized_df, \"vector_features\", \"label\").head()\n",
        "print(\"pvalues: \" + str(result.pValues))\n",
        "print(\"degreesOfFreedom: \" + str(result.degreesOfFreedom))\n",
        "print(\"test statistics: \" + str(result.statistics))"
      ],
      "metadata": {
        "colab": {
          "base_uri": "https://localhost:8080/"
        },
        "id": "e8rvt0jEaW1F",
        "outputId": "e5deee62-5b1c-41d3-aad7-06a10fe309d2"
      },
      "execution_count": 258,
      "outputs": [
        {
          "output_type": "stream",
          "name": "stdout",
          "text": [
            "pvalues: [0.05354838241778692,0.007494454436545284,9.393896771570098e-11]\n",
            "degreesOfFreedom: [34, 22, 42]\n",
            "test statistics: [48.25357142857143,41.34555444555445,128.85000000000002]\n"
          ]
        }
      ]
    },
    {
      "cell_type": "code",
      "source": [
        "result.asDict()"
      ],
      "metadata": {
        "colab": {
          "base_uri": "https://localhost:8080/"
        },
        "id": "gdtiouT_aWwO",
        "outputId": "4bd7787a-5be3-4224-c5c8-b317f2b7fae9"
      },
      "execution_count": 257,
      "outputs": [
        {
          "output_type": "execute_result",
          "data": {
            "text/plain": [
              "{'pValues': DenseVector([0.0535, 0.0075, 0.0]),\n",
              " 'degreesOfFreedom': [34, 22, 42],\n",
              " 'statistics': DenseVector([48.2536, 41.3456, 128.85])}"
            ]
          },
          "metadata": {},
          "execution_count": 257
        }
      ]
    },
    {
      "cell_type": "code",
      "source": [],
      "metadata": {
        "id": "QZgP4nAcaWlH"
      },
      "execution_count": null,
      "outputs": []
    },
    {
      "cell_type": "code",
      "source": [],
      "metadata": {
        "id": "FcW7pvILaWfU"
      },
      "execution_count": null,
      "outputs": []
    }
  ]
}